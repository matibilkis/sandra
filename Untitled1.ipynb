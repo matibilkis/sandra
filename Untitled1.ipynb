{
 "cells": [
  {
   "cell_type": "code",
   "execution_count": 33,
   "id": "marine-jaguar",
   "metadata": {},
   "outputs": [
    {
     "name": "stdout",
     "output_type": "stream",
     "text": [
      "The autoreload extension is already loaded. To reload it, use:\n",
      "  %reload_ext autoreload\n"
     ]
    }
   ],
   "source": [
    "%load_ext autoreload\n",
    "%autoreload 2\n",
    "\n",
    "import tensorflow as tf\n",
    "from networks import Encoder, Decoder, MetaModel\n",
    "import numpy as np\n",
    "import ast\n",
    "from sindy import SINDy\n",
    "\n",
    "\n",
    "encoder = Encoder()\n",
    "decoder = Decoder()\n",
    "sindy = SINDy()\n",
    "\n",
    "models = [encoder, decoder, sindy]\n",
    "for model in [encoder,decoder, sindy]:\n",
    "    model.compile(optimizer=tf.keras.optimizers.Adam(lr=1e-3))"
   ]
  },
  {
   "cell_type": "code",
   "execution_count": 34,
   "id": "surprised-boring",
   "metadata": {},
   "outputs": [],
   "source": [
    "x = tf.random.uniform((2,40,128))\n",
    "x_dot = tf.random.uniform((2,40,128))"
   ]
  },
  {
   "cell_type": "code",
   "execution_count": 39,
   "id": "sharing-circuit",
   "metadata": {},
   "outputs": [
    {
     "name": "stdout",
     "output_type": "stream",
     "text": [
      "WARNING:tensorflow:11 out of the last 11 calls to <function pfor.<locals>.f at 0x7fc940644400> triggered tf.function retracing. Tracing is expensive and the excessive number of tracings could be due to (1) creating @tf.function repeatedly in a loop, (2) passing tensors with different shapes, (3) passing Python objects instead of tensors. For (1), please define your @tf.function outside of the loop. For (2), @tf.function has experimental_relax_shapes=True option that relaxes argument shapes that can avoid unnecessary retracing. For (3), please refer to https://www.tensorflow.org/tutorials/customization/performance#python_or_tensor_args and https://www.tensorflow.org/api_docs/python/tf/function for  more details.\n",
      "WARNING:tensorflow:11 out of the last 11 calls to <function pfor.<locals>.f at 0x7fc940644620> triggered tf.function retracing. Tracing is expensive and the excessive number of tracings could be due to (1) creating @tf.function repeatedly in a loop, (2) passing tensors with different shapes, (3) passing Python objects instead of tensors. For (1), please define your @tf.function outside of the loop. For (2), @tf.function has experimental_relax_shapes=True option that relaxes argument shapes that can avoid unnecessary retracing. For (3), please refer to https://www.tensorflow.org/tutorials/customization/performance#python_or_tensor_args and https://www.tensorflow.org/api_docs/python/tf/function for  more details.\n"
     ]
    }
   ],
   "source": [
    "with tf.GradientTape(persistent=True) as tape:\n",
    "    tape.watch(encoder.trainable_variables)\n",
    "    tape.watch(decoder.trainable_variables)\n",
    "    tape.watch(x)\n",
    "    tape.watch(tf.convert_to_tensor(sindy.coeffs))\n",
    "\n",
    "    ### LOSS 0###\n",
    "    z = encoder(x)\n",
    "    tape.watch(z)\n",
    "    x_quasi = decoder(z)\n",
    "    loss0 = tf.keras.losses.MSE(x,x_quasi)\n",
    "\n",
    "    ### LOSS 1 ###\n",
    "    zdot_SINDy = sindy(z)\n",
    "    with tape.stop_recording():\n",
    "        dpsi_dz = tape.jacobian(x_quasi,z)\n",
    "    ones = tf.ones(dpsi_dz.shape)\n",
    "    dpsi_dz = tf.einsum('abcdef,yuidep->abcf',dpsi_dz, ones) ### most of those derivatives are zero, since they correspond to different batches!\n",
    "    xdot_pred = tf.einsum('ntaj,ntj->nta',dpsi_dz,zdot_SINDy)\n",
    "    loss1 = tf.keras.losses.MSE(x_dot,xdot_pred)\n",
    "\n",
    "    ### LOSS 2 ###\n",
    "    with tape.stop_recording():\n",
    "        dphi_dx = tape.jacobian(z,x)\n",
    "    ones = tf.ones(dphi_dx.shape)\n",
    "    dphi_dx = tf.einsum('abcdef,yuidep->abcf',dphi_dx, ones) ### most of those derivatives are zero, since they correspond to different batches!\n",
    "    zdot_pred = tf.einsum('ntaj,ntj->nta',dphi_dx,x_dot)\n",
    "    loss2 = tf.cast(tf.keras.losses.MSE(zdot_pred, zdot_SINDy),tf.float32)\n",
    "\n",
    "    ### LOSS 3 ###\n",
    "    loss3 = tf.expand_dims(tf.einsum('ij->',tf.math.abs(sindy.coeffs)),axis=0)\n",
    "    total_loss = loss0 + loss1 + loss2 + loss3\n",
    "\n",
    "\n",
    "grads_enc = tape.gradient(total_loss, encoder.trainable_variables)\n",
    "grads_dec = tape.gradient(total_loss, decoder.trainable_variables)\n",
    "grads_SINDy_coeffs = [tape.gradient(total_loss, sindy.coeffs)]\n",
    "\n",
    "gradients = [grads_enc, grads_dec, grads_SINDy_coeffs]\n",
    "models = [encoder, decoder, sindy]\n",
    "\n",
    "for model, gradient in zip(models, gradients):\n",
    "    model.optimizer.apply_gradients(zip(gradient, model.trainable_variables))\n",
    "\n",
    "\n"
   ]
  },
  {
   "cell_type": "code",
   "execution_count": 40,
   "id": "large-zoning",
   "metadata": {},
   "outputs": [
    {
     "data": {
      "text/plain": [
       "<tf.Variable 'UnreadVariable' shape=() dtype=int64, numpy=2>"
      ]
     },
     "execution_count": 40,
     "metadata": {},
     "output_type": "execute_result"
    }
   ],
   "source": [
    "sindy.optimizer.apply_gradients(zip(grads_SINDy_coeffs,sindy.trainable_variables))"
   ]
  },
  {
   "cell_type": "code",
   "execution_count": 42,
   "id": "administrative-stuart",
   "metadata": {},
   "outputs": [
    {
     "data": {
      "text/plain": [
       "<tf.Variable 'Variable:0' shape=(3, 27) dtype=float32, numpy=\n",
       "array([[0.998    , 0.998    , 0.998    , 1.002    , 1.002    , 0.998    ,\n",
       "        0.998    , 0.998    , 0.998    , 0.998    , 0.998    , 0.998    ,\n",
       "        1.002    , 0.998    , 0.998    , 0.998    , 0.998    , 0.998    ,\n",
       "        0.998    , 0.998    , 0.998    , 0.998    , 0.998    , 0.998    ,\n",
       "        0.998    , 0.998    , 0.998    ],\n",
       "       [0.9980001, 0.9980001, 0.998    , 1.002    , 1.002    , 0.998    ,\n",
       "        0.9980001, 0.998    , 0.998    , 0.9980001, 0.998    , 0.998    ,\n",
       "        1.0019999, 0.998    , 0.998    , 0.998    , 0.998    , 0.998    ,\n",
       "        0.998    , 0.998    , 0.998    , 0.998    , 0.998    , 0.998    ,\n",
       "        0.998    , 0.998    , 0.998    ],\n",
       "       [0.998    , 0.998    , 0.998    , 1.002    , 1.002    , 0.998    ,\n",
       "        0.998    , 0.998    , 0.998    , 0.998    , 0.998    , 0.998    ,\n",
       "        1.002    , 0.998    , 0.998    , 0.998    , 0.998    , 0.998    ,\n",
       "        0.998    , 0.998    , 0.998    , 0.998    , 0.998    , 0.998    ,\n",
       "        0.998    , 0.998    , 0.998    ]], dtype=float32)>"
      ]
     },
     "execution_count": 42,
     "metadata": {},
     "output_type": "execute_result"
    }
   ],
   "source": [
    "sindy.trainable_variables[0]"
   ]
  },
  {
   "cell_type": "code",
   "execution_count": 29,
   "id": "outdoor-matthew",
   "metadata": {},
   "outputs": [
    {
     "data": {
      "text/plain": [
       "<tf.Variable 'Variable:0' shape=(3, 27) dtype=float64, numpy=\n",
       "array([[1., 1., 1., 1., 1., 1., 1., 1., 1., 1., 1., 1., 1., 1., 1., 1.,\n",
       "        1., 1., 1., 1., 1., 1., 1., 1., 1., 1., 1.],\n",
       "       [1., 1., 1., 1., 1., 1., 1., 1., 1., 1., 1., 1., 1., 1., 1., 1.,\n",
       "        1., 1., 1., 1., 1., 1., 1., 1., 1., 1., 1.],\n",
       "       [1., 1., 1., 1., 1., 1., 1., 1., 1., 1., 1., 1., 1., 1., 1., 1.,\n",
       "        1., 1., 1., 1., 1., 1., 1., 1., 1., 1., 1.]])>"
      ]
     },
     "execution_count": 29,
     "metadata": {},
     "output_type": "execute_result"
    }
   ],
   "source": []
  },
  {
   "cell_type": "code",
   "execution_count": 25,
   "id": "naked-gossip",
   "metadata": {},
   "outputs": [
    {
     "data": {
      "text/plain": [
       "[<tf.Tensor: shape=(3, 27), dtype=float32, numpy=\n",
       " array([[1., 1., 1., 1., 1., 1., 1., 1., 1., 1., 1., 1., 1., 1., 1., 1.,\n",
       "         1., 1., 1., 1., 1., 1., 1., 1., 1., 1., 1.],\n",
       "        [1., 1., 1., 1., 1., 1., 1., 1., 1., 1., 1., 1., 1., 1., 1., 1.,\n",
       "         1., 1., 1., 1., 1., 1., 1., 1., 1., 1., 1.],\n",
       "        [1., 1., 1., 1., 1., 1., 1., 1., 1., 1., 1., 1., 1., 1., 1., 1.,\n",
       "         1., 1., 1., 1., 1., 1., 1., 1., 1., 1., 1.]], dtype=float32)>]"
      ]
     },
     "execution_count": 25,
     "metadata": {},
     "output_type": "execute_result"
    }
   ],
   "source": [
    "sindy1.trainable_variables"
   ]
  },
  {
   "cell_type": "code",
   "execution_count": 5,
   "id": "removed-exception",
   "metadata": {},
   "outputs": [
    {
     "name": "stdout",
     "output_type": "stream",
     "text": [
      "m\n",
      "m\n",
      "m\n"
     ]
    },
    {
     "ename": "AttributeError",
     "evalue": "'tensorflow.python.framework.ops.EagerTensor' object has no attribute '_in_graph_mode'",
     "output_type": "error",
     "traceback": [
      "\u001b[0;31m---------------------------------------------------------------------------\u001b[0m",
      "\u001b[0;31mAttributeError\u001b[0m                            Traceback (most recent call last)",
      "\u001b[0;32m<ipython-input-5-97409eae90ba>\u001b[0m in \u001b[0;36m<module>\u001b[0;34m\u001b[0m\n\u001b[1;32m      1\u001b[0m \u001b[0;32mfor\u001b[0m \u001b[0mmodel\u001b[0m\u001b[0;34m,\u001b[0m \u001b[0mgradient\u001b[0m \u001b[0;32min\u001b[0m \u001b[0mzip\u001b[0m\u001b[0;34m(\u001b[0m\u001b[0mmodels\u001b[0m\u001b[0;34m,\u001b[0m \u001b[0mgradients\u001b[0m\u001b[0;34m)\u001b[0m\u001b[0;34m:\u001b[0m\u001b[0;34m\u001b[0m\u001b[0;34m\u001b[0m\u001b[0m\n\u001b[1;32m      2\u001b[0m     \u001b[0mprint\u001b[0m\u001b[0;34m(\u001b[0m\u001b[0;34m\"m\"\u001b[0m\u001b[0;34m)\u001b[0m\u001b[0;34m\u001b[0m\u001b[0;34m\u001b[0m\u001b[0m\n\u001b[0;32m----> 3\u001b[0;31m     \u001b[0mmodel\u001b[0m\u001b[0;34m.\u001b[0m\u001b[0moptimizer\u001b[0m\u001b[0;34m.\u001b[0m\u001b[0mapply_gradients\u001b[0m\u001b[0;34m(\u001b[0m\u001b[0mzip\u001b[0m\u001b[0;34m(\u001b[0m\u001b[0mgradient\u001b[0m\u001b[0;34m,\u001b[0m \u001b[0mmodel\u001b[0m\u001b[0;34m.\u001b[0m\u001b[0mtrainable_variables\u001b[0m\u001b[0;34m)\u001b[0m\u001b[0;34m)\u001b[0m\u001b[0;34m\u001b[0m\u001b[0;34m\u001b[0m\u001b[0m\n\u001b[0m",
      "\u001b[0;32m~/.local/lib/python3.6/site-packages/tensorflow/python/keras/optimizer_v2/optimizer_v2.py\u001b[0m in \u001b[0;36mapply_gradients\u001b[0;34m(self, grads_and_vars, name, experimental_aggregate_gradients)\u001b[0m\n\u001b[1;32m    517\u001b[0m       \u001b[0;31m# Create iteration if necessary.\u001b[0m\u001b[0;34m\u001b[0m\u001b[0;34m\u001b[0m\u001b[0;34m\u001b[0m\u001b[0m\n\u001b[1;32m    518\u001b[0m       \u001b[0;32mwith\u001b[0m \u001b[0mops\u001b[0m\u001b[0;34m.\u001b[0m\u001b[0minit_scope\u001b[0m\u001b[0;34m(\u001b[0m\u001b[0;34m)\u001b[0m\u001b[0;34m:\u001b[0m\u001b[0;34m\u001b[0m\u001b[0;34m\u001b[0m\u001b[0m\n\u001b[0;32m--> 519\u001b[0;31m         \u001b[0mself\u001b[0m\u001b[0;34m.\u001b[0m\u001b[0m_create_all_weights\u001b[0m\u001b[0;34m(\u001b[0m\u001b[0mvar_list\u001b[0m\u001b[0;34m)\u001b[0m\u001b[0;34m\u001b[0m\u001b[0;34m\u001b[0m\u001b[0m\n\u001b[0m\u001b[1;32m    520\u001b[0m \u001b[0;34m\u001b[0m\u001b[0m\n\u001b[1;32m    521\u001b[0m       \u001b[0;32mif\u001b[0m \u001b[0;32mnot\u001b[0m \u001b[0mgrads_and_vars\u001b[0m\u001b[0;34m:\u001b[0m\u001b[0;34m\u001b[0m\u001b[0;34m\u001b[0m\u001b[0m\n",
      "\u001b[0;32m~/.local/lib/python3.6/site-packages/tensorflow/python/keras/optimizer_v2/optimizer_v2.py\u001b[0m in \u001b[0;36m_create_all_weights\u001b[0;34m(self, var_list)\u001b[0m\n\u001b[1;32m    702\u001b[0m     \u001b[0m_\u001b[0m \u001b[0;34m=\u001b[0m \u001b[0mself\u001b[0m\u001b[0;34m.\u001b[0m\u001b[0miterations\u001b[0m\u001b[0;34m\u001b[0m\u001b[0;34m\u001b[0m\u001b[0m\n\u001b[1;32m    703\u001b[0m     \u001b[0mself\u001b[0m\u001b[0;34m.\u001b[0m\u001b[0m_create_hypers\u001b[0m\u001b[0;34m(\u001b[0m\u001b[0;34m)\u001b[0m\u001b[0;34m\u001b[0m\u001b[0;34m\u001b[0m\u001b[0m\n\u001b[0;32m--> 704\u001b[0;31m     \u001b[0mself\u001b[0m\u001b[0;34m.\u001b[0m\u001b[0m_create_slots\u001b[0m\u001b[0;34m(\u001b[0m\u001b[0mvar_list\u001b[0m\u001b[0;34m)\u001b[0m\u001b[0;34m\u001b[0m\u001b[0;34m\u001b[0m\u001b[0m\n\u001b[0m\u001b[1;32m    705\u001b[0m \u001b[0;34m\u001b[0m\u001b[0m\n\u001b[1;32m    706\u001b[0m   \u001b[0;32mdef\u001b[0m \u001b[0m__getattribute__\u001b[0m\u001b[0;34m(\u001b[0m\u001b[0mself\u001b[0m\u001b[0;34m,\u001b[0m \u001b[0mname\u001b[0m\u001b[0;34m)\u001b[0m\u001b[0;34m:\u001b[0m\u001b[0;34m\u001b[0m\u001b[0;34m\u001b[0m\u001b[0m\n",
      "\u001b[0;32m~/.local/lib/python3.6/site-packages/tensorflow/python/keras/optimizer_v2/adam.py\u001b[0m in \u001b[0;36m_create_slots\u001b[0;34m(self, var_list)\u001b[0m\n\u001b[1;32m    125\u001b[0m     \u001b[0;31m# Separate for-loops to respect the ordering of slot variables from v1.\u001b[0m\u001b[0;34m\u001b[0m\u001b[0;34m\u001b[0m\u001b[0;34m\u001b[0m\u001b[0m\n\u001b[1;32m    126\u001b[0m     \u001b[0;32mfor\u001b[0m \u001b[0mvar\u001b[0m \u001b[0;32min\u001b[0m \u001b[0mvar_list\u001b[0m\u001b[0;34m:\u001b[0m\u001b[0;34m\u001b[0m\u001b[0;34m\u001b[0m\u001b[0m\n\u001b[0;32m--> 127\u001b[0;31m       \u001b[0mself\u001b[0m\u001b[0;34m.\u001b[0m\u001b[0madd_slot\u001b[0m\u001b[0;34m(\u001b[0m\u001b[0mvar\u001b[0m\u001b[0;34m,\u001b[0m \u001b[0;34m'm'\u001b[0m\u001b[0;34m)\u001b[0m\u001b[0;34m\u001b[0m\u001b[0;34m\u001b[0m\u001b[0m\n\u001b[0m\u001b[1;32m    128\u001b[0m     \u001b[0;32mfor\u001b[0m \u001b[0mvar\u001b[0m \u001b[0;32min\u001b[0m \u001b[0mvar_list\u001b[0m\u001b[0;34m:\u001b[0m\u001b[0;34m\u001b[0m\u001b[0;34m\u001b[0m\u001b[0m\n\u001b[1;32m    129\u001b[0m       \u001b[0mself\u001b[0m\u001b[0;34m.\u001b[0m\u001b[0madd_slot\u001b[0m\u001b[0;34m(\u001b[0m\u001b[0mvar\u001b[0m\u001b[0;34m,\u001b[0m \u001b[0;34m'v'\u001b[0m\u001b[0;34m)\u001b[0m\u001b[0;34m\u001b[0m\u001b[0;34m\u001b[0m\u001b[0m\n",
      "\u001b[0;32m~/.local/lib/python3.6/site-packages/tensorflow/python/keras/optimizer_v2/optimizer_v2.py\u001b[0m in \u001b[0;36madd_slot\u001b[0;34m(self, var, slot_name, initializer)\u001b[0m\n\u001b[1;32m    737\u001b[0m     \u001b[0;32mif\u001b[0m \u001b[0mslot_name\u001b[0m \u001b[0;32mnot\u001b[0m \u001b[0;32min\u001b[0m \u001b[0mself\u001b[0m\u001b[0;34m.\u001b[0m\u001b[0m_slot_names\u001b[0m\u001b[0;34m:\u001b[0m\u001b[0;34m\u001b[0m\u001b[0;34m\u001b[0m\u001b[0m\n\u001b[1;32m    738\u001b[0m       \u001b[0mself\u001b[0m\u001b[0;34m.\u001b[0m\u001b[0m_slot_names\u001b[0m\u001b[0;34m.\u001b[0m\u001b[0mappend\u001b[0m\u001b[0;34m(\u001b[0m\u001b[0mslot_name\u001b[0m\u001b[0;34m)\u001b[0m\u001b[0;34m\u001b[0m\u001b[0;34m\u001b[0m\u001b[0m\n\u001b[0;32m--> 739\u001b[0;31m     \u001b[0mvar_key\u001b[0m \u001b[0;34m=\u001b[0m \u001b[0m_var_key\u001b[0m\u001b[0;34m(\u001b[0m\u001b[0mvar\u001b[0m\u001b[0;34m)\u001b[0m\u001b[0;34m\u001b[0m\u001b[0;34m\u001b[0m\u001b[0m\n\u001b[0m\u001b[1;32m    740\u001b[0m     \u001b[0mslot_dict\u001b[0m \u001b[0;34m=\u001b[0m \u001b[0mself\u001b[0m\u001b[0;34m.\u001b[0m\u001b[0m_slots\u001b[0m\u001b[0;34m.\u001b[0m\u001b[0msetdefault\u001b[0m\u001b[0;34m(\u001b[0m\u001b[0mvar_key\u001b[0m\u001b[0;34m,\u001b[0m \u001b[0;34m{\u001b[0m\u001b[0;34m}\u001b[0m\u001b[0;34m)\u001b[0m\u001b[0;34m\u001b[0m\u001b[0;34m\u001b[0m\u001b[0m\n\u001b[1;32m    741\u001b[0m     \u001b[0mweight\u001b[0m \u001b[0;34m=\u001b[0m \u001b[0mslot_dict\u001b[0m\u001b[0;34m.\u001b[0m\u001b[0mget\u001b[0m\u001b[0;34m(\u001b[0m\u001b[0mslot_name\u001b[0m\u001b[0;34m,\u001b[0m \u001b[0;32mNone\u001b[0m\u001b[0;34m)\u001b[0m\u001b[0;34m\u001b[0m\u001b[0;34m\u001b[0m\u001b[0m\n",
      "\u001b[0;32m~/.local/lib/python3.6/site-packages/tensorflow/python/keras/optimizer_v2/optimizer_v2.py\u001b[0m in \u001b[0;36m_var_key\u001b[0;34m(var)\u001b[0m\n\u001b[1;32m   1295\u001b[0m   \u001b[0;32mif\u001b[0m \u001b[0mhasattr\u001b[0m\u001b[0;34m(\u001b[0m\u001b[0mvar\u001b[0m\u001b[0;34m,\u001b[0m \u001b[0;34m\"_distributed_container\"\u001b[0m\u001b[0;34m)\u001b[0m\u001b[0;34m:\u001b[0m\u001b[0;34m\u001b[0m\u001b[0;34m\u001b[0m\u001b[0m\n\u001b[1;32m   1296\u001b[0m     \u001b[0mvar\u001b[0m \u001b[0;34m=\u001b[0m \u001b[0mvar\u001b[0m\u001b[0;34m.\u001b[0m\u001b[0m_distributed_container\u001b[0m\u001b[0;34m\u001b[0m\u001b[0;34m\u001b[0m\u001b[0m\n\u001b[0;32m-> 1297\u001b[0;31m   \u001b[0;32mif\u001b[0m \u001b[0mvar\u001b[0m\u001b[0;34m.\u001b[0m\u001b[0m_in_graph_mode\u001b[0m\u001b[0;34m:\u001b[0m\u001b[0;34m\u001b[0m\u001b[0;34m\u001b[0m\u001b[0m\n\u001b[0m\u001b[1;32m   1298\u001b[0m     \u001b[0;32mreturn\u001b[0m \u001b[0mvar\u001b[0m\u001b[0;34m.\u001b[0m\u001b[0m_shared_name\u001b[0m\u001b[0;34m\u001b[0m\u001b[0;34m\u001b[0m\u001b[0m\n\u001b[1;32m   1299\u001b[0m   \u001b[0;32mreturn\u001b[0m \u001b[0mvar\u001b[0m\u001b[0;34m.\u001b[0m\u001b[0m_unique_id\u001b[0m\u001b[0;34m\u001b[0m\u001b[0;34m\u001b[0m\u001b[0m\n",
      "\u001b[0;31mAttributeError\u001b[0m: 'tensorflow.python.framework.ops.EagerTensor' object has no attribute '_in_graph_mode'"
     ]
    }
   ],
   "source": []
  },
  {
   "cell_type": "code",
   "execution_count": 23,
   "id": "elementary-empty",
   "metadata": {},
   "outputs": [
    {
     "data": {
      "text/plain": [
       "[<tf.Variable 'encoder_1/dense_6/kernel:0' shape=(128, 64) dtype=float32, numpy=\n",
       " array([[-0.09033427, -0.04396643,  0.03536167, ..., -0.0455751 ,\n",
       "         -0.09373885,  0.06527469],\n",
       "        [-0.00925119, -0.07525584, -0.0725927 , ...,  0.06097997,\n",
       "          0.03062052,  0.00068207],\n",
       "        [-0.00975733,  0.09546264,  0.07032993, ...,  0.01553587,\n",
       "         -0.07542764,  0.10051169],\n",
       "        ...,\n",
       "        [-0.05952345,  0.00431443, -0.01477603, ..., -0.08673827,\n",
       "         -0.0715066 , -0.08745359],\n",
       "        [ 0.08271442,  0.00602508, -0.07120262, ..., -0.0109188 ,\n",
       "         -0.09876256, -0.07037709],\n",
       "        [-0.04387222,  0.03468087,  0.03168849, ..., -0.05419493,\n",
       "         -0.07637918, -0.07978804]], dtype=float32)>,\n",
       " <tf.Variable 'encoder_1/dense_6/bias:0' shape=(64,) dtype=float32, numpy=\n",
       " array([ 0.00300469,  0.00300475,  0.00299427,  0.00298889, -0.00290534,\n",
       "         0.0029809 , -0.00030736,  0.00300074,  0.00298342, -0.00293195,\n",
       "        -0.00295986,  0.00300039, -0.00294927,  0.0030034 , -0.00293737,\n",
       "        -0.00280324,  0.00299589,  0.00299308,  0.00299527,  0.00298032,\n",
       "        -0.00245046, -0.00178271,  0.00299774, -0.00296927, -0.00281337,\n",
       "         0.00299841,  0.00299381, -0.00293886,  0.00299235,  0.00300312,\n",
       "         0.00299914, -0.00296769,  0.00297967,  0.00300238,  0.0030046 ,\n",
       "        -0.00297028,  0.00299514,  0.0029953 , -0.00293524, -0.00294569,\n",
       "         0.0030039 , -0.00073436,  0.00300384, -0.00295701,  0.00298699,\n",
       "         0.00299515, -0.00297251, -0.00289926,  0.00300473, -0.00287778,\n",
       "         0.00299253,  0.00299694,  0.00299603,  0.00298309,  0.00298064,\n",
       "         0.00300089,  0.00299189,  0.00298933, -0.00289713, -0.00296588,\n",
       "        -0.0015859 , -0.00293614, -0.00295461,  0.00298843], dtype=float32)>,\n",
       " <tf.Variable 'encoder_1/dense_7/kernel:0' shape=(64, 32) dtype=float32, numpy=\n",
       " array([[ 0.02785739, -0.0948969 ,  0.08528333, ..., -0.055231  ,\n",
       "          0.04264893, -0.01792338],\n",
       "        [ 0.09777013, -0.0565412 , -0.07454368, ...,  0.01037647,\n",
       "         -0.06744608,  0.07700679],\n",
       "        [-0.07155231, -0.0811393 ,  0.08920254, ..., -0.0917398 ,\n",
       "         -0.02395257,  0.02967256],\n",
       "        ...,\n",
       "        [ 0.04328118,  0.03530583, -0.01067874, ...,  0.03850312,\n",
       "          0.05992623, -0.04149264],\n",
       "        [-0.03963719,  0.05359006, -0.08832118, ...,  0.0745992 ,\n",
       "         -0.06799124,  0.08610552],\n",
       "        [-0.00624876, -0.02995279, -0.01026844, ...,  0.06796157,\n",
       "         -0.07263455,  0.0061337 ]], dtype=float32)>,\n",
       " <tf.Variable 'encoder_1/dense_7/bias:0' shape=(32,) dtype=float32, numpy=\n",
       " array([ 0.00298818, -0.00297455,  0.00298897, -0.00296995, -0.00296294,\n",
       "         0.00298695, -0.00297467,  0.00298577, -0.00295844, -0.00296754,\n",
       "         0.0029887 ,  0.00299067,  0.00298879, -0.00296127,  0.00298316,\n",
       "        -0.00297363,  0.00299839,  0.00299937, -0.00296801,  0.00298869,\n",
       "        -0.00292618, -0.00297284, -0.00297092, -0.00296119, -0.00297157,\n",
       "         0.00298816, -0.00296634, -0.00297334, -0.0029728 ,  0.00298635,\n",
       "        -0.00296943, -0.00297645], dtype=float32)>,\n",
       " <tf.Variable 'encoder_1/dense_8/kernel:0' shape=(32, 3) dtype=float32, numpy=\n",
       " array([[-0.08344156, -0.08870225,  0.07614365],\n",
       "        [ 0.04018643,  0.01912463,  0.07383516],\n",
       "        [-0.09981538, -0.02707813,  0.05234903],\n",
       "        [-0.03402811,  0.05292812,  0.07967866],\n",
       "        [ 0.0829671 , -0.08607601,  0.04964976],\n",
       "        [-0.06672425, -0.00261293, -0.0130785 ],\n",
       "        [ 0.06768707,  0.06535231,  0.06313755],\n",
       "        [-0.09714408, -0.09443366,  0.04142826],\n",
       "        [ 0.05000301, -0.08168118,  0.06735551],\n",
       "        [-0.03199759,  0.03493299,  0.07996833],\n",
       "        [ 0.01988011,  0.01389041, -0.08739763],\n",
       "        [-0.07148224,  0.08363318, -0.06361938],\n",
       "        [-0.08653825,  0.08178527, -0.05773358],\n",
       "        [ 0.07179102, -0.0992422 ,  0.06680469],\n",
       "        [ 0.03266872, -0.0640441 , -0.09028089],\n",
       "        [-0.01727206,  0.09421749,  0.05812729],\n",
       "        [ 0.0282826 , -0.0133991 , -0.04547531],\n",
       "        [ 0.05733238, -0.00599666, -0.07990685],\n",
       "        [ 0.08828072, -0.04975689,  0.00403931],\n",
       "        [ 0.07532291, -0.03417588, -0.09304493],\n",
       "        [ 0.00631589,  0.06220878, -0.0683728 ],\n",
       "        [ 0.03210615,  0.0647141 , -0.01667971],\n",
       "        [ 0.00817732,  0.08477454, -0.03973076],\n",
       "        [ 0.05129257, -0.06994739,  0.05970976],\n",
       "        [ 0.03335132,  0.07580344, -0.035267  ],\n",
       "        [-0.0289728 ,  0.02705546, -0.05551765],\n",
       "        [ 0.04038547, -0.00573796,  0.04327721],\n",
       "        [ 0.06644628,  0.07099192, -0.06681971],\n",
       "        [ 0.09061475, -0.04635493,  0.08269797],\n",
       "        [ 0.00264762, -0.04328785, -0.04370022],\n",
       "        [ 0.01642335,  0.08059593, -0.03448978],\n",
       "        [ 0.07792608,  0.08599621,  0.01429542]], dtype=float32)>,\n",
       " <tf.Variable 'encoder_1/dense_8/bias:0' shape=(3,) dtype=float32, numpy=array([-0.00298065, -0.00297977, -0.00297721], dtype=float32)>]"
      ]
     },
     "execution_count": 23,
     "metadata": {},
     "output_type": "execute_result"
    }
   ],
   "source": []
  },
  {
   "cell_type": "code",
   "execution_count": 31,
   "id": "assured-dating",
   "metadata": {},
   "outputs": [
    {
     "ename": "AttributeError",
     "evalue": "Can't set the attribute \"trainable_variables\", likely because it conflicts with an existing read-only @property of the object. Please choose a different name.",
     "output_type": "error",
     "traceback": [
      "\u001b[0;31m---------------------------------------------------------------------------\u001b[0m",
      "\u001b[0;31mAttributeError\u001b[0m                            Traceback (most recent call last)",
      "\u001b[0;32m~/.local/lib/python3.6/site-packages/tensorflow/python/keras/engine/base_layer.py\u001b[0m in \u001b[0;36m__setattr__\u001b[0;34m(self, name, value)\u001b[0m\n\u001b[1;32m   2761\u001b[0m       \u001b[0;32mtry\u001b[0m\u001b[0;34m:\u001b[0m\u001b[0;34m\u001b[0m\u001b[0;34m\u001b[0m\u001b[0m\n\u001b[0;32m-> 2762\u001b[0;31m         \u001b[0msuper\u001b[0m\u001b[0;34m(\u001b[0m\u001b[0mtracking\u001b[0m\u001b[0;34m.\u001b[0m\u001b[0mAutoTrackable\u001b[0m\u001b[0;34m,\u001b[0m \u001b[0mself\u001b[0m\u001b[0;34m)\u001b[0m\u001b[0;34m.\u001b[0m\u001b[0m__setattr__\u001b[0m\u001b[0;34m(\u001b[0m\u001b[0mname\u001b[0m\u001b[0;34m,\u001b[0m \u001b[0mvalue\u001b[0m\u001b[0;34m)\u001b[0m\u001b[0;34m\u001b[0m\u001b[0;34m\u001b[0m\u001b[0m\n\u001b[0m\u001b[1;32m   2763\u001b[0m       \u001b[0;32mexcept\u001b[0m \u001b[0mAttributeError\u001b[0m\u001b[0;34m:\u001b[0m\u001b[0;34m\u001b[0m\u001b[0;34m\u001b[0m\u001b[0m\n",
      "\u001b[0;31mAttributeError\u001b[0m: can't set attribute",
      "\nDuring handling of the above exception, another exception occurred:\n",
      "\u001b[0;31mAttributeError\u001b[0m                            Traceback (most recent call last)",
      "\u001b[0;32m<ipython-input-31-66d5d289b1a3>\u001b[0m in \u001b[0;36m<module>\u001b[0;34m\u001b[0m\n\u001b[0;32m----> 1\u001b[0;31m \u001b[0msindy\u001b[0m\u001b[0;34m.\u001b[0m\u001b[0mtrainable_variables\u001b[0m \u001b[0;34m=\u001b[0m \u001b[0msindy\u001b[0m\u001b[0;34m.\u001b[0m\u001b[0mcoeffs\u001b[0m\u001b[0;34m\u001b[0m\u001b[0;34m\u001b[0m\u001b[0m\n\u001b[0m",
      "\u001b[0;32m~/.local/lib/python3.6/site-packages/tensorflow/python/keras/engine/training.py\u001b[0m in \u001b[0;36m__setattr__\u001b[0;34m(self, name, value)\u001b[0m\n\u001b[1;32m    338\u001b[0m                          ' Always start with this line.'), None)\n\u001b[1;32m    339\u001b[0m \u001b[0;34m\u001b[0m\u001b[0m\n\u001b[0;32m--> 340\u001b[0;31m     \u001b[0msuper\u001b[0m\u001b[0;34m(\u001b[0m\u001b[0mModel\u001b[0m\u001b[0;34m,\u001b[0m \u001b[0mself\u001b[0m\u001b[0;34m)\u001b[0m\u001b[0;34m.\u001b[0m\u001b[0m__setattr__\u001b[0m\u001b[0;34m(\u001b[0m\u001b[0mname\u001b[0m\u001b[0;34m,\u001b[0m \u001b[0mvalue\u001b[0m\u001b[0;34m)\u001b[0m\u001b[0;34m\u001b[0m\u001b[0;34m\u001b[0m\u001b[0m\n\u001b[0m\u001b[1;32m    341\u001b[0m \u001b[0;34m\u001b[0m\u001b[0m\n\u001b[1;32m    342\u001b[0m   \u001b[0;34m@\u001b[0m\u001b[0mgeneric_utils\u001b[0m\u001b[0;34m.\u001b[0m\u001b[0mdefault\u001b[0m\u001b[0;34m\u001b[0m\u001b[0;34m\u001b[0m\u001b[0m\n",
      "\u001b[0;32m~/.local/lib/python3.6/site-packages/tensorflow/python/keras/engine/base_layer.py\u001b[0m in \u001b[0;36m__setattr__\u001b[0;34m(self, name, value)\u001b[0m\n\u001b[1;32m   2765\u001b[0m             ('Can\\'t set the attribute \"{}\", likely because it conflicts with '\n\u001b[1;32m   2766\u001b[0m              \u001b[0;34m'an existing read-only @property of the object. Please choose a '\u001b[0m\u001b[0;34m\u001b[0m\u001b[0;34m\u001b[0m\u001b[0m\n\u001b[0;32m-> 2767\u001b[0;31m              'different name.').format(name))\n\u001b[0m\u001b[1;32m   2768\u001b[0m       \u001b[0;32mreturn\u001b[0m\u001b[0;34m\u001b[0m\u001b[0;34m\u001b[0m\u001b[0m\n\u001b[1;32m   2769\u001b[0m \u001b[0;34m\u001b[0m\u001b[0m\n",
      "\u001b[0;31mAttributeError\u001b[0m: Can't set the attribute \"trainable_variables\", likely because it conflicts with an existing read-only @property of the object. Please choose a different name."
     ]
    }
   ],
   "source": [
    "sindy.trainable_variables = sindy.coeffs"
   ]
  },
  {
   "cell_type": "code",
   "execution_count": 34,
   "id": "specified-denmark",
   "metadata": {},
   "outputs": [
    {
     "data": {
      "text/plain": [
       "<tf.Tensor: shape=(3, 27), dtype=float32, numpy=\n",
       "array([[ 4.62363828e+04, -5.75679932e+02,  8.94981003e+01,\n",
       "         4.31119141e+03,  1.98481674e+01,  8.08720398e+01,\n",
       "         4.68022736e+02,  7.44796143e+01,  8.00800934e+01,\n",
       "         8.24283398e+03, -3.59157486e+01,  8.16785660e+01,\n",
       "         8.28271912e+02,  6.93662491e+01,  8.01541061e+01,\n",
       "         1.48618622e+02,  7.90241241e+01,  8.00141525e+01,\n",
       "         1.52377832e+03,  5.95052414e+01,  8.02966843e+01,\n",
       "         2.12344681e+02,  7.81199341e+01,  8.00272369e+01,\n",
       "         9.21360474e+01,  7.98274689e+01,  8.00025024e+01],\n",
       "       [ 1.07571914e+05, -1.44498486e+03,  1.02055939e+02,\n",
       "         9.93183496e+03, -5.98693695e+01,  8.20244827e+01,\n",
       "         9.83276001e+02,  6.71666107e+01,  8.01858902e+01,\n",
       "         1.90920195e+04, -1.89624237e+02,  8.38982544e+01,\n",
       "         1.82243677e+03,  5.52712059e+01,  8.03578033e+01,\n",
       "         2.39752747e+02,  7.77311325e+01,  8.00328522e+01,\n",
       "         3.44303394e+03,  3.23237267e+01,  8.06890717e+01,\n",
       "         3.88210449e+02,  7.56274643e+01,  8.00632477e+01,\n",
       "         1.08257027e+02,  7.95988312e+01,  8.00058060e+01],\n",
       "       [ 1.50918688e+05, -2.06048389e+03,  1.10963608e+02,\n",
       "         1.39052285e+04, -1.16330414e+02,  8.28422318e+01,\n",
       "         1.34763098e+03,  6.19854317e+01,  8.02609940e+01,\n",
       "         2.67575195e+04, -2.98432190e+02,  8.54724503e+01,\n",
       "         2.52508057e+03,  4.52902603e+01,  8.05023117e+01,\n",
       "         3.04182770e+02,  7.68152466e+01,  8.00461273e+01,\n",
       "         4.79876807e+03,  1.30864639e+01,  8.09673004e+01,\n",
       "         5.12478333e+02,  7.38628769e+01,  8.00887833e+01,\n",
       "         1.19651703e+02,  7.94369125e+01,  8.00081558e+01]], dtype=float32)>"
      ]
     },
     "execution_count": 34,
     "metadata": {},
     "output_type": "execute_result"
    }
   ],
   "source": [
    "gradients[-1]"
   ]
  },
  {
   "cell_type": "code",
   "execution_count": null,
   "id": "expanded-royalty",
   "metadata": {},
   "outputs": [],
   "source": []
  }
 ],
 "metadata": {
  "kernelspec": {
   "display_name": "Python 3",
   "language": "python",
   "name": "python3"
  },
  "language_info": {
   "codemirror_mode": {
    "name": "ipython",
    "version": 3
   },
   "file_extension": ".py",
   "mimetype": "text/x-python",
   "name": "python",
   "nbconvert_exporter": "python",
   "pygments_lexer": "ipython3",
   "version": "3.6.9"
  }
 },
 "nbformat": 4,
 "nbformat_minor": 5
}
