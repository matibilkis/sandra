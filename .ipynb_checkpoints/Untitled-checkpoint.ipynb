{
 "cells": [
  {
   "cell_type": "code",
   "execution_count": 1,
   "id": "fixed-compact",
   "metadata": {},
   "outputs": [],
   "source": [
    "%load_ext autoreload\n",
    "%autoreload 2"
   ]
  },
  {
   "cell_type": "code",
   "execution_count": 68,
   "id": "brazilian-eugene",
   "metadata": {},
   "outputs": [],
   "source": [
    "import tensorflow as tf\n",
    "from networks import Encoder, Decoder\n",
    "import numpy as np\n",
    "import ast\n",
    "\n",
    "encoder = Encoder()\n",
    "decoder = Decoder()\n"
   ]
  },
  {
   "cell_type": "code",
   "execution_count": 33,
   "id": "polyphonic-remainder",
   "metadata": {},
   "outputs": [
    {
     "data": {
      "text/plain": [
       "<tf.Tensor: shape=(1, 3), dtype=float32, numpy=array([[ 0.05489638,  0.03830431, -0.28056213]], dtype=float32)>"
      ]
     },
     "execution_count": 33,
     "metadata": {},
     "output_type": "execute_result"
    }
   ],
   "source": [
    "x = tf.random.uniform((1,128))\n",
    "x_dot = tf.random.uniform((1,128))\n",
    "\n",
    "encoder = Encoder()\n",
    "encoder(x)"
   ]
  },
  {
   "cell_type": "code",
   "execution_count": 94,
   "id": "random-trout",
   "metadata": {},
   "outputs": [],
   "source": [
    "class LinealAnsatz:\n",
    "    def __init__(self):\n",
    "        self.sindy_coeffs, self.list_to_index, self.index_to_list  = self.initialize_dictionaries()\n",
    "    \n",
    "    def initialize_dictionaries(self):\n",
    "        \"\"\"\n",
    "        first 3 comes from number of z components, the remaining is determined by p, the number of theta functions,\n",
    "        \"\"\"\n",
    "        coeffs = np.ones((3,)+tuple([3]*3)) \n",
    "        ind=0\n",
    "        list_to_index={}\n",
    "        index_to_list={}\n",
    "        for i in range(3):\n",
    "            for j in range(3):\n",
    "                for k in range(3):\n",
    "                    lista=str([i,j,k])\n",
    "                    #coeffs[lista] = 1\n",
    "                    list_to_index[lista]=ind\n",
    "                    index_to_list[ind]=lista\n",
    "                    ind+=1\n",
    "        return coeffs, list_to_index, index_to_list\n",
    "    \n",
    "    def theta_fun(indices, zetas):\n",
    "        \"\"\"\n",
    "        deliver z1^n1 z2^n2 z3^n3 \n",
    "        SINDy library polynomial order 3.\n",
    "        \"\"\"\n",
    "        if isinstance(indices,str):\n",
    "            indices = ast.literal_eval(indices)\n",
    "        val=1\n",
    "        for exp, z in zip(indices, zetas):\n",
    "            val*=np.power(z,exp)\n",
    "        return val\n",
    "    \n",
    "    def call(self, encoder_output, zdot_comp):\n",
    "        \"\"\"\n",
    "        encoder_output: array of dimension 3 (for Lorenz case)\n",
    "        zdot_comp: int <3. Is the component of the zdot (which determines the row of the SINDy coefficient matrix)\n",
    "        \"\"\"\n",
    "        sindy_coeffs, theta_values =np.zeros((2,27))\n",
    "        for ind in range(27):\n",
    "            index_sindys = tuple(zdot_comp) + tuple(index_to_list[ind])\n",
    "            sindy_coeffs[ind] = self.sindy_coeffs[index_sindys]\n",
    "            theta_values[ind] = self.theta_fun(self.index_to_list[ind],encoder_output)\n",
    "        return np.dot(sindy_coeffs, theta_values)"
   ]
  },
  {
   "cell_type": "code",
   "execution_count": 86,
   "id": "third-jacket",
   "metadata": {},
   "outputs": [
    {
     "data": {
      "text/plain": [
       "(3, 3, 3, 3)"
      ]
     },
     "execution_count": 86,
     "metadata": {},
     "output_type": "execute_result"
    }
   ],
   "source": [
    "coeffs = np.ones((3,)+tuple([3]*3))\n",
    "coeffs.shape"
   ]
  },
  {
   "cell_type": "code",
   "execution_count": 93,
   "id": "activated-posting",
   "metadata": {},
   "outputs": [],
   "source": [
    "sindy_coeffs, theta_values =np.zeros((2,27))\n"
   ]
  },
  {
   "cell_type": "code",
   "execution_count": 90,
   "id": "little-kinase",
   "metadata": {},
   "outputs": [
    {
     "data": {
      "text/plain": [
       "1.0"
      ]
     },
     "execution_count": 90,
     "metadata": {},
     "output_type": "execute_result"
    }
   ],
   "source": [
    "coeffs[indi]"
   ]
  },
  {
   "cell_type": "code",
   "execution_count": 79,
   "id": "gross-wilderness",
   "metadata": {},
   "outputs": [
    {
     "data": {
      "text/plain": [
       "'[0, 0, 0]'"
      ]
     },
     "execution_count": 79,
     "metadata": {},
     "output_type": "execute_result"
    }
   ],
   "source": [
    "index_to_list[0]"
   ]
  },
  {
   "cell_type": "code",
   "execution_count": 76,
   "id": "mobile-investor",
   "metadata": {},
   "outputs": [
    {
     "data": {
      "text/plain": [
       "{0: '[0, 0, 0]',\n",
       " 1: '[0, 0, 1]',\n",
       " 2: '[0, 0, 2]',\n",
       " 3: '[0, 1, 0]',\n",
       " 4: '[0, 1, 1]',\n",
       " 5: '[0, 1, 2]',\n",
       " 6: '[0, 2, 0]',\n",
       " 7: '[0, 2, 1]',\n",
       " 8: '[0, 2, 2]',\n",
       " 9: '[1, 0, 0]',\n",
       " 10: '[1, 0, 1]',\n",
       " 11: '[1, 0, 2]',\n",
       " 12: '[1, 1, 0]',\n",
       " 13: '[1, 1, 1]',\n",
       " 14: '[1, 1, 2]',\n",
       " 15: '[1, 2, 0]',\n",
       " 16: '[1, 2, 1]',\n",
       " 17: '[1, 2, 2]',\n",
       " 18: '[2, 0, 0]',\n",
       " 19: '[2, 0, 1]',\n",
       " 20: '[2, 0, 2]',\n",
       " 21: '[2, 1, 0]',\n",
       " 22: '[2, 1, 1]',\n",
       " 23: '[2, 1, 2]',\n",
       " 24: '[2, 2, 0]',\n",
       " 25: '[2, 2, 1]',\n",
       " 26: '[2, 2, 2]'}"
      ]
     },
     "execution_count": 76,
     "metadata": {},
     "output_type": "execute_result"
    }
   ],
   "source": [
    "index_to_list"
   ]
  },
  {
   "cell_type": "code",
   "execution_count": 51,
   "id": "revolutionary-worker",
   "metadata": {},
   "outputs": [
    {
     "data": {
      "text/plain": [
       "0"
      ]
     },
     "execution_count": 51,
     "metadata": {},
     "output_type": "execute_result"
    }
   ],
   "source": [
    "[0]"
   ]
  },
  {
   "cell_type": "code",
   "execution_count": null,
   "id": "located-number",
   "metadata": {},
   "outputs": [],
   "source": []
  }
 ],
 "metadata": {
  "kernelspec": {
   "display_name": "Python 3",
   "language": "python",
   "name": "python3"
  },
  "language_info": {
   "codemirror_mode": {
    "name": "ipython",
    "version": 3
   },
   "file_extension": ".py",
   "mimetype": "text/x-python",
   "name": "python",
   "nbconvert_exporter": "python",
   "pygments_lexer": "ipython3",
   "version": "3.6.9"
  }
 },
 "nbformat": 4,
 "nbformat_minor": 5
}
