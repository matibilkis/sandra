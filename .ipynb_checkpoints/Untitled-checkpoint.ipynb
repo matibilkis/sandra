{
 "cells": [
  {
   "cell_type": "code",
   "execution_count": 5,
   "id": "native-technical",
   "metadata": {},
   "outputs": [
    {
     "name": "stdout",
     "output_type": "stream",
     "text": [
      "The autoreload extension is already loaded. To reload it, use:\n",
      "  %reload_ext autoreload\n"
     ]
    }
   ],
   "source": [
    "%load_ext autoreload\n",
    "%autoreload 2"
   ]
  },
  {
   "cell_type": "code",
   "execution_count": 296,
   "id": "dated-validity",
   "metadata": {},
   "outputs": [],
   "source": [
    "import tensorflow as tf\n",
    "from networks import Encoder, Decoder\n",
    "import numpy as np\n",
    "import ast\n",
    "from sindy import SINDy\n",
    "\n",
    "\n",
    "encoder = Encoder()\n",
    "decoder = Decoder()\n"
   ]
  },
  {
   "cell_type": "code",
   "execution_count": 308,
   "id": "polish-pillow",
   "metadata": {},
   "outputs": [
    {
     "data": {
      "text/plain": [
       "2.3430423384208545"
      ]
     },
     "execution_count": 308,
     "metadata": {},
     "output_type": "execute_result"
    }
   ],
   "source": [
    "x = tf.random.uniform((1,128))\n",
    "x_dot = tf.random.uniform((1,128))\n",
    "\n",
    "encoder = Encoder()\n",
    "encoder(x)\n",
    "\n",
    "sindy =SINDy()\n",
    "sindy(np.random.randn(3),0)"
   ]
  },
  {
   "cell_type": "code",
   "execution_count": 324,
   "id": "devoted-property",
   "metadata": {},
   "outputs": [],
   "source": [
    "x = tf.random.uniform((2048,250,128))"
   ]
  },
  {
   "cell_type": "code",
   "execution_count": 325,
   "id": "mighty-donna",
   "metadata": {},
   "outputs": [],
   "source": [
    "encoder = Encoder()\n",
    "latent_time_seties = encoder(x)"
   ]
  },
  {
   "cell_type": "code",
   "execution_count": 327,
   "id": "final-geography",
   "metadata": {},
   "outputs": [
    {
     "data": {
      "text/plain": [
       "<tf.Tensor: shape=(2048, 250, 3), dtype=float32, numpy=\n",
       "array([[[-0.06400368,  0.05314904, -0.37131813],\n",
       "        [-0.06836338,  0.05231311, -0.37211627],\n",
       "        [-0.06779082,  0.05322084, -0.37285691],\n",
       "        ...,\n",
       "        [-0.0617108 ,  0.05173459, -0.37074405],\n",
       "        [-0.06507172,  0.05226845, -0.3713612 ],\n",
       "        [-0.06525826,  0.05342495, -0.3750431 ]],\n",
       "\n",
       "       [[-0.0664216 ,  0.05162021, -0.37242588],\n",
       "        [-0.0659648 ,  0.05305446, -0.3732385 ],\n",
       "        [-0.06610832,  0.05443495, -0.37136832],\n",
       "        ...,\n",
       "        [-0.06552201,  0.05319305, -0.3704901 ],\n",
       "        [-0.06997447,  0.04978082, -0.3713339 ],\n",
       "        [-0.06354902,  0.0543013 , -0.37170625]],\n",
       "\n",
       "       [[-0.06602438,  0.05065325, -0.3681301 ],\n",
       "        [-0.06554605,  0.0509241 , -0.37163368],\n",
       "        [-0.06413471,  0.05173647, -0.37251854],\n",
       "        ...,\n",
       "        [-0.06494562,  0.05459299, -0.37359247],\n",
       "        [-0.06280006,  0.05409561, -0.3689605 ],\n",
       "        [-0.06500652,  0.05299675, -0.37157834]],\n",
       "\n",
       "       ...,\n",
       "\n",
       "       [[-0.06544001,  0.05601291, -0.37114322],\n",
       "        [-0.06484421,  0.05444315, -0.3710587 ],\n",
       "        [-0.06462127,  0.05484144, -0.37397626],\n",
       "        ...,\n",
       "        [-0.06493464,  0.05433337, -0.37141472],\n",
       "        [-0.0666292 ,  0.0537816 , -0.37206924],\n",
       "        [-0.06641011,  0.05345956, -0.37149125]],\n",
       "\n",
       "       [[-0.06687316,  0.05316245, -0.37169355],\n",
       "        [-0.06502926,  0.05056782, -0.3708554 ],\n",
       "        [-0.06239887,  0.05372659, -0.37001184],\n",
       "        ...,\n",
       "        [-0.06929248,  0.05444538, -0.37475118],\n",
       "        [-0.06744248,  0.05187527, -0.3735573 ],\n",
       "        [-0.06584802,  0.05387537, -0.37158537]],\n",
       "\n",
       "       [[-0.06670244,  0.05072339, -0.37133503],\n",
       "        [-0.06684406,  0.05542623, -0.37477365],\n",
       "        [-0.06864738,  0.05224886, -0.373498  ],\n",
       "        ...,\n",
       "        [-0.06732202,  0.05285572, -0.3731861 ],\n",
       "        [-0.06590584,  0.05456016, -0.37228402],\n",
       "        [-0.06513912,  0.05182379, -0.37175182]]], dtype=float32)>"
      ]
     },
     "execution_count": 327,
     "metadata": {},
     "output_type": "execute_result"
    }
   ],
   "source": [
    "latent_time_seties"
   ]
  },
  {
   "cell_type": "code",
   "execution_count": null,
   "id": "computational-mother",
   "metadata": {},
   "outputs": [],
   "source": []
  },
  {
   "cell_type": "code",
   "execution_count": 309,
   "id": "lonely-nevada",
   "metadata": {},
   "outputs": [
    {
     "data": {
      "text/plain": [
       "[<tf.Tensor: shape=(128, 64), dtype=float32, numpy=\n",
       " array([[ 2.2390251e-08, -6.4502914e-09,  2.5239748e-08, ...,\n",
       "         -2.2601292e-09, -2.7251348e-08, -1.3110858e-08],\n",
       "        [ 5.2438313e-08, -1.5106682e-08,  5.9111880e-08, ...,\n",
       "         -5.2932574e-09, -6.3823073e-08, -3.0705831e-08],\n",
       "        [ 7.9440401e-09, -2.2885573e-09,  8.9550394e-09, ...,\n",
       "         -8.0189166e-10, -9.6687520e-09, -4.6517199e-09],\n",
       "        ...,\n",
       "        [ 9.0915560e-09, -2.6191393e-09,  1.0248594e-08, ...,\n",
       "         -9.1772490e-10, -1.1065403e-08, -5.3236606e-09],\n",
       "        [ 4.2290115e-08, -1.2183141e-08,  4.7672170e-08, ...,\n",
       "         -4.2688724e-09, -5.1471627e-08, -2.4763443e-08],\n",
       "        [ 7.6385964e-09, -2.2005637e-09,  8.6107228e-09, ...,\n",
       "         -7.7105944e-10, -9.2969943e-09, -4.4728639e-09]], dtype=float32)>,\n",
       " <tf.Tensor: shape=(64,), dtype=float32, numpy=\n",
       " array([ 5.48590577e-08, -1.58040621e-08,  6.18407014e-08,  4.48544135e-09,\n",
       "         6.35818864e-08,  6.55694805e-08,  3.02388266e-08, -3.86231420e-08,\n",
       "        -3.47774574e-08, -2.26679902e-08,  4.16218171e-08,  1.24861845e-08,\n",
       "        -5.34212923e-08,  4.26758806e-09,  9.77261738e-09, -1.72046928e-08,\n",
       "        -7.31413952e-09,  1.52812394e-08, -8.15498922e-08,  4.44688659e-08,\n",
       "        -8.84991067e-08,  1.55020068e-08, -2.77687873e-09, -3.35215522e-09,\n",
       "         5.49614469e-08, -8.61305161e-09, -3.70675011e-08, -2.38150459e-08,\n",
       "         8.06823337e-08, -4.39741470e-08,  9.88357485e-08,  2.41818761e-08,\n",
       "        -1.68540364e-08,  3.47787505e-08,  5.14113303e-08,  7.69547626e-09,\n",
       "         8.10682366e-09, -2.49309622e-08, -9.54458823e-09,  1.14761614e-08,\n",
       "        -2.29960335e-08,  1.45537742e-08,  3.77229341e-08,  2.64113584e-08,\n",
       "        -2.08692974e-08,  2.06904662e-08, -1.44954360e-08,  3.91859167e-09,\n",
       "        -2.81527797e-08, -1.86812503e-08,  5.83486290e-08, -3.37382811e-09,\n",
       "         4.24740385e-08,  5.81523700e-08, -7.94475596e-09,  1.68036092e-08,\n",
       "         5.96364771e-08, -1.81724022e-08, -7.82499470e-08,  4.99265980e-08,\n",
       "        -2.88062587e-08, -5.53761348e-09, -6.67693811e-08, -3.21233244e-08],\n",
       "       dtype=float32)>,\n",
       " <tf.Tensor: shape=(64, 32), dtype=float32, numpy=\n",
       " array([[ 2.7590633e-07, -1.4649984e-07, -2.4566100e-07, ...,\n",
       "          3.1173379e-08,  3.0087369e-07,  3.7541102e-07],\n",
       "        [ 3.1530018e-07, -1.6741706e-07, -2.8073643e-07, ...,\n",
       "          3.5624307e-08,  3.4383237e-07,  4.2901212e-07],\n",
       "        [ 3.1661239e-07, -1.6811381e-07, -2.8190479e-07, ...,\n",
       "          3.5772569e-08,  3.4526335e-07,  4.3079760e-07],\n",
       "        ...,\n",
       "        [ 3.5468523e-07, -1.8832959e-07, -3.1580402e-07, ...,\n",
       "          4.0074241e-08,  3.8678147e-07,  4.8260125e-07],\n",
       "        [ 3.2751342e-07, -1.7390201e-07, -2.9161086e-07, ...,\n",
       "          3.7004227e-08,  3.5715084e-07,  4.4563004e-07],\n",
       "        [ 2.9136805e-07, -1.5470965e-07, -2.5942779e-07, ...,\n",
       "          3.2920330e-08,  3.1773459e-07,  3.9644897e-07]], dtype=float32)>,\n",
       " <tf.Tensor: shape=(32,), dtype=float32, numpy=\n",
       " array([ 5.9629895e-07, -3.1662086e-07, -5.3093163e-07, -5.7699805e-07,\n",
       "        -2.0193723e-07,  1.3667393e-07,  3.7486936e-07, -6.9324369e-07,\n",
       "        -2.0885217e-07,  2.7685999e-07, -2.5273329e-07, -6.2299125e-07,\n",
       "         5.1135385e-07, -2.8287397e-07,  2.4786388e-07,  1.0515612e-07,\n",
       "         3.4365067e-07,  1.0756405e-08,  3.8481912e-07,  4.1450122e-07,\n",
       "        -3.7919264e-07,  9.2848161e-08,  2.9229537e-07,  6.6347457e-07,\n",
       "         1.5167713e-07,  3.5445186e-07, -5.8849031e-07, -5.7371693e-07,\n",
       "        -3.2940119e-07,  6.7373058e-08,  6.5025932e-07,  8.1135215e-07],\n",
       "       dtype=float32)>,\n",
       " <tf.Tensor: shape=(32, 3), dtype=float32, numpy=\n",
       " array([[-1.12508988e-05, -3.71153487e-06, -8.21986487e-06],\n",
       "        [-1.28290812e-05, -4.23215806e-06, -9.37287950e-06],\n",
       "        [-1.10698566e-05, -3.65181154e-06, -8.08759705e-06],\n",
       "        [-1.31071774e-05, -4.32389879e-06, -9.57605516e-06],\n",
       "        [-1.00815887e-05, -3.32579407e-06, -7.36557195e-06],\n",
       "        [-1.33827671e-05, -4.41481234e-06, -9.77740001e-06],\n",
       "        [-1.29980426e-05, -4.28789645e-06, -9.49632249e-06],\n",
       "        [-1.26383329e-05, -4.16923285e-06, -9.23351945e-06],\n",
       "        [-9.63357434e-06, -3.17799936e-06, -7.03825390e-06],\n",
       "        [-1.28223646e-05, -4.22994253e-06, -9.36797278e-06],\n",
       "        [-8.51494406e-06, -2.80897689e-06, -6.22098696e-06],\n",
       "        [-1.13463775e-05, -3.74303227e-06, -8.28962129e-06],\n",
       "        [-1.14531877e-05, -3.77826791e-06, -8.36765685e-06],\n",
       "        [-9.22264553e-06, -3.04243872e-06, -6.73803061e-06],\n",
       "        [-1.09753337e-05, -3.62062951e-06, -8.01853821e-06],\n",
       "        [-1.31657816e-05, -4.34323192e-06, -9.61887145e-06],\n",
       "        [-1.14661652e-05, -3.78254890e-06, -8.37713833e-06],\n",
       "        [-8.27711574e-06, -2.73052001e-06, -6.04723027e-06],\n",
       "        [-1.18802973e-05, -3.91916592e-06, -8.67970084e-06],\n",
       "        [-1.21546591e-05, -4.00967474e-06, -8.88014984e-06],\n",
       "        [-1.04223182e-05, -3.43819625e-06, -7.61450701e-06],\n",
       "        [-1.20965578e-05, -3.99050759e-06, -8.83770008e-06],\n",
       "        [-9.37573259e-06, -3.09294046e-06, -6.84987572e-06],\n",
       "        [-9.53998187e-06, -3.14712429e-06, -6.96987581e-06],\n",
       "        [-1.27388475e-05, -4.20239121e-06, -9.30695478e-06],\n",
       "        [-1.06831794e-05, -3.52425127e-06, -7.80509163e-06],\n",
       "        [-8.86375256e-06, -2.92404457e-06, -6.47582510e-06],\n",
       "        [-1.21076700e-05, -3.99417377e-06, -8.84581914e-06],\n",
       "        [-9.18793921e-06, -3.03098977e-06, -6.71267435e-06],\n",
       "        [-1.22337406e-05, -4.03576269e-06, -8.93792640e-06],\n",
       "        [-1.07613487e-05, -3.55003840e-06, -7.86220153e-06],\n",
       "        [-1.30499402e-05, -4.30501723e-06, -9.53423842e-06]], dtype=float32)>,\n",
       " <tf.Tensor: shape=(3,), dtype=float32, numpy=array([-2.2422242e-05, -7.3968258e-06, -1.6381608e-05], dtype=float32)>]"
      ]
     },
     "execution_count": 309,
     "metadata": {},
     "output_type": "execute_result"
    }
   ],
   "source": [
    "with tf.GradientTape(persistent=True) as tape0:\n",
    "    tape0.watch(encoder.trainable_variables)\n",
    "    z = encoder(x)\n",
    "    tape0.watch(z)\n",
    "\n",
    "    x_quasi = decoder(z)\n",
    "    tape0.watch(x_quasi)\n",
    "    \n",
    "    loss0 = tf.keras.losses.MSE(x,x_quasi)\n",
    "tape0.gradient(loss0,encoder.trainable_variables)"
   ]
  },
  {
   "cell_type": "code",
   "execution_count": 268,
   "id": "found-stretch",
   "metadata": {},
   "outputs": [
    {
     "data": {
      "text/plain": [
       "[None, None, None, None, None, None]"
      ]
     },
     "execution_count": 268,
     "metadata": {},
     "output_type": "execute_result"
    }
   ],
   "source": [
    "tape0.gradient(loss0,encoder.trainable_variables)"
   ]
  },
  {
   "cell_type": "code",
   "execution_count": 396,
   "id": "applicable-hindu",
   "metadata": {},
   "outputs": [],
   "source": [
    "coeffs = "
   ]
  },
  {
   "cell_type": "code",
   "execution_count": 398,
   "id": "afraid-organic",
   "metadata": {},
   "outputs": [
    {
     "data": {
      "text/plain": [
       "<tf.Tensor: shape=(), dtype=int32, numpy=1>"
      ]
     },
     "execution_count": 398,
     "metadata": {},
     "output_type": "execute_result"
    }
   ],
   "source": [
    "tf.pow(1,2)"
   ]
  },
  {
   "cell_type": "code",
   "execution_count": 457,
   "id": "occasional-thirty",
   "metadata": {},
   "outputs": [],
   "source": [
    "class Sindy_tf():\n",
    "    def __init__(self):\n",
    "        self.coeffs = tf.ones((3,27))\n",
    "    \n",
    "    def theta(self,z):\n",
    "        th = []\n",
    "        for i in range(3):\n",
    "            for j in range(3):\n",
    "                for k in range(3):\n",
    "                    th.append(tf.pow(z[0], i)*tf.pow(z[1], j)*tf.pow(z[2], k))\n",
    "        return tf.transpose(tf.stack(th,axis=0))\n",
    "    \n",
    "    def __call__(self, phi_of_ex):\n",
    "        thetas = self.theta(phi_of_ex)\n",
    "        zdot_sindy = tf.einsum('ij,kj->ki',self.coeffs,thetas)\n",
    "        return zdot_sindy"
   ]
  },
  {
   "cell_type": "code",
   "execution_count": 464,
   "id": "posted-edition",
   "metadata": {},
   "outputs": [],
   "source": [
    "SINDy = Sindy_tf()"
   ]
  },
  {
   "cell_type": "code",
   "execution_count": 465,
   "id": "developed-removal",
   "metadata": {},
   "outputs": [],
   "source": [
    "v=tf.random.uniform((3,1))\n",
    "with tf.GradientTape() as tape:\n",
    "    tape.watch(v)\n",
    "    tape.watch(encoder.trainable_variables)\n",
    "    tape.watch(decoder.trainable_variables)\n",
    "    \n",
    "    zdot_sindy = SINDy(v)"
   ]
  },
  {
   "cell_type": "code",
   "execution_count": 466,
   "id": "appreciated-prayer",
   "metadata": {},
   "outputs": [
    {
     "data": {
      "text/plain": [
       "<tf.Tensor: shape=(3, 1), dtype=float32, numpy=\n",
       "array([[16.947935],\n",
       "       [16.41385 ],\n",
       "       [17.7994  ]], dtype=float32)>"
      ]
     },
     "execution_count": 466,
     "metadata": {},
     "output_type": "execute_result"
    }
   ],
   "source": [
    "tape.gradient(zdot_sindy,v)"
   ]
  },
  {
   "cell_type": "code",
   "execution_count": 450,
   "id": "approximate-cache",
   "metadata": {},
   "outputs": [],
   "source": [
    "thetas = theta(tf.random.uniform((3,1)))\n",
    "zdot_sindy = tf.einsum('ij,kj->ki',coeffs,thetas)\n"
   ]
  },
  {
   "cell_type": "code",
   "execution_count": 455,
   "id": "frank-intake",
   "metadata": {},
   "outputs": [],
   "source": [
    "v=tf.random.uniform((3,1))\n",
    "with tf.GradientTape() as tape:\n",
    "    tape.watch(v)\n",
    "    tape.watch(encoder.trainable_variables)\n",
    "    tape.watch(decoder.trainable_variables)\n",
    "\n",
    "    thetas = theta(v)\n",
    "    zdot_sindy = tf.einsum('ij,kj->ki',coeffs,thetas)   \n",
    "    "
   ]
  },
  {
   "cell_type": "code",
   "execution_count": 456,
   "id": "painful-universal",
   "metadata": {},
   "outputs": [
    {
     "data": {
      "text/plain": [
       "<tf.Tensor: shape=(3, 1), dtype=float32, numpy=\n",
       "array([[21.707016],\n",
       "       [20.773441],\n",
       "       [22.234396]], dtype=float32)>"
      ]
     },
     "execution_count": 456,
     "metadata": {},
     "output_type": "execute_result"
    }
   ],
   "source": [
    "tape.gradient(zdot_sindy,v)"
   ]
  },
  {
   "cell_type": "code",
   "execution_count": null,
   "id": "handled-mirror",
   "metadata": {},
   "outputs": [],
   "source": []
  },
  {
   "cell_type": "code",
   "execution_count": null,
   "id": "massive-coordinator",
   "metadata": {},
   "outputs": [],
   "source": []
  },
  {
   "cell_type": "code",
   "execution_count": null,
   "id": "complimentary-junior",
   "metadata": {},
   "outputs": [],
   "source": []
  },
  {
   "cell_type": "code",
   "execution_count": 446,
   "id": "educated-missile",
   "metadata": {},
   "outputs": [
    {
     "data": {
      "text/plain": [
       "<tf.Tensor: shape=(1, 3), dtype=float32, numpy=array([[12.638316, 12.638316, 12.638316]], dtype=float32)>"
      ]
     },
     "execution_count": 446,
     "metadata": {},
     "output_type": "execute_result"
    }
   ],
   "source": [
    "tf.matmul(thetas,coeffs , transpose_b=True)"
   ]
  },
  {
   "cell_type": "code",
   "execution_count": 443,
   "id": "serious-pastor",
   "metadata": {},
   "outputs": [
    {
     "data": {
      "text/plain": [
       "<tf.Tensor: shape=(1, 3), dtype=float32, numpy=array([[3.738684, 3.738684, 3.738684]], dtype=float32)>"
      ]
     },
     "execution_count": 443,
     "metadata": {},
     "output_type": "execute_result"
    }
   ],
   "source": []
  },
  {
   "cell_type": "code",
   "execution_count": 442,
   "id": "derived-crowd",
   "metadata": {},
   "outputs": [
    {
     "data": {
      "text/plain": [
       "<tf.Tensor: shape=(1, 27), dtype=float32, numpy=\n",
       "array([[1.0000000e+00, 4.2252421e-02, 1.7852671e-03, 1.8390143e-01,\n",
       "        7.7702808e-03, 3.2831318e-04, 3.3819735e-02, 1.4289657e-03,\n",
       "        6.0377261e-05, 9.8011053e-01, 4.1412044e-02, 1.7497591e-03,\n",
       "        1.8024373e-01, 7.6157339e-03, 3.2178321e-04, 3.3147078e-02,\n",
       "        1.4005443e-03, 5.9176389e-05, 9.6061665e-01, 4.0588379e-02,\n",
       "        1.7149573e-03, 1.7665878e-01, 7.4642613e-03, 3.1538311e-04,\n",
       "        3.2487802e-02, 1.3726883e-03, 5.7999405e-05]], dtype=float32)>"
      ]
     },
     "execution_count": 442,
     "metadata": {},
     "output_type": "execute_result"
    }
   ],
   "source": [
    "thetas"
   ]
  },
  {
   "cell_type": "code",
   "execution_count": 392,
   "id": "elect-emphasis",
   "metadata": {},
   "outputs": [],
   "source": []
  },
  {
   "cell_type": "code",
   "execution_count": 393,
   "id": "superb-experience",
   "metadata": {},
   "outputs": [],
   "source": [
    "tape.gradient(k,v)"
   ]
  },
  {
   "cell_type": "code",
   "execution_count": 395,
   "id": "awful-respondent",
   "metadata": {},
   "outputs": [
    {
     "data": {
      "text/plain": [
       "<tf.Tensor: shape=(3, 1), dtype=float32, numpy=\n",
       "array([[0.10301626],\n",
       "       [0.613495  ],\n",
       "       [0.49701273]], dtype=float32)>"
      ]
     },
     "execution_count": 395,
     "metadata": {},
     "output_type": "execute_result"
    }
   ],
   "source": [
    "v"
   ]
  },
  {
   "cell_type": "code",
   "execution_count": 365,
   "id": "liquid-encyclopedia",
   "metadata": {},
   "outputs": [
    {
     "ename": "InvalidArgumentError",
     "evalue": "In[0] is not a matrix. Instead it has shape [27] [Op:MatMul]",
     "output_type": "error",
     "traceback": [
      "\u001b[0;31m---------------------------------------------------------------------------\u001b[0m",
      "\u001b[0;31mInvalidArgumentError\u001b[0m                      Traceback (most recent call last)",
      "\u001b[0;32m<ipython-input-365-ca3a5efc4dd6>\u001b[0m in \u001b[0;36m<module>\u001b[0;34m\u001b[0m\n\u001b[0;32m----> 1\u001b[0;31m \u001b[0mtf\u001b[0m\u001b[0;34m.\u001b[0m\u001b[0mmatmul\u001b[0m\u001b[0;34m(\u001b[0m\u001b[0mtf\u001b[0m\u001b[0;34m.\u001b[0m\u001b[0mstack\u001b[0m\u001b[0;34m(\u001b[0m\u001b[0mreturni\u001b[0m\u001b[0;34m[\u001b[0m\u001b[0;36m0\u001b[0m\u001b[0;34m]\u001b[0m\u001b[0;34m)\u001b[0m \u001b[0;34m,\u001b[0m \u001b[0mtf\u001b[0m\u001b[0;34m.\u001b[0m\u001b[0msqueeze\u001b[0m\u001b[0;34m(\u001b[0m\u001b[0mtf\u001b[0m\u001b[0;34m.\u001b[0m\u001b[0mstack\u001b[0m\u001b[0;34m(\u001b[0m\u001b[0mreturni\u001b[0m\u001b[0;34m[\u001b[0m\u001b[0;36m1\u001b[0m\u001b[0;34m]\u001b[0m\u001b[0;34m)\u001b[0m\u001b[0;34m)\u001b[0m\u001b[0;34m)\u001b[0m\u001b[0;34m\u001b[0m\u001b[0;34m\u001b[0m\u001b[0m\n\u001b[0m",
      "\u001b[0;32m~/.local/lib/python3.6/site-packages/tensorflow/python/util/dispatch.py\u001b[0m in \u001b[0;36mwrapper\u001b[0;34m(*args, **kwargs)\u001b[0m\n\u001b[1;32m    199\u001b[0m     \u001b[0;34m\"\"\"Call target, and fall back on dispatchers if there is a TypeError.\"\"\"\u001b[0m\u001b[0;34m\u001b[0m\u001b[0;34m\u001b[0m\u001b[0m\n\u001b[1;32m    200\u001b[0m     \u001b[0;32mtry\u001b[0m\u001b[0;34m:\u001b[0m\u001b[0;34m\u001b[0m\u001b[0;34m\u001b[0m\u001b[0m\n\u001b[0;32m--> 201\u001b[0;31m       \u001b[0;32mreturn\u001b[0m \u001b[0mtarget\u001b[0m\u001b[0;34m(\u001b[0m\u001b[0;34m*\u001b[0m\u001b[0margs\u001b[0m\u001b[0;34m,\u001b[0m \u001b[0;34m**\u001b[0m\u001b[0mkwargs\u001b[0m\u001b[0;34m)\u001b[0m\u001b[0;34m\u001b[0m\u001b[0;34m\u001b[0m\u001b[0m\n\u001b[0m\u001b[1;32m    202\u001b[0m     \u001b[0;32mexcept\u001b[0m \u001b[0;34m(\u001b[0m\u001b[0mTypeError\u001b[0m\u001b[0;34m,\u001b[0m \u001b[0mValueError\u001b[0m\u001b[0;34m)\u001b[0m\u001b[0;34m:\u001b[0m\u001b[0;34m\u001b[0m\u001b[0;34m\u001b[0m\u001b[0m\n\u001b[1;32m    203\u001b[0m       \u001b[0;31m# Note: convert_to_eager_tensor currently raises a ValueError, not a\u001b[0m\u001b[0;34m\u001b[0m\u001b[0;34m\u001b[0m\u001b[0;34m\u001b[0m\u001b[0m\n",
      "\u001b[0;32m~/.local/lib/python3.6/site-packages/tensorflow/python/ops/math_ops.py\u001b[0m in \u001b[0;36mmatmul\u001b[0;34m(a, b, transpose_a, transpose_b, adjoint_a, adjoint_b, a_is_sparse, b_is_sparse, name)\u001b[0m\n\u001b[1;32m   3252\u001b[0m     \u001b[0;32melse\u001b[0m\u001b[0;34m:\u001b[0m\u001b[0;34m\u001b[0m\u001b[0;34m\u001b[0m\u001b[0m\n\u001b[1;32m   3253\u001b[0m       return gen_math_ops.mat_mul(\n\u001b[0;32m-> 3254\u001b[0;31m           a, b, transpose_a=transpose_a, transpose_b=transpose_b, name=name)\n\u001b[0m\u001b[1;32m   3255\u001b[0m \u001b[0;34m\u001b[0m\u001b[0m\n\u001b[1;32m   3256\u001b[0m \u001b[0;34m\u001b[0m\u001b[0m\n",
      "\u001b[0;32m~/.local/lib/python3.6/site-packages/tensorflow/python/ops/gen_math_ops.py\u001b[0m in \u001b[0;36mmat_mul\u001b[0;34m(a, b, transpose_a, transpose_b, name)\u001b[0m\n\u001b[1;32m   5622\u001b[0m       \u001b[0;32mreturn\u001b[0m \u001b[0m_result\u001b[0m\u001b[0;34m\u001b[0m\u001b[0;34m\u001b[0m\u001b[0m\n\u001b[1;32m   5623\u001b[0m     \u001b[0;32mexcept\u001b[0m \u001b[0m_core\u001b[0m\u001b[0;34m.\u001b[0m\u001b[0m_NotOkStatusException\u001b[0m \u001b[0;32mas\u001b[0m \u001b[0me\u001b[0m\u001b[0;34m:\u001b[0m\u001b[0;34m\u001b[0m\u001b[0;34m\u001b[0m\u001b[0m\n\u001b[0;32m-> 5624\u001b[0;31m       \u001b[0m_ops\u001b[0m\u001b[0;34m.\u001b[0m\u001b[0mraise_from_not_ok_status\u001b[0m\u001b[0;34m(\u001b[0m\u001b[0me\u001b[0m\u001b[0;34m,\u001b[0m \u001b[0mname\u001b[0m\u001b[0;34m)\u001b[0m\u001b[0;34m\u001b[0m\u001b[0;34m\u001b[0m\u001b[0m\n\u001b[0m\u001b[1;32m   5625\u001b[0m     \u001b[0;32mexcept\u001b[0m \u001b[0m_core\u001b[0m\u001b[0;34m.\u001b[0m\u001b[0m_FallbackException\u001b[0m\u001b[0;34m:\u001b[0m\u001b[0;34m\u001b[0m\u001b[0;34m\u001b[0m\u001b[0m\n\u001b[1;32m   5626\u001b[0m       \u001b[0;32mpass\u001b[0m\u001b[0;34m\u001b[0m\u001b[0;34m\u001b[0m\u001b[0m\n",
      "\u001b[0;32m~/.local/lib/python3.6/site-packages/tensorflow/python/framework/ops.py\u001b[0m in \u001b[0;36mraise_from_not_ok_status\u001b[0;34m(e, name)\u001b[0m\n\u001b[1;32m   6841\u001b[0m   \u001b[0mmessage\u001b[0m \u001b[0;34m=\u001b[0m \u001b[0me\u001b[0m\u001b[0;34m.\u001b[0m\u001b[0mmessage\u001b[0m \u001b[0;34m+\u001b[0m \u001b[0;34m(\u001b[0m\u001b[0;34m\" name: \"\u001b[0m \u001b[0;34m+\u001b[0m \u001b[0mname\u001b[0m \u001b[0;32mif\u001b[0m \u001b[0mname\u001b[0m \u001b[0;32mis\u001b[0m \u001b[0;32mnot\u001b[0m \u001b[0;32mNone\u001b[0m \u001b[0;32melse\u001b[0m \u001b[0;34m\"\"\u001b[0m\u001b[0;34m)\u001b[0m\u001b[0;34m\u001b[0m\u001b[0;34m\u001b[0m\u001b[0m\n\u001b[1;32m   6842\u001b[0m   \u001b[0;31m# pylint: disable=protected-access\u001b[0m\u001b[0;34m\u001b[0m\u001b[0;34m\u001b[0m\u001b[0;34m\u001b[0m\u001b[0m\n\u001b[0;32m-> 6843\u001b[0;31m   \u001b[0msix\u001b[0m\u001b[0;34m.\u001b[0m\u001b[0mraise_from\u001b[0m\u001b[0;34m(\u001b[0m\u001b[0mcore\u001b[0m\u001b[0;34m.\u001b[0m\u001b[0m_status_to_exception\u001b[0m\u001b[0;34m(\u001b[0m\u001b[0me\u001b[0m\u001b[0;34m.\u001b[0m\u001b[0mcode\u001b[0m\u001b[0;34m,\u001b[0m \u001b[0mmessage\u001b[0m\u001b[0;34m)\u001b[0m\u001b[0;34m,\u001b[0m \u001b[0;32mNone\u001b[0m\u001b[0;34m)\u001b[0m\u001b[0;34m\u001b[0m\u001b[0;34m\u001b[0m\u001b[0m\n\u001b[0m\u001b[1;32m   6844\u001b[0m   \u001b[0;31m# pylint: enable=protected-access\u001b[0m\u001b[0;34m\u001b[0m\u001b[0;34m\u001b[0m\u001b[0;34m\u001b[0m\u001b[0m\n\u001b[1;32m   6845\u001b[0m \u001b[0;34m\u001b[0m\u001b[0m\n",
      "\u001b[0;32m~/.local/lib/python3.6/site-packages/six.py\u001b[0m in \u001b[0;36mraise_from\u001b[0;34m(value, from_value)\u001b[0m\n",
      "\u001b[0;31mInvalidArgumentError\u001b[0m: In[0] is not a matrix. Instead it has shape [27] [Op:MatMul]"
     ]
    }
   ],
   "source": [
    "tf.matmul(tf.stack(returni[0]) , tf.squeeze(tf.stack(returni[1])))"
   ]
  },
  {
   "cell_type": "code",
   "execution_count": 367,
   "id": "aerial-exhaust",
   "metadata": {},
   "outputs": [
    {
     "data": {
      "text/plain": [
       "<tf.Tensor: shape=(27,), dtype=float64, numpy=\n",
       "array([1., 1., 1., 1., 1., 1., 1., 1., 1., 1., 1., 1., 1., 1., 1., 1., 1.,\n",
       "       1., 1., 1., 1., 1., 1., 1., 1., 1., 1.])>"
      ]
     },
     "execution_count": 367,
     "metadata": {},
     "output_type": "execute_result"
    }
   ],
   "source": []
  },
  {
   "cell_type": "code",
   "execution_count": 366,
   "id": "absolute-morocco",
   "metadata": {},
   "outputs": [
    {
     "data": {
      "text/plain": [
       "<tf.Tensor: shape=(27,), dtype=float64, numpy=\n",
       "array([ 1.        , -0.1299474 ,  0.01688633,  1.21323957, -0.15765733,\n",
       "        0.02048716,  1.47195025, -0.19127611,  0.02485583,  0.65289623,\n",
       "       -0.08484217,  0.01102502,  0.79211955, -0.10293388,  0.01337599,\n",
       "        0.96103078, -0.12488345,  0.01622828,  0.42627349, -0.05539313,\n",
       "        0.00719819,  0.51717187, -0.06720514,  0.00873313,  0.62745338,\n",
       "       -0.08153594,  0.01059538])>"
      ]
     },
     "execution_count": 366,
     "metadata": {},
     "output_type": "execute_result"
    }
   ],
   "source": []
  },
  {
   "cell_type": "code",
   "execution_count": 373,
   "id": "minus-valentine",
   "metadata": {},
   "outputs": [],
   "source": []
  },
  {
   "cell_type": "code",
   "execution_count": 387,
   "id": "oriental-moisture",
   "metadata": {},
   "outputs": [
    {
     "data": {
      "text/plain": [
       "<tf.Tensor: shape=(), dtype=float64, numpy=6.795845888218152>"
      ]
     },
     "execution_count": 387,
     "metadata": {},
     "output_type": "execute_result"
    }
   ],
   "source": []
  },
  {
   "cell_type": "code",
   "execution_count": 381,
   "id": "further-community",
   "metadata": {},
   "outputs": [
    {
     "data": {
      "text/plain": [
       "<tf.Tensor: shape=(27,), dtype=float64, numpy=\n",
       "array([ 1.        , -0.1299474 ,  0.01688633,  1.21323957, -0.15765733,\n",
       "        0.02048716,  1.47195025, -0.19127611,  0.02485583,  0.65289623,\n",
       "       -0.08484217,  0.01102502,  0.79211955, -0.10293388,  0.01337599,\n",
       "        0.96103078, -0.12488345,  0.01622828,  0.42627349, -0.05539313,\n",
       "        0.00719819,  0.51717187, -0.06720514,  0.00873313,  0.62745338,\n",
       "       -0.08153594,  0.01059538])>"
      ]
     },
     "execution_count": 381,
     "metadata": {},
     "output_type": "execute_result"
    }
   ],
   "source": []
  },
  {
   "cell_type": "code",
   "execution_count": null,
   "id": "downtown-voice",
   "metadata": {},
   "outputs": [],
   "source": []
  },
  {
   "cell_type": "code",
   "execution_count": 295,
   "id": "irish-genome",
   "metadata": {},
   "outputs": [
    {
     "name": "stdout",
     "output_type": "stream",
     "text": [
      "WARNING:tensorflow:11 out of the last 11 calls to <function pfor.<locals>.f at 0x7fab59597378> triggered tf.function retracing. Tracing is expensive and the excessive number of tracings could be due to (1) creating @tf.function repeatedly in a loop, (2) passing tensors with different shapes, (3) passing Python objects instead of tensors. For (1), please define your @tf.function outside of the loop. For (2), @tf.function has experimental_relax_shapes=True option that relaxes argument shapes that can avoid unnecessary retracing. For (3), please refer to https://www.tensorflow.org/tutorials/customization/performance#python_or_tensor_args and https://www.tensorflow.org/api_docs/python/tf/function for  more details.\n",
      "WARNING:tensorflow:11 out of the last 11 calls to <function pfor.<locals>.f at 0x7fab58bd0510> triggered tf.function retracing. Tracing is expensive and the excessive number of tracings could be due to (1) creating @tf.function repeatedly in a loop, (2) passing tensors with different shapes, (3) passing Python objects instead of tensors. For (1), please define your @tf.function outside of the loop. For (2), @tf.function has experimental_relax_shapes=True option that relaxes argument shapes that can avoid unnecessary retracing. For (3), please refer to https://www.tensorflow.org/tutorials/customization/performance#python_or_tensor_args and https://www.tensorflow.org/api_docs/python/tf/function for  more details.\n",
      "WARNING:tensorflow:11 out of the last 11 calls to <function pfor.<locals>.f at 0x7fab59d70048> triggered tf.function retracing. Tracing is expensive and the excessive number of tracings could be due to (1) creating @tf.function repeatedly in a loop, (2) passing tensors with different shapes, (3) passing Python objects instead of tensors. For (1), please define your @tf.function outside of the loop. For (2), @tf.function has experimental_relax_shapes=True option that relaxes argument shapes that can avoid unnecessary retracing. For (3), please refer to https://www.tensorflow.org/tutorials/customization/performance#python_or_tensor_args and https://www.tensorflow.org/api_docs/python/tf/function for  more details.\n"
     ]
    }
   ],
   "source": [
    "### LOSS 0 and 1 ###\n",
    "with tf.GradientTape(persistent=True) as tape0:\n",
    "    tape0.watch(x)\n",
    "    tape0.watch(encoder.trainable_variables)\n",
    "    tape0.watch(decoder.trainable_variables)\n",
    "    tape0.watch(tf.convert_to_tensor(sindy.sindy_coeffs))\n",
    "    z = encoder(x)\n",
    "    tape0.watch(z)\n",
    "    x_quasi = decoder(z)\n",
    "\n",
    "    loss0 = tf.keras.losses.MSE(x,x_quasi)\n",
    "\n",
    "    zdot_sindy = tf.cast(tf.expand_dims(np.array([sindy(np.squeeze(z),k) for k in range(3)]), axis=0),tf.float32)\n",
    "    \n",
    "    with tape0.stop_recording():\n",
    "        dpsi_dz = tf.squeeze(tape0.jacobian(x_quasi, z))\n",
    "    xdot_pred = tf.matmul(zdot_sindy,dpsi_dz, transpose_b=True)\n",
    "    loss1 = tf.keras.losses.MSE(x_dot,xdot_pred )\n",
    "\n",
    "    ### LOSS 2 and 4 ###\n",
    "    \n",
    "    with tape0.stop_recording():\n",
    "        dphi_dx = tf.squeeze(tape0.jacobian(z,x))\n",
    "    #tf.einsum('ij,j->i', dphi_dx, tf.squeeze(x_dot))\n",
    "    zdot_pred = tf.matmul(x_dot, dphi_dx, transpose_b=True)\n",
    "    encoder_output = np.squeeze(encoder(x))\n",
    "    zdot_sindy = tf.expand_dims(np.array([sindy(encoder_output,k) for k in range(3)]), axis=0)\n",
    "    loss2 = tf.cast(tf.keras.losses.MSE(zdot_pred, zdot_sindy),tf.float32)\n",
    "\n",
    "    with tape0.stop_recording():\n",
    "        dphi_dx = tf.squeeze(tape0.jacobian(z,x))\n",
    "    #tf.einsum('ij,j->i', dphi_dx, tf.squeeze(x_dot))\n",
    "    zdot_pred = tf.matmul(x_dot, dphi_dx, transpose_b=True)\n",
    "    loss3 = tf.cast(tf.keras.losses.MSE(zdot_pred, zdot_sindy),tf.float32)\n",
    "\n",
    "    loss4 = tf.cast(tf.expand_dims(np.sum(tf.abs(sindy.sindy_coeffs)),axis=0),tf.float32)\n",
    "\n",
    "    total_loss = loss0 + loss1 + loss2 + loss3"
   ]
  },
  {
   "cell_type": "code",
   "execution_count": null,
   "id": "forced-condition",
   "metadata": {},
   "outputs": [],
   "source": []
  },
  {
   "cell_type": "code",
   "execution_count": 277,
   "id": "usual-forwarding",
   "metadata": {},
   "outputs": [
    {
     "data": {
      "text/plain": [
       "6"
      ]
     },
     "execution_count": 277,
     "metadata": {},
     "output_type": "execute_result"
    }
   ],
   "source": [
    "len(tape0.gradient(total_loss,decoder.trainable_variables))"
   ]
  },
  {
   "cell_type": "code",
   "execution_count": 286,
   "id": "viral-disco",
   "metadata": {},
   "outputs": [],
   "source": [
    "grads  = tape0.gradient(total_loss,decoder.trainable_variables)"
   ]
  },
  {
   "cell_type": "code",
   "execution_count": 294,
   "id": "arranged-hawaii",
   "metadata": {},
   "outputs": [],
   "source": [
    "tape0.gradient(total_loss, tf.convert_to_tensor(sindy.sindy_coeffs))"
   ]
  },
  {
   "cell_type": "code",
   "execution_count": 289,
   "id": "green-panic",
   "metadata": {},
   "outputs": [
    {
     "name": "stdout",
     "output_type": "stream",
     "text": [
      "Model: \"encoder_5\"\n",
      "_________________________________________________________________\n",
      "Layer (type)                 Output Shape              Param #   \n",
      "=================================================================\n",
      "dense_24 (Dense)             multiple                  8256      \n",
      "_________________________________________________________________\n",
      "dense_25 (Dense)             multiple                  2080      \n",
      "_________________________________________________________________\n",
      "dense_26 (Dense)             multiple                  99        \n",
      "=================================================================\n",
      "Total params: 10,435\n",
      "Trainable params: 10,435\n",
      "Non-trainable params: 0\n",
      "_________________________________________________________________\n"
     ]
    }
   ],
   "source": [
    "encoder.summary()"
   ]
  },
  {
   "cell_type": "code",
   "execution_count": null,
   "id": "personalized-latin",
   "metadata": {},
   "outputs": [],
   "source": [
    "coeffs = np.ones((3,)+tuple([3]*3))\n",
    "coeffs.shape"
   ]
  },
  {
   "cell_type": "code",
   "execution_count": null,
   "id": "bound-tournament",
   "metadata": {},
   "outputs": [],
   "source": [
    "sindy_coeffs, theta_values =np.zeros((2,27))\n"
   ]
  },
  {
   "cell_type": "code",
   "execution_count": null,
   "id": "objective-victory",
   "metadata": {},
   "outputs": [],
   "source": [
    "coeffs[indi]"
   ]
  },
  {
   "cell_type": "code",
   "execution_count": null,
   "id": "downtown-pencil",
   "metadata": {},
   "outputs": [],
   "source": [
    "index_to_list[0]"
   ]
  },
  {
   "cell_type": "code",
   "execution_count": null,
   "id": "noble-worship",
   "metadata": {},
   "outputs": [],
   "source": [
    "index_to_list"
   ]
  },
  {
   "cell_type": "code",
   "execution_count": null,
   "id": "negative-burner",
   "metadata": {},
   "outputs": [],
   "source": [
    "[0]"
   ]
  },
  {
   "cell_type": "code",
   "execution_count": null,
   "id": "described-transmission",
   "metadata": {},
   "outputs": [],
   "source": []
  }
 ],
 "metadata": {
  "kernelspec": {
   "display_name": "Python 3",
   "language": "python",
   "name": "python3"
  },
  "language_info": {
   "codemirror_mode": {
    "name": "ipython",
    "version": 3
   },
   "file_extension": ".py",
   "mimetype": "text/x-python",
   "name": "python",
   "nbconvert_exporter": "python",
   "pygments_lexer": "ipython3",
   "version": "3.6.9"
  }
 },
 "nbformat": 4,
 "nbformat_minor": 5
}
