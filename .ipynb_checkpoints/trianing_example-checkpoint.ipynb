{
 "cells": [
  {
   "cell_type": "code",
   "execution_count": 1,
   "id": "dangerous-complement",
   "metadata": {},
   "outputs": [],
   "source": [
    "%load_ext autoreload\n",
    "%autoreload 2\n",
    "import tensorflow as tf\n",
    "from networks import Encoder, Decoder, MetaModel, TrainingCallback\n",
    "import numpy as np\n",
    "import ast\n",
    "from sindy import SINDy\n",
    "import os\n",
    "\n",
    "\n",
    "x, x_dot = np.load(\"datalorenz/paper500.npy\").astype(np.float32)\n",
    "x = tf.reshape(x,[-1,128])[:1000]\n",
    "x_dot = tf.reshape(x,[-1,128])[:1000]\n",
    "    "
   ]
  },
  {
   "cell_type": "code",
   "execution_count": 2,
   "id": "dedicated-zealand",
   "metadata": {},
   "outputs": [],
   "source": [
    "\n",
    "encoder = Encoder()\n",
    "decoder = Decoder()\n",
    "sindy = SINDy()\n",
    "models = [encoder, decoder, sindy]\n",
    "    \n",
    "metamodel = MetaModel(models, total_epochs=400, when_zero_lambda3=1000)\n",
    "metamodel.compile_models()\n"
   ]
  },
  {
   "cell_type": "code",
   "execution_count": 3,
   "id": "mechanical-gateway",
   "metadata": {},
   "outputs": [
    {
     "name": "stdout",
     "output_type": "stream",
     "text": [
      "Epoch 1/50\n",
      "WARNING:tensorflow:From /home/cooper-cooper/.local/lib/python3.6/site-packages/tensorflow/python/ops/math_grad.py:297: setdiff1d (from tensorflow.python.ops.array_ops) is deprecated and will be removed after 2018-11-30.\n",
      "Instructions for updating:\n",
      "This op will be removed after the deprecation date. Please switch to tf.sets.difference().\n",
      " 1/40 [..............................] - ETA: 0s - Total Loss: 0.1782 - Loss_0: 0.1782 - Loss_1: 1.7155e-05 - Loss_2: 0.0000e+00 - Loss_3: 1.0000e-05WARNING:tensorflow:From /home/cooper-cooper/.local/lib/python3.6/site-packages/tensorflow/python/ops/summary_ops_v2.py:1277: stop (from tensorflow.python.eager.profiler) is deprecated and will be removed after 2020-07-01.\n",
      "Instructions for updating:\n",
      "use `tf.profiler.experimental.stop` instead.\n",
      "WARNING:tensorflow:Callbacks method `on_train_batch_end` is slow compared to the batch time (batch time: 0.0032s vs `on_train_batch_end` time: 0.0268s). Check your callbacks.\n",
      "20/40 [==============>...............] - ETA: 0s - Total Loss: 0.0563 - Loss_0: 0.0563 - Loss_1: 1.5194e-05 - Loss_2: 0.0000e+00 - Loss_3: 9.8620e-06INFO:tensorflow:Summary name epoch_Total Loss is illegal; using epoch_Total_Loss instead.\n",
      "40/40 [==============================] - 0s 4ms/step - Total Loss: 0.0744 - Loss_0: 0.0743 - Loss_1: 2.0313e-05 - Loss_2: 0.0000e+00 - Loss_3: 9.6942e-06\n",
      "Epoch 2/50\n",
      "22/40 [===============>..............] - ETA: 0s - Total Loss: 0.0245 - Loss_0: 0.0245 - Loss_1: 1.6611e-05 - Loss_2: 0.0000e+00 - Loss_3: 9.5024e-06INFO:tensorflow:Summary name epoch_Total Loss is illegal; using epoch_Total_Loss instead.\n",
      "40/40 [==============================] - 0s 2ms/step - Total Loss: 0.0355 - Loss_0: 0.0354 - Loss_1: 1.8362e-05 - Loss_2: 0.0000e+00 - Loss_3: 9.3423e-06\n",
      "Epoch 3/50\n",
      "23/40 [================>.............] - ETA: 0s - Total Loss: 0.0306 - Loss_0: 0.0305 - Loss_1: 1.5026e-05 - Loss_2: 0.0000e+00 - Loss_3: 9.1351e-06INFO:tensorflow:Summary name epoch_Total Loss is illegal; using epoch_Total_Loss instead.\n",
      "40/40 [==============================] - 0s 2ms/step - Total Loss: 0.0952 - Loss_0: 0.0952 - Loss_1: 2.0328e-05 - Loss_2: 0.0000e+00 - Loss_3: 8.9805e-06\n",
      "Epoch 4/50\n",
      "39/40 [============================>.] - ETA: 0s - Total Loss: 0.1299 - Loss_0: 0.1299 - Loss_1: 2.2634e-05 - Loss_2: 0.0000e+00 - Loss_3: 8.6227e-06INFO:tensorflow:Summary name epoch_Total Loss is illegal; using epoch_Total_Loss instead.\n",
      "40/40 [==============================] - 0s 3ms/step - Total Loss: 0.0467 - Loss_0: 0.0467 - Loss_1: 1.8394e-05 - Loss_2: 0.0000e+00 - Loss_3: 8.6135e-06\n",
      "Epoch 5/50\n",
      "38/40 [===========================>..] - ETA: 0s - Total Loss: 0.0323 - Loss_0: 0.0322 - Loss_1: 1.6990e-05 - Loss_2: 0.0000e+00 - Loss_3: 8.2617e-06INFO:tensorflow:Summary name epoch_Total Loss is illegal; using epoch_Total_Loss instead.\n",
      "40/40 [==============================] - 0s 3ms/step - Total Loss: 0.0335 - Loss_0: 0.0335 - Loss_1: 1.4692e-05 - Loss_2: 0.0000e+00 - Loss_3: 8.2431e-06\n",
      "Epoch 6/50\n",
      "39/40 [============================>.] - ETA: 0s - Total Loss: 0.1087 - Loss_0: 0.1087 - Loss_1: 2.1567e-05 - Loss_2: 0.0000e+00 - Loss_3: 7.8797e-06INFO:tensorflow:Summary name epoch_Total Loss is illegal; using epoch_Total_Loss instead.\n",
      "40/40 [==============================] - 0s 3ms/step - Total Loss: 0.0794 - Loss_0: 0.0794 - Loss_1: 2.1554e-05 - Loss_2: 0.0000e+00 - Loss_3: 7.8704e-06\n",
      "Epoch 7/50\n",
      "39/40 [============================>.] - ETA: 0s - Total Loss: 0.0640 - Loss_0: 0.0640 - Loss_1: 1.7836e-05 - Loss_2: 0.0000e+00 - Loss_3: 7.5052e-06INFO:tensorflow:Summary name epoch_Total Loss is illegal; using epoch_Total_Loss instead.\n",
      "40/40 [==============================] - 0s 3ms/step - Total Loss: 0.0493 - Loss_0: 0.0493 - Loss_1: 1.6489e-05 - Loss_2: 0.0000e+00 - Loss_3: 7.4958e-06\n",
      "Epoch 8/50\n",
      "21/40 [==============>...............] - ETA: 0s - Total Loss: 0.0449 - Loss_0: 0.0448 - Loss_1: 1.4977e-05 - Loss_2: 0.0000e+00 - Loss_3: 7.2985e-06INFO:tensorflow:Summary name epoch_Total Loss is illegal; using epoch_Total_Loss instead.\n",
      "40/40 [==============================] - 0s 3ms/step - Total Loss: 0.0458 - Loss_0: 0.0458 - Loss_1: 1.6345e-05 - Loss_2: 0.0000e+00 - Loss_3: 7.1198e-06\n",
      "Epoch 9/50\n",
      "40/40 [==============================] - ETA: 0s - Total Loss: 0.0307 - Loss_0: 0.0307 - Loss_1: 1.7311e-05 - Loss_2: 0.0000e+00 - Loss_3: 6.7426e-06INFO:tensorflow:Summary name epoch_Total Loss is illegal; using epoch_Total_Loss instead.\n",
      "40/40 [==============================] - 0s 3ms/step - Total Loss: 0.0307 - Loss_0: 0.0307 - Loss_1: 1.7311e-05 - Loss_2: 0.0000e+00 - Loss_3: 6.7426e-06\n",
      "Epoch 10/50\n",
      "38/40 [===========================>..] - ETA: 0s - Total Loss: 0.0371 - Loss_0: 0.0371 - Loss_1: 1.6194e-05 - Loss_2: 0.0000e+00 - Loss_3: 6.3833e-06INFO:tensorflow:Summary name epoch_Total Loss is illegal; using epoch_Total_Loss instead.\n",
      "40/40 [==============================] - 0s 3ms/step - Total Loss: 0.0346 - Loss_0: 0.0345 - Loss_1: 1.5193e-05 - Loss_2: 0.0000e+00 - Loss_3: 6.3644e-06\n",
      "Epoch 11/50\n",
      "38/40 [===========================>..] - ETA: 0s - Total Loss: 0.0313 - Loss_0: 0.0313 - Loss_1: 1.4650e-05 - Loss_2: 0.0000e+00 - Loss_3: 6.0044e-06INFO:tensorflow:Summary name epoch_Total Loss is illegal; using epoch_Total_Loss instead.\n",
      "40/40 [==============================] - 0s 3ms/step - Total Loss: 0.0585 - Loss_0: 0.0585 - Loss_1: 2.1595e-05 - Loss_2: 0.0000e+00 - Loss_3: 5.9854e-06\n",
      "Epoch 12/50\n",
      "34/40 [========================>.....] - ETA: 0s - Total Loss: 0.0713 - Loss_0: 0.0712 - Loss_1: 1.9144e-05 - Loss_2: 0.0000e+00 - Loss_3: 5.6627e-06INFO:tensorflow:Summary name epoch_Total Loss is illegal; using epoch_Total_Loss instead.\n",
      "40/40 [==============================] - 0s 3ms/step - Total Loss: 0.0224 - Loss_0: 0.0224 - Loss_1: 1.5362e-05 - Loss_2: 0.0000e+00 - Loss_3: 5.6057e-06\n",
      "Epoch 13/50\n",
      "33/40 [=======================>......] - ETA: 0s - Total Loss: 0.0793 - Loss_0: 0.0793 - Loss_1: 1.8551e-05 - Loss_2: 0.0000e+00 - Loss_3: 5.2915e-06INFO:tensorflow:Summary name epoch_Total Loss is illegal; using epoch_Total_Loss instead.\n",
      "40/40 [==============================] - 0s 3ms/step - Total Loss: 0.0248 - Loss_0: 0.0248 - Loss_1: 1.3626e-05 - Loss_2: 0.0000e+00 - Loss_3: 5.2247e-06\n",
      "Epoch 14/50\n",
      "39/40 [============================>.] - ETA: 0s - Total Loss: 0.0450 - Loss_0: 0.0450 - Loss_1: 1.7186e-05 - Loss_2: 0.0000e+00 - Loss_3: 4.8519e-06INFO:tensorflow:Summary name epoch_Total Loss is illegal; using epoch_Total_Loss instead.\n",
      "40/40 [==============================] - 0s 3ms/step - Total Loss: 0.1896 - Loss_0: 0.1896 - Loss_1: 3.0651e-05 - Loss_2: 0.0000e+00 - Loss_3: 4.8423e-06\n",
      "Epoch 15/50\n",
      "34/40 [========================>.....] - ETA: 0s - Total Loss: 0.0438 - Loss_0: 0.0438 - Loss_1: 1.9824e-05 - Loss_2: 0.0000e+00 - Loss_3: 4.5741e-06INFO:tensorflow:Summary name epoch_Total Loss is illegal; using epoch_Total_Loss instead.\n",
      "40/40 [==============================] - 0s 6ms/step - Total Loss: 0.1087 - Loss_0: 0.1086 - Loss_1: 3.2302e-05 - Loss_2: 0.0000e+00 - Loss_3: 4.5450e-06\n",
      "Epoch 16/50\n",
      "35/40 [=========================>....] - ETA: 0s - Total Loss: 0.0390 - Loss_0: 0.0390 - Loss_1: 1.6918e-05 - Loss_2: 0.0000e+00 - Loss_3: 4.4561e-06INFO:tensorflow:Summary name epoch_Total Loss is illegal; using epoch_Total_Loss instead.\n",
      "40/40 [==============================] - 0s 3ms/step - Total Loss: 0.0312 - Loss_0: 0.0311 - Loss_1: 2.0514e-05 - Loss_2: 0.0000e+00 - Loss_3: 4.4458e-06\n",
      "Epoch 17/50\n",
      "27/40 [===================>..........] - ETA: 0s - Total Loss: 0.0820 - Loss_0: 0.0820 - Loss_1: 1.6569e-05 - Loss_2: 0.0000e+00 - Loss_3: 4.4051e-06INFO:tensorflow:Summary name epoch_Total Loss is illegal; using epoch_Total_Loss instead.\n",
      "40/40 [==============================] - 0s 4ms/step - Total Loss: 0.0296 - Loss_0: 0.0295 - Loss_1: 1.0983e-05 - Loss_2: 0.0000e+00 - Loss_3: 4.3891e-06\n",
      "Epoch 18/50\n",
      "32/40 [=======================>......] - ETA: 0s - Total Loss: 0.0320 - Loss_0: 0.0319 - Loss_1: 8.1079e-06 - Loss_2: 0.0000e+00 - Loss_3: 4.3563e-06INFO:tensorflow:Summary name epoch_Total Loss is illegal; using epoch_Total_Loss instead.\n",
      "40/40 [==============================] - 0s 3ms/step - Total Loss: 0.0159 - Loss_0: 0.0159 - Loss_1: 7.1288e-06 - Loss_2: 0.0000e+00 - Loss_3: 4.3456e-06\n"
     ]
    },
    {
     "name": "stdout",
     "output_type": "stream",
     "text": [
      "Epoch 19/50\n",
      "40/40 [==============================] - ETA: 0s - Total Loss: 0.0081 - Loss_0: 0.0081 - Loss_1: 7.7150e-06 - Loss_2: 0.0000e+00 - Loss_3: 4.2872e-06INFO:tensorflow:Summary name epoch_Total Loss is illegal; using epoch_Total_Loss instead.\n",
      "40/40 [==============================] - 0s 3ms/step - Total Loss: 0.0081 - Loss_0: 0.0081 - Loss_1: 7.7150e-06 - Loss_2: 0.0000e+00 - Loss_3: 4.2872e-06\n",
      "Epoch 20/50\n",
      "37/40 [==========================>...] - ETA: 0s - Total Loss: 0.0229 - Loss_0: 0.0229 - Loss_1: 1.4939e-05 - Loss_2: 0.0000e+00 - Loss_3: 4.2415e-06INFO:tensorflow:Summary name epoch_Total Loss is illegal; using epoch_Total_Loss instead.\n",
      "40/40 [==============================] - 0s 3ms/step - Total Loss: 0.0143 - Loss_0: 0.0143 - Loss_1: 1.1578e-05 - Loss_2: 0.0000e+00 - Loss_3: 4.2380e-06\n",
      "Epoch 21/50\n",
      "32/40 [=======================>......] - ETA: 0s - Total Loss: 0.0092 - Loss_0: 0.0092 - Loss_1: 1.0709e-05 - Loss_2: 0.0000e+00 - Loss_3: 4.2011e-06INFO:tensorflow:Summary name epoch_Total Loss is illegal; using epoch_Total_Loss instead.\n",
      "40/40 [==============================] - 0s 3ms/step - Total Loss: 0.0099 - Loss_0: 0.0099 - Loss_1: 9.8443e-06 - Loss_2: 0.0000e+00 - Loss_3: 4.1921e-06\n",
      "Epoch 22/50\n",
      "32/40 [=======================>......] - ETA: 0s - Total Loss: 0.0197 - Loss_0: 0.0197 - Loss_1: 8.9241e-06 - Loss_2: 0.0000e+00 - Loss_3: 4.1570e-06INFO:tensorflow:Summary name epoch_Total Loss is illegal; using epoch_Total_Loss instead.\n",
      "40/40 [==============================] - 0s 3ms/step - Total Loss: 0.0235 - Loss_0: 0.0234 - Loss_1: 1.2322e-05 - Loss_2: 0.0000e+00 - Loss_3: 4.1480e-06\n",
      "Epoch 23/50\n",
      "38/40 [===========================>..] - ETA: 0s - Total Loss: 0.0295 - Loss_0: 0.0295 - Loss_1: 1.4240e-05 - Loss_2: 0.0000e+00 - Loss_3: 4.1062e-06INFO:tensorflow:Summary name epoch_Total Loss is illegal; using epoch_Total_Loss instead.\n",
      "40/40 [==============================] - 0s 3ms/step - Total Loss: 0.0078 - Loss_0: 0.0078 - Loss_1: 8.2886e-06 - Loss_2: 0.0000e+00 - Loss_3: 4.1040e-06\n",
      "Epoch 24/50\n",
      "36/40 [==========================>...] - ETA: 0s - Total Loss: 0.0150 - Loss_0: 0.0150 - Loss_1: 9.4561e-06 - Loss_2: 0.0000e+00 - Loss_3: 4.0652e-06INFO:tensorflow:Summary name epoch_Total Loss is illegal; using epoch_Total_Loss instead.\n",
      "40/40 [==============================] - 0s 3ms/step - Total Loss: 0.0410 - Loss_0: 0.0410 - Loss_1: 1.8384e-05 - Loss_2: 0.0000e+00 - Loss_3: 4.0606e-06\n",
      "Epoch 25/50\n",
      "34/40 [========================>.....] - ETA: 0s - Total Loss: 0.0363 - Loss_0: 0.0363 - Loss_1: 1.3405e-05 - Loss_2: 0.0000e+00 - Loss_3: 4.0233e-06INFO:tensorflow:Summary name epoch_Total Loss is illegal; using epoch_Total_Loss instead.\n",
      "40/40 [==============================] - 0s 3ms/step - Total Loss: 0.0867 - Loss_0: 0.0867 - Loss_1: 2.0708e-05 - Loss_2: 0.0000e+00 - Loss_3: 4.0164e-06\n",
      "Epoch 26/50\n",
      "36/40 [==========================>...] - ETA: 0s - Total Loss: 0.0178 - Loss_0: 0.0178 - Loss_1: 1.1086e-05 - Loss_2: 0.0000e+00 - Loss_3: 3.9740e-06INFO:tensorflow:Summary name epoch_Total Loss is illegal; using epoch_Total_Loss instead.\n",
      "40/40 [==============================] - 0s 3ms/step - Total Loss: 0.0215 - Loss_0: 0.0215 - Loss_1: 1.2357e-05 - Loss_2: 0.0000e+00 - Loss_3: 3.9693e-06\n",
      "Epoch 27/50\n",
      "33/40 [=======================>......] - ETA: 0s - Total Loss: 0.0152 - Loss_0: 0.0152 - Loss_1: 1.3233e-05 - Loss_2: 0.0000e+00 - Loss_3: 3.9293e-06INFO:tensorflow:Summary name epoch_Total Loss is illegal; using epoch_Total_Loss instead.\n",
      "40/40 [==============================] - 0s 3ms/step - Total Loss: 0.0627 - Loss_0: 0.0627 - Loss_1: 1.6257e-05 - Loss_2: 0.0000e+00 - Loss_3: 3.9210e-06\n",
      "Epoch 28/50\n",
      "34/40 [========================>.....] - ETA: 0s - Total Loss: 0.0313 - Loss_0: 0.0312 - Loss_1: 1.4769e-05 - Loss_2: 0.0000e+00 - Loss_3: 3.8810e-06INFO:tensorflow:Summary name epoch_Total Loss is illegal; using epoch_Total_Loss instead.\n",
      "40/40 [==============================] - 0s 3ms/step - Total Loss: 0.0107 - Loss_0: 0.0107 - Loss_1: 1.0478e-05 - Loss_2: 0.0000e+00 - Loss_3: 3.8732e-06\n",
      "Epoch 29/50\n",
      "36/40 [==========================>...] - ETA: 0s - Total Loss: 0.0667 - Loss_0: 0.0667 - Loss_1: 1.8598e-05 - Loss_2: 0.0000e+00 - Loss_3: 3.8268e-06INFO:tensorflow:Summary name epoch_Total Loss is illegal; using epoch_Total_Loss instead.\n",
      "40/40 [==============================] - 0s 3ms/step - Total Loss: 0.0685 - Loss_0: 0.0685 - Loss_1: 1.7870e-05 - Loss_2: 0.0000e+00 - Loss_3: 3.8215e-06\n",
      "Epoch 30/50\n",
      "40/40 [==============================] - ETA: 0s - Total Loss: 0.0133 - Loss_0: 0.0132 - Loss_1: 9.9810e-06 - Loss_2: 0.0000e+00 - Loss_3: 3.7717e-06INFO:tensorflow:Summary name epoch_Total Loss is illegal; using epoch_Total_Loss instead.\n",
      "40/40 [==============================] - 0s 5ms/step - Total Loss: 0.0133 - Loss_0: 0.0132 - Loss_1: 9.9810e-06 - Loss_2: 0.0000e+00 - Loss_3: 3.7717e-06\n",
      "Epoch 31/50\n",
      "37/40 [==========================>...] - ETA: 0s - Total Loss: 0.0223 - Loss_0: 0.0223 - Loss_1: 1.2457e-05 - Loss_2: 0.0000e+00 - Loss_3: 3.7279e-06INFO:tensorflow:Summary name epoch_Total Loss is illegal; using epoch_Total_Loss instead.\n",
      "40/40 [==============================] - 0s 3ms/step - Total Loss: 0.0128 - Loss_0: 0.0127 - Loss_1: 1.2678e-05 - Loss_2: 0.0000e+00 - Loss_3: 3.7243e-06\n",
      "Epoch 32/50\n",
      "24/40 [=================>............] - ETA: 0s - Total Loss: 0.0256 - Loss_0: 0.0256 - Loss_1: 1.4663e-05 - Loss_2: 0.0000e+00 - Loss_3: 3.6956e-06INFO:tensorflow:Summary name epoch_Total Loss is illegal; using epoch_Total_Loss instead.\n",
      "40/40 [==============================] - 0s 3ms/step - Total Loss: 0.0091 - Loss_0: 0.0091 - Loss_1: 1.1209e-05 - Loss_2: 0.0000e+00 - Loss_3: 3.6759e-06\n",
      "Epoch 33/50\n",
      "33/40 [=======================>......] - ETA: 0s - Total Loss: 0.0136 - Loss_0: 0.0136 - Loss_1: 1.1808e-05 - Loss_2: 0.0000e+00 - Loss_3: 3.6352e-06INFO:tensorflow:Summary name epoch_Total Loss is illegal; using epoch_Total_Loss instead.\n",
      "40/40 [==============================] - 0s 3ms/step - Total Loss: 0.0353 - Loss_0: 0.0353 - Loss_1: 1.3492e-05 - Loss_2: 0.0000e+00 - Loss_3: 3.6262e-06\n",
      "Epoch 34/50\n",
      "34/40 [========================>.....] - ETA: 0s - Total Loss: 0.0079 - Loss_0: 0.0079 - Loss_1: 1.1380e-05 - Loss_2: 0.0000e+00 - Loss_3: 3.5836e-06INFO:tensorflow:Summary name epoch_Total Loss is illegal; using epoch_Total_Loss instead.\n",
      "40/40 [==============================] - 0s 3ms/step - Total Loss: 0.0074 - Loss_0: 0.0074 - Loss_1: 9.9132e-06 - Loss_2: 0.0000e+00 - Loss_3: 3.5753e-06\n",
      "Epoch 35/50\n",
      "32/40 [=======================>......] - ETA: 0s - Total Loss: 0.0285 - Loss_0: 0.0284 - Loss_1: 1.1584e-05 - Loss_2: 0.0000e+00 - Loss_3: 3.5323e-06INFO:tensorflow:Summary name epoch_Total Loss is illegal; using epoch_Total_Loss instead.\n",
      "40/40 [==============================] - 0s 3ms/step - Total Loss: 0.0097 - Loss_0: 0.0096 - Loss_1: 9.0279e-06 - Loss_2: 0.0000e+00 - Loss_3: 3.5233e-06\n",
      "Epoch 36/50\n",
      "34/40 [========================>.....] - ETA: 0s - Total Loss: 0.0154 - Loss_0: 0.0154 - Loss_1: 1.0039e-05 - Loss_2: 0.0000e+00 - Loss_3: 3.4837e-06INFO:tensorflow:Summary name epoch_Total Loss is illegal; using epoch_Total_Loss instead.\n",
      "40/40 [==============================] - 0s 3ms/step - Total Loss: 0.0332 - Loss_0: 0.0332 - Loss_1: 1.3450e-05 - Loss_2: 0.0000e+00 - Loss_3: 3.4761e-06\n",
      "Epoch 37/50\n",
      "36/40 [==========================>...] - ETA: 0s - Total Loss: 0.0263 - Loss_0: 0.0262 - Loss_1: 1.2495e-05 - Loss_2: 0.0000e+00 - Loss_3: 3.4329e-06INFO:tensorflow:Summary name epoch_Total Loss is illegal; using epoch_Total_Loss instead.\n",
      "40/40 [==============================] - 0s 3ms/step - Total Loss: 0.0098 - Loss_0: 0.0098 - Loss_1: 9.1191e-06 - Loss_2: 0.0000e+00 - Loss_3: 3.4283e-06\n",
      "Epoch 38/50\n",
      "36/40 [==========================>...] - ETA: 0s - Total Loss: 0.0113 - Loss_0: 0.0112 - Loss_1: 1.1525e-05 - Loss_2: 0.0000e+00 - Loss_3: 3.3825e-06INFO:tensorflow:Summary name epoch_Total Loss is illegal; using epoch_Total_Loss instead.\n",
      "40/40 [==============================] - 0s 3ms/step - Total Loss: 0.0126 - Loss_0: 0.0126 - Loss_1: 1.2591e-05 - Loss_2: 0.0000e+00 - Loss_3: 3.3771e-06\n",
      "Epoch 39/50\n"
     ]
    },
    {
     "name": "stdout",
     "output_type": "stream",
     "text": [
      "36/40 [==========================>...] - ETA: 0s - Total Loss: 0.0058 - Loss_0: 0.0058 - Loss_1: 1.0742e-05 - Loss_2: 0.0000e+00 - Loss_3: 3.3356e-06INFO:tensorflow:Summary name epoch_Total Loss is illegal; using epoch_Total_Loss instead.\n",
      "40/40 [==============================] - 0s 3ms/step - Total Loss: 0.0247 - Loss_0: 0.0247 - Loss_1: 1.3071e-05 - Loss_2: 0.0000e+00 - Loss_3: 3.3307e-06\n",
      "Epoch 40/50\n",
      "36/40 [==========================>...] - ETA: 0s - Total Loss: 0.0236 - Loss_0: 0.0236 - Loss_1: 1.2332e-05 - Loss_2: 0.0000e+00 - Loss_3: 3.2878e-06INFO:tensorflow:Summary name epoch_Total Loss is illegal; using epoch_Total_Loss instead.\n",
      "40/40 [==============================] - 0s 3ms/step - Total Loss: 0.0113 - Loss_0: 0.0113 - Loss_1: 1.1060e-05 - Loss_2: 0.0000e+00 - Loss_3: 3.2827e-06\n",
      "Epoch 41/50\n",
      "37/40 [==========================>...] - ETA: 0s - Total Loss: 0.0332 - Loss_0: 0.0332 - Loss_1: 1.1381e-05 - Loss_2: 0.0000e+00 - Loss_3: 3.2361e-06INFO:tensorflow:Summary name epoch_Total Loss is illegal; using epoch_Total_Loss instead.\n",
      "40/40 [==============================] - 0s 3ms/step - Total Loss: 0.0095 - Loss_0: 0.0095 - Loss_1: 1.0538e-05 - Loss_2: 0.0000e+00 - Loss_3: 3.2321e-06\n",
      "Epoch 42/50\n",
      "36/40 [==========================>...] - ETA: 0s - Total Loss: 0.0213 - Loss_0: 0.0213 - Loss_1: 1.2841e-05 - Loss_2: 0.0000e+00 - Loss_3: 3.1878e-06INFO:tensorflow:Summary name epoch_Total Loss is illegal; using epoch_Total_Loss instead.\n",
      "40/40 [==============================] - 0s 3ms/step - Total Loss: 0.0249 - Loss_0: 0.0249 - Loss_1: 1.3819e-05 - Loss_2: 0.0000e+00 - Loss_3: 3.1831e-06\n",
      "Epoch 43/50\n",
      "38/40 [===========================>..] - ETA: 0s - Total Loss: 0.0485 - Loss_0: 0.0485 - Loss_1: 1.5933e-05 - Loss_2: 0.0000e+00 - Loss_3: 3.1386e-06INFO:tensorflow:Summary name epoch_Total Loss is illegal; using epoch_Total_Loss instead.\n",
      "40/40 [==============================] - 0s 3ms/step - Total Loss: 0.0179 - Loss_0: 0.0179 - Loss_1: 1.3133e-05 - Loss_2: 0.0000e+00 - Loss_3: 3.1361e-06\n",
      "Epoch 44/50\n",
      "37/40 [==========================>...] - ETA: 0s - Total Loss: 0.0207 - Loss_0: 0.0207 - Loss_1: 1.1055e-05 - Loss_2: 0.0000e+00 - Loss_3: 3.0962e-06INFO:tensorflow:Summary name epoch_Total Loss is illegal; using epoch_Total_Loss instead.\n",
      "40/40 [==============================] - 0s 3ms/step - Total Loss: 0.0064 - Loss_0: 0.0064 - Loss_1: 1.0119e-05 - Loss_2: 0.0000e+00 - Loss_3: 3.0932e-06\n",
      "Epoch 45/50\n",
      "37/40 [==========================>...] - ETA: 0s - Total Loss: 0.0184 - Loss_0: 0.0184 - Loss_1: 9.8164e-06 - Loss_2: 0.0000e+00 - Loss_3: 3.0516e-06INFO:tensorflow:Summary name epoch_Total Loss is illegal; using epoch_Total_Loss instead.\n",
      "40/40 [==============================] - 0s 3ms/step - Total Loss: 0.0316 - Loss_0: 0.0316 - Loss_1: 1.3497e-05 - Loss_2: 0.0000e+00 - Loss_3: 3.0478e-06\n",
      "Epoch 46/50\n",
      "38/40 [===========================>..] - ETA: 0s - Total Loss: 0.0197 - Loss_0: 0.0197 - Loss_1: 1.2268e-05 - Loss_2: 0.0000e+00 - Loss_3: 3.0031e-06INFO:tensorflow:Summary name epoch_Total Loss is illegal; using epoch_Total_Loss instead.\n",
      "40/40 [==============================] - 0s 3ms/step - Total Loss: 0.0256 - Loss_0: 0.0256 - Loss_1: 1.0602e-05 - Loss_2: 0.0000e+00 - Loss_3: 3.0003e-06\n",
      "Epoch 47/50\n",
      "39/40 [============================>.] - ETA: 0s - Total Loss: 0.0085 - Loss_0: 0.0085 - Loss_1: 1.2211e-05 - Loss_2: 0.0000e+00 - Loss_3: 2.9538e-06INFO:tensorflow:Summary name epoch_Total Loss is illegal; using epoch_Total_Loss instead.\n",
      "40/40 [==============================] - 0s 3ms/step - Total Loss: 0.0528 - Loss_0: 0.0528 - Loss_1: 1.5522e-05 - Loss_2: 0.0000e+00 - Loss_3: 2.9526e-06\n",
      "Epoch 48/50\n",
      "24/40 [=================>............] - ETA: 0s - Total Loss: 0.0171 - Loss_0: 0.0171 - Loss_1: 1.2085e-05 - Loss_2: 0.0000e+00 - Loss_3: 2.9257e-06INFO:tensorflow:Summary name epoch_Total Loss is illegal; using epoch_Total_Loss instead.\n",
      "40/40 [==============================] - 0s 2ms/step - Total Loss: 0.0070 - Loss_0: 0.0070 - Loss_1: 8.4726e-06 - Loss_2: 0.0000e+00 - Loss_3: 2.9067e-06\n",
      "Epoch 49/50\n",
      "23/40 [================>.............] - ETA: 0s - Total Loss: 0.0106 - Loss_0: 0.0106 - Loss_1: 1.2573e-05 - Loss_2: 0.0000e+00 - Loss_3: 2.8829e-06INFO:tensorflow:Summary name epoch_Total Loss is illegal; using epoch_Total_Loss instead.\n",
      "40/40 [==============================] - 0s 2ms/step - Total Loss: 0.0157 - Loss_0: 0.0157 - Loss_1: 1.2759e-05 - Loss_2: 0.0000e+00 - Loss_3: 2.8644e-06\n",
      "Epoch 50/50\n",
      "37/40 [==========================>...] - ETA: 0s - Total Loss: 0.0318 - Loss_0: 0.0317 - Loss_1: 1.1915e-05 - Loss_2: 0.0000e+00 - Loss_3: 2.8249e-06INFO:tensorflow:Summary name epoch_Total Loss is illegal; using epoch_Total_Loss instead.\n",
      "40/40 [==============================] - 0s 3ms/step - Total Loss: 0.0083 - Loss_0: 0.0083 - Loss_1: 8.8814e-06 - Loss_2: 0.0000e+00 - Loss_3: 2.8214e-06\n"
     ]
    }
   ],
   "source": [
    "history = metamodel.fit(x=x, y=x_dot, epochs=50, batch_size=25,\n",
    "                callbacks=[TrainingCallback(), tf.keras.callbacks.TensorBoard(\"logs/prueba3\"),\n",
    "                              ])"
   ]
  },
  {
   "cell_type": "code",
   "execution_count": 7,
   "id": "straight-input",
   "metadata": {},
   "outputs": [
    {
     "data": {
      "text/plain": [
       "[<tf.Tensor: shape=(3, 27), dtype=float32, numpy=\n",
       " array([[0.96854687, 0.968574  , 0.96856236, 0.9685555 , 0.96856576,\n",
       "         0.9685641 , 0.96856296, 0.9685646 , 0.96856403, 0.9685714 ,\n",
       "         0.96856344, 0.96856457, 0.9685652 , 0.96856403, 0.9685644 ,\n",
       "         0.9685645 , 0.96856415, 0.9685643 , 0.9685639 , 0.96856445,\n",
       "         0.96856415, 0.96856403, 0.9685644 , 0.9685643 , 0.96856415,\n",
       "         0.9685643 , 0.9685643 ],\n",
       "        [0.96871614, 0.96854234, 0.9685678 , 0.9685842 , 0.9685614 ,\n",
       "         0.96856487, 0.9685671 , 0.9685639 , 0.9685644 , 0.9685531 ,\n",
       "         0.96856624, 0.96856403, 0.96856266, 0.9685646 , 0.96856403,\n",
       "         0.9685641 , 0.9685644 , 0.9685643 , 0.9685653 , 0.9685641 ,\n",
       "         0.9685644 , 0.96856457, 0.9685641 , 0.9685643 , 0.9685644 ,\n",
       "         0.9685643 , 0.9685643 ],\n",
       "        [0.96840435, 0.96858937, 0.9685605 , 0.9685427 , 0.96856785,\n",
       "         0.96856385, 0.9685614 , 0.96856487, 0.968564  , 0.96857685,\n",
       "         0.96856225, 0.9685647 , 0.96856606, 0.96856403, 0.9685644 ,\n",
       "         0.9685646 , 0.96856403, 0.9685643 , 0.9685633 , 0.96856457,\n",
       "         0.9685641 , 0.96856403, 0.9685644 , 0.9685643 , 0.96856415,\n",
       "         0.9685643 , 0.9685643 ]], dtype=float32)>]"
      ]
     },
     "execution_count": 7,
     "metadata": {},
     "output_type": "execute_result"
    }
   ],
   "source": [
    "sindy.weigths"
   ]
  },
  {
   "cell_type": "code",
   "execution_count": 4,
   "id": "third-lease",
   "metadata": {},
   "outputs": [
    {
     "data": {
      "text/plain": [
       "[<tf.Variable 'encoder/dense/kernel:0' shape=(128, 64) dtype=float32, numpy=\n",
       " array([[ 0.31913006,  0.3657689 , -0.06213545, ..., -0.16568264,\n",
       "         -0.02180946, -0.07345429],\n",
       "        [ 0.29603165,  0.32981306, -0.06631725, ..., -0.1412729 ,\n",
       "         -0.03076452, -0.08072545],\n",
       "        [ 0.20794913,  0.2501292 , -0.07774699, ..., -0.15175615,\n",
       "         -0.04111056, -0.07343456],\n",
       "        ...,\n",
       "        [-0.06236361, -0.04389124, -0.07446749, ..., -0.11647364,\n",
       "         -0.08741062, -0.09009435],\n",
       "        [-0.040677  , -0.06679016, -0.08434206, ..., -0.11442003,\n",
       "         -0.05468736, -0.06813672],\n",
       "        [-0.04455245, -0.05125188, -0.05873633, ..., -0.08310209,\n",
       "         -0.05778583, -0.06658536]], dtype=float32)>,\n",
       " <tf.Variable 'encoder/dense/bias:0' shape=(64,) dtype=float32, numpy=\n",
       " array([ 0.08812302,  0.10693256, -0.23485823, -0.37387556, -0.31235754,\n",
       "         0.22923858, -0.25005487, -0.36233094,  0.01997476, -0.31824762,\n",
       "        -0.24432945,  0.07494211,  0.08213156, -0.18309931, -0.2824205 ,\n",
       "         0.10649408,  0.19958223, -0.1962416 ,  0.0179969 , -0.13032429,\n",
       "        -0.29808548,  0.2037253 ,  0.14665508, -0.3048733 , -0.24783942,\n",
       "         0.27662244, -0.2654492 , -0.30015594, -0.27192467, -0.3522827 ,\n",
       "        -0.25460625,  0.32334933,  0.24367784, -0.2618907 , -0.30020133,\n",
       "        -0.22183736,  0.21616152, -0.28316402, -0.23604   ,  0.05309384,\n",
       "        -0.36884657,  0.2907257 , -0.2841544 , -0.2710912 , -0.21980387,\n",
       "         0.23572709, -0.2439535 , -0.29358006, -0.28405538,  0.1446243 ,\n",
       "         0.03496116, -0.34524715, -0.20955493, -0.26633522, -0.13843247,\n",
       "         0.25329623, -0.2492201 , -0.30946556, -0.24541058,  0.03724669,\n",
       "        -0.17279197, -0.3519333 , -0.1781471 , -0.2544224 ], dtype=float32)>,\n",
       " <tf.Variable 'encoder/dense_1/kernel:0' shape=(64, 32) dtype=float32, numpy=\n",
       " array([[-0.15776989,  0.01016669, -0.41361442, ...,  0.01792714,\n",
       "         -0.0038727 ,  0.09187339],\n",
       "        [-0.18466789,  0.02357668, -0.39691618, ...,  0.03828926,\n",
       "          0.0006456 ,  0.08368029],\n",
       "        [-0.15984374,  0.08011768, -0.31734332, ..., -0.05623457,\n",
       "         -0.06148985,  0.08912862],\n",
       "        ...,\n",
       "        [-0.13992308,  0.11889421, -0.25701693, ..., -0.17096978,\n",
       "         -0.14126565,  0.09943406],\n",
       "        [-0.170792  ,  0.05007337, -0.36224484, ..., -0.01487334,\n",
       "         -0.04225766,  0.10375188],\n",
       "        [-0.15514456,  0.08106381, -0.28963885, ..., -0.07702025,\n",
       "         -0.07556283,  0.08829002]], dtype=float32)>,\n",
       " <tf.Variable 'encoder/dense_1/bias:0' shape=(32,) dtype=float32, numpy=\n",
       " array([ 0.04130214, -0.1399715 ,  0.20217669,  0.14522532,  0.11084063,\n",
       "        -0.11648649,  0.04222049,  0.18663415,  0.18854499,  0.17092663,\n",
       "         0.12096446,  0.07878903,  0.1146599 ,  0.11897589,  0.18027987,\n",
       "         0.06869484,  0.17842075,  0.0511304 , -0.03784743,  0.08560468,\n",
       "         0.04458834,  0.06811315,  0.15391964,  0.18527555,  0.13494095,\n",
       "         0.09631184,  0.12969178,  0.07384095,  0.09261815,  0.21063139,\n",
       "         0.17542173, -0.0847703 ], dtype=float32)>,\n",
       " <tf.Variable 'encoder/dense_2/kernel:0' shape=(32, 3) dtype=float32, numpy=\n",
       " array([[ 0.19067235, -0.1593396 ,  0.15243426],\n",
       "        [-0.48044884,  0.49411464, -0.48391366],\n",
       "        [ 0.4666584 , -0.47380266,  0.4631912 ],\n",
       "        [ 0.39240327, -0.3847703 ,  0.36840263],\n",
       "        [ 0.16134734, -0.15001996,  0.10765381],\n",
       "        [-0.46864137,  0.48460498, -0.4717471 ],\n",
       "        [ 0.22764966, -0.21629617,  0.20002232],\n",
       "        [ 0.2018113 , -0.1498642 ,  0.14533725],\n",
       "        [ 0.1989764 , -0.18089972,  0.13289413],\n",
       "        [ 0.19150998, -0.14863732,  0.13770872],\n",
       "        [ 0.16725916, -0.15375942,  0.11469308],\n",
       "        [ 0.30524895, -0.3002288 ,  0.27525103],\n",
       "        [ 0.16794242, -0.15743196,  0.10497484],\n",
       "        [ 0.16937192, -0.1346016 ,  0.1104028 ],\n",
       "        [ 0.19286056, -0.15287897,  0.15603453],\n",
       "        [ 0.1704614 , -0.13304897,  0.10431486],\n",
       "        [ 0.19093569, -0.16180564,  0.1426476 ],\n",
       "        [ 0.16378388, -0.1619064 ,  0.13297811],\n",
       "        [-0.45861328,  0.48238844, -0.49551255],\n",
       "        [ 0.16873357, -0.13401325,  0.10007729],\n",
       "        [ 0.23717038, -0.24992707,  0.21694785],\n",
       "        [ 0.28950024, -0.27808574,  0.25966024],\n",
       "        [ 0.16510177, -0.16271263,  0.13915928],\n",
       "        [ 0.18875493, -0.1648451 ,  0.15339258],\n",
       "        [ 0.16913334, -0.15841986,  0.11911136],\n",
       "        [ 0.16419764, -0.12590744,  0.10906637],\n",
       "        [ 0.38065368, -0.38098156,  0.38154215],\n",
       "        [ 0.29683095, -0.2912319 ,  0.26579317],\n",
       "        [ 0.32627937, -0.30465043,  0.30582604],\n",
       "        [ 0.21826802, -0.16635722,  0.17148727],\n",
       "        [ 0.19308385, -0.1710377 ,  0.12089705],\n",
       "        [-0.46379203,  0.47498688, -0.46879807]], dtype=float32)>,\n",
       " <tf.Variable 'encoder/dense_2/bias:0' shape=(3,) dtype=float32, numpy=array([-0.3454235 ,  0.36347413, -0.3771778 ], dtype=float32)>]"
      ]
     },
     "execution_count": 4,
     "metadata": {},
     "output_type": "execute_result"
    }
   ],
   "source": [
    "encoder.weights"
   ]
  },
  {
   "cell_type": "code",
   "execution_count": 63,
   "id": "encouraging-calcium",
   "metadata": {},
   "outputs": [
    {
     "ename": "ValueError",
     "evalue": "Unsuccessful TensorSliceReader constructor: Failed to get matching files on nets/sindy_11/: Not found: nets/sindy_11; No such file or directory",
     "output_type": "error",
     "traceback": [
      "\u001b[0;31m---------------------------------------------------------------------------\u001b[0m",
      "\u001b[0;31mValueError\u001b[0m                                Traceback (most recent call last)",
      "\u001b[0;32m<ipython-input-63-cfbb6adf27b8>\u001b[0m in \u001b[0;36m<module>\u001b[0;34m\u001b[0m\n\u001b[1;32m      1\u001b[0m \u001b[0msindy\u001b[0m \u001b[0;34m=\u001b[0m \u001b[0mSINDy\u001b[0m\u001b[0;34m(\u001b[0m\u001b[0;34m)\u001b[0m\u001b[0;34m\u001b[0m\u001b[0;34m\u001b[0m\u001b[0m\n\u001b[0;32m----> 2\u001b[0;31m \u001b[0msindy\u001b[0m\u001b[0;34m.\u001b[0m\u001b[0mload_weights\u001b[0m\u001b[0;34m(\u001b[0m\u001b[0;34m\"nets/sindy_11/\"\u001b[0m\u001b[0;34m)\u001b[0m\u001b[0;34m\u001b[0m\u001b[0;34m\u001b[0m\u001b[0m\n\u001b[0m",
      "\u001b[0;32m~/.local/lib/python3.6/site-packages/tensorflow/python/keras/engine/training.py\u001b[0m in \u001b[0;36mload_weights\u001b[0;34m(self, filepath, by_name, skip_mismatch, options)\u001b[0m\n\u001b[1;32m   2174\u001b[0m     \u001b[0;32melse\u001b[0m\u001b[0;34m:\u001b[0m\u001b[0;34m\u001b[0m\u001b[0;34m\u001b[0m\u001b[0m\n\u001b[1;32m   2175\u001b[0m       \u001b[0;32mtry\u001b[0m\u001b[0;34m:\u001b[0m\u001b[0;34m\u001b[0m\u001b[0;34m\u001b[0m\u001b[0m\n\u001b[0;32m-> 2176\u001b[0;31m         \u001b[0mpy_checkpoint_reader\u001b[0m\u001b[0;34m.\u001b[0m\u001b[0mNewCheckpointReader\u001b[0m\u001b[0;34m(\u001b[0m\u001b[0mfilepath\u001b[0m\u001b[0;34m)\u001b[0m\u001b[0;34m\u001b[0m\u001b[0;34m\u001b[0m\u001b[0m\n\u001b[0m\u001b[1;32m   2177\u001b[0m         \u001b[0msave_format\u001b[0m \u001b[0;34m=\u001b[0m \u001b[0;34m'tf'\u001b[0m\u001b[0;34m\u001b[0m\u001b[0;34m\u001b[0m\u001b[0m\n\u001b[1;32m   2178\u001b[0m       \u001b[0;32mexcept\u001b[0m \u001b[0merrors_impl\u001b[0m\u001b[0;34m.\u001b[0m\u001b[0mDataLossError\u001b[0m\u001b[0;34m:\u001b[0m\u001b[0;34m\u001b[0m\u001b[0;34m\u001b[0m\u001b[0m\n",
      "\u001b[0;32m~/.local/lib/python3.6/site-packages/tensorflow/python/training/py_checkpoint_reader.py\u001b[0m in \u001b[0;36mNewCheckpointReader\u001b[0;34m(filepattern)\u001b[0m\n\u001b[1;32m     93\u001b[0m   \"\"\"\n\u001b[1;32m     94\u001b[0m   \u001b[0;32mtry\u001b[0m\u001b[0;34m:\u001b[0m\u001b[0;34m\u001b[0m\u001b[0;34m\u001b[0m\u001b[0m\n\u001b[0;32m---> 95\u001b[0;31m     \u001b[0;32mreturn\u001b[0m \u001b[0mCheckpointReader\u001b[0m\u001b[0;34m(\u001b[0m\u001b[0mcompat\u001b[0m\u001b[0;34m.\u001b[0m\u001b[0mas_bytes\u001b[0m\u001b[0;34m(\u001b[0m\u001b[0mfilepattern\u001b[0m\u001b[0;34m)\u001b[0m\u001b[0;34m)\u001b[0m\u001b[0;34m\u001b[0m\u001b[0;34m\u001b[0m\u001b[0m\n\u001b[0m\u001b[1;32m     96\u001b[0m   \u001b[0;31m# TODO(b/143319754): Remove the RuntimeError casting logic once we resolve the\u001b[0m\u001b[0;34m\u001b[0m\u001b[0;34m\u001b[0m\u001b[0;34m\u001b[0m\u001b[0m\n\u001b[1;32m     97\u001b[0m   \u001b[0;31m# issue with throwing python exceptions from C++.\u001b[0m\u001b[0;34m\u001b[0m\u001b[0;34m\u001b[0m\u001b[0;34m\u001b[0m\u001b[0m\n",
      "\u001b[0;31mValueError\u001b[0m: Unsuccessful TensorSliceReader constructor: Failed to get matching files on nets/sindy_11/: Not found: nets/sindy_11; No such file or directory"
     ]
    }
   ],
   "source": [
    "sindy = SINDy()\n",
    "sindy.load_weights(\"nets/sindy_11/\")"
   ]
  },
  {
   "cell_type": "code",
   "execution_count": 18,
   "id": "tropical-fashion",
   "metadata": {},
   "outputs": [],
   "source": [
    "from sindy import SINDy\n",
    "sindy1 = SINDy()"
   ]
  },
  {
   "cell_type": "code",
   "execution_count": 20,
   "id": "compliant-namibia",
   "metadata": {},
   "outputs": [
    {
     "data": {
      "text/plain": [
       "'sin_dy_1'"
      ]
     },
     "execution_count": 20,
     "metadata": {},
     "output_type": "execute_result"
    }
   ],
   "source": [
    "sindy1.name"
   ]
  },
  {
   "cell_type": "code",
   "execution_count": 9,
   "id": "protected-secondary",
   "metadata": {},
   "outputs": [
    {
     "data": {
      "text/plain": [
       "<tf.Variable 'Variable:0' shape=(3, 27) dtype=float32, numpy=\n",
       "array([[1., 1., 1., 1., 1., 1., 1., 1., 1., 1., 1., 1., 1., 1., 1., 1.,\n",
       "        1., 1., 1., 1., 1., 1., 1., 1., 1., 1., 1.],\n",
       "       [1., 1., 1., 1., 1., 1., 1., 1., 1., 1., 1., 1., 1., 1., 1., 1.,\n",
       "        1., 1., 1., 1., 1., 1., 1., 1., 1., 1., 1.],\n",
       "       [1., 1., 1., 1., 1., 1., 1., 1., 1., 1., 1., 1., 1., 1., 1., 1.,\n",
       "        1., 1., 1., 1., 1., 1., 1., 1., 1., 1., 1.]], dtype=float32)>"
      ]
     },
     "execution_count": 9,
     "metadata": {},
     "output_type": "execute_result"
    }
   ],
   "source": [
    "coeffs = tf.Variable(np.ones((3,27)).astype(np.float32), trainable=True, name=\"sindy/dense/kernel:0\")\n",
    "coeffs"
   ]
  },
  {
   "cell_type": "code",
   "execution_count": 58,
   "id": "engaged-analyst",
   "metadata": {},
   "outputs": [
    {
     "data": {
      "text/plain": [
       "[<tf.Variable 'Variable:0' shape=(3, 27) dtype=float32, numpy=\n",
       " array([[-2.48601614e-03,  8.35985005e-01, -1.08248937e+00,\n",
       "         -1.25054210e-01,  2.19034106e-01, -1.66024411e+00,\n",
       "         -1.19687581e+00, -4.92233634e-02,  8.97786766e-02,\n",
       "          3.82149875e-01,  9.09135304e-03,  2.49032676e-01,\n",
       "          7.79314060e-03,  5.54208532e-02, -8.83790329e-02,\n",
       "         -3.96450646e-02,  1.44127405e+00, -2.65611023e-01,\n",
       "          1.15535867e+00, -1.99022663e+00,  2.95111537e-01,\n",
       "          4.73870263e-02, -8.94377083e-02, -3.42485398e-01,\n",
       "          7.68711209e-01, -7.77051866e-01, -3.71877491e-01],\n",
       "        [ 6.50211632e-01, -8.26581493e-02,  1.02030349e+00,\n",
       "          7.19511807e-02, -5.15373468e-01,  3.45013499e-01,\n",
       "         -1.21267819e+00,  1.25622785e+00, -1.47071671e+00,\n",
       "         -9.12182629e-02,  5.38204551e-01,  7.74763823e-02,\n",
       "          1.82412457e+00,  1.05103528e+00,  1.50815874e-01,\n",
       "         -2.12940145e+00,  5.59756756e-01,  1.24723963e-01,\n",
       "          3.04355519e-04,  1.03763387e-01, -1.18920529e+00,\n",
       "         -5.02732277e-01,  8.50560144e-02, -1.16433874e-01,\n",
       "         -4.79921281e-01,  1.20499289e+00, -1.31372228e-01],\n",
       "        [-1.78177190e+00, -7.14079022e-01,  7.75838077e-01,\n",
       "         -1.00168817e-01, -8.87066824e-04,  1.69082141e+00,\n",
       "         -1.52236847e-02, -2.60558635e-01,  1.41545415e+00,\n",
       "          7.05273569e-01,  9.81083605e-03, -7.61689842e-02,\n",
       "          6.65922649e-03,  7.47608662e-01, -2.37315502e-02,\n",
       "          3.70270386e-02, -2.00944543e+00, -1.14102133e-01,\n",
       "          6.15521055e-03, -1.61331522e+00,  1.06117666e-01,\n",
       "          1.80268836e+00,  1.20694137e+00, -1.88609922e+00,\n",
       "         -1.07165205e+00, -4.62751269e-01, -1.28500748e+00]], dtype=float32)>]"
      ]
     },
     "execution_count": 58,
     "metadata": {},
     "output_type": "execute_result"
    }
   ],
   "source": [
    "sindy.weigths"
   ]
  },
  {
   "cell_type": "code",
   "execution_count": null,
   "id": "pressing-rochester",
   "metadata": {},
   "outputs": [],
   "source": []
  }
 ],
 "metadata": {
  "kernelspec": {
   "display_name": "Python 3",
   "language": "python",
   "name": "python3"
  },
  "language_info": {
   "codemirror_mode": {
    "name": "ipython",
    "version": 3
   },
   "file_extension": ".py",
   "mimetype": "text/x-python",
   "name": "python",
   "nbconvert_exporter": "python",
   "pygments_lexer": "ipython3",
   "version": "3.6.9"
  }
 },
 "nbformat": 4,
 "nbformat_minor": 5
}
