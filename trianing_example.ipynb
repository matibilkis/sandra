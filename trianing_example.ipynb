{
 "cells": [
  {
   "cell_type": "code",
   "execution_count": null,
   "metadata": {},
   "outputs": [],
   "source": [
    "%load_ext autoreload\n",
    "%autoreload 2\n",
    "\n",
    "import tensorflow as tf\n",
    "from networks import Encoder, Decoder, MetaModel, TrainingCallback\n",
    "import numpy as np\n",
    "import ast\n",
    "from sindy import SINDy\n",
    "import os\n",
    "\n",
    "\n",
    "x, x_dot = np.load(\"datalorenz/paper2048.npy\").astype(np.float32)\n",
    "x = tf.reshape(x,[-1,128])\n",
    "x_dot = tf.reshape(x,[-1,128])\n",
    "    \n",
    "encoder = Encoder()\n",
    "decoder = Decoder()\n",
    "sindy = SINDy()\n",
    "models = [encoder, decoder, sindy]\n",
    "    \n",
    "metamodel = MetaModel(models, total_epochs=int(1e4+1e3), when_zero_lambda3=1000)\n",
    "metamodel.compile_models()\n",
    "\n",
    "\n",
    "strategy = tf.distribute.MirroredStrategy()\n",
    "print(\"Number of devices: {}\".format(strategy.num_replicas_in_sync))\n",
    "\n",
    "with tf.device(\"GPU:0\"):\n",
    "    history = metamodel.fit(x=x, y=x_dot, epochs=metamodel.total_epochs, batch_size=8000,\n",
    "                    callbacks=[TrainingCallback(), tf.keras.callbacks.TensorBoard(\"logs/prueba3\"),\n",
    "                                  ])"
   ]
  },
  {
   "cell_type": "code",
   "execution_count": null,
   "metadata": {},
   "outputs": [],
   "source": []
  }
 ],
 "metadata": {
  "kernelspec": {
   "display_name": "mateconda",
   "language": "python",
   "name": "mateconda"
  },
  "language_info": {
   "codemirror_mode": {
    "name": "ipython",
    "version": 3
   },
   "file_extension": ".py",
   "mimetype": "text/x-python",
   "name": "python",
   "nbconvert_exporter": "python",
   "pygments_lexer": "ipython3",
   "version": "3.9.5"
  }
 },
 "nbformat": 4,
 "nbformat_minor": 5
}
