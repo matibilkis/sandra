{
 "cells": [
  {
   "cell_type": "code",
   "execution_count": 1,
   "metadata": {},
   "outputs": [],
   "source": [
    "import numpy as np"
   ]
  },
  {
   "cell_type": "code",
   "execution_count": 31,
   "metadata": {},
   "outputs": [
    {
     "name": "stdout",
     "output_type": "stream",
     "text": [
      "The autoreload extension is already loaded. To reload it, use:\n",
      "  %reload_ext autoreload\n"
     ]
    }
   ],
   "source": [
    "%load_ext autoreload\n",
    "%autoreload 2\n",
    "import tensorflow as tf\n",
    "from networks import Encoder, Decoder, MetaModel, TrainingCallback\n",
    "import numpy as np\n",
    "import ast\n",
    "from sindy import SINDy\n",
    "import os\n"
   ]
  },
  {
   "cell_type": "code",
   "execution_count": 32,
   "metadata": {},
   "outputs": [
    {
     "data": {
      "text/plain": [
       "<tensorflow.python.training.tracking.util.CheckpointLoadStatus at 0x2ab48ef1ed90>"
      ]
     },
     "execution_count": 32,
     "metadata": {},
     "output_type": "execute_result"
    }
   ],
   "source": [
    "sindy1=SINDy()\n",
    "sindy1.load_weights(\"/data/uab-giq/scratch/matias/sandra/networks/run0/sindy_1500/\")"
   ]
  },
  {
   "cell_type": "code",
   "execution_count": 46,
   "metadata": {},
   "outputs": [],
   "source": [
    "x = sindy1.coeffs\n",
    "sindy1.set_weights(sindy1.get_weights())\n",
    "#tf.where( tf.abs(x) > 0.1, x, 0)"
   ]
  },
  {
   "cell_type": "code",
   "execution_count": 51,
   "metadata": {},
   "outputs": [],
   "source": [
    "x=sindy1.get_weights()[0]\n",
    "y = np.where(np.abs(x)>0.1,x,0).astype(np.float32)\n",
    "sindy1.set_weights([y])"
   ]
  },
  {
   "cell_type": "code",
   "execution_count": 12,
   "metadata": {},
   "outputs": [
    {
     "data": {
      "text/plain": [
       "[<tf.Variable 'decoder/dense/kernel:0' shape=(129, 32) dtype=float32, numpy=\n",
       " array([[ 0.00651381,  0.01154741,  0.01565262, ..., -0.01187098,\n",
       "          0.00117404,  0.00445091],\n",
       "        [-0.00449749, -0.01292601,  0.00087418, ..., -0.00469507,\n",
       "         -0.00784563, -0.0135037 ],\n",
       "        [ 0.01065787, -0.01166525, -0.01800974, ..., -0.00056845,\n",
       "          0.01059807,  0.01707367],\n",
       "        ...,\n",
       "        [-0.00450859,  0.00648362,  0.00088653, ...,  0.00587128,\n",
       "          0.01585008, -0.00111794],\n",
       "        [ 0.0108447 , -0.01220426,  0.00606966, ...,  0.00012872,\n",
       "         -0.00638299, -0.01648249],\n",
       "        [ 0.00132619,  0.01854318, -0.01659602, ...,  0.01801863,\n",
       "         -0.01677597, -0.00527157]], dtype=float32)>,\n",
       " <tf.Variable 'decoder/dense/bias:0' shape=(32,) dtype=float32, numpy=\n",
       " array([0., 0., 0., 0., 0., 0., 0., 0., 0., 0., 0., 0., 0., 0., 0., 0., 0.,\n",
       "        0., 0., 0., 0., 0., 0., 0., 0., 0., 0., 0., 0., 0., 0., 0.],\n",
       "       dtype=float32)>,\n",
       " <tf.Variable 'decoder/dense_1/kernel:0' shape=(32, 64) dtype=float32, numpy=\n",
       " array([[-4.8482977e-03, -1.9820370e-03,  3.9622188e-05, ...,\n",
       "          9.8269992e-04,  1.5645809e-02,  1.4345545e-02],\n",
       "        [ 3.6744755e-03, -1.5693944e-02,  1.0780921e-02, ...,\n",
       "         -1.4164117e-02, -1.0503069e-02, -7.9620453e-03],\n",
       "        [-8.1052510e-03,  2.2344291e-05,  1.6392786e-02, ...,\n",
       "          1.5502777e-02,  9.8374207e-03,  9.5141046e-03],\n",
       "        ...,\n",
       "        [ 1.7991167e-02,  1.7158937e-02,  2.2361204e-03, ...,\n",
       "          6.3636322e-03,  1.5300073e-02, -1.7370338e-02],\n",
       "        [-5.8900565e-05,  1.7256193e-02, -8.2931044e-03, ...,\n",
       "          9.9137500e-03,  8.3412509e-03, -3.5968795e-04],\n",
       "        [ 1.1823233e-03, -6.7063123e-03,  6.2493589e-03, ...,\n",
       "          5.5023097e-03, -1.6149934e-03, -5.6110686e-03]], dtype=float32)>,\n",
       " <tf.Variable 'decoder/dense_1/bias:0' shape=(64,) dtype=float32, numpy=\n",
       " array([0., 0., 0., 0., 0., 0., 0., 0., 0., 0., 0., 0., 0., 0., 0., 0., 0.,\n",
       "        0., 0., 0., 0., 0., 0., 0., 0., 0., 0., 0., 0., 0., 0., 0., 0., 0.,\n",
       "        0., 0., 0., 0., 0., 0., 0., 0., 0., 0., 0., 0., 0., 0., 0., 0., 0.,\n",
       "        0., 0., 0., 0., 0., 0., 0., 0., 0., 0., 0., 0., 0.], dtype=float32)>,\n",
       " <tf.Variable 'decoder/dense_2/kernel:0' shape=(64, 128) dtype=float32, numpy=\n",
       " array([[ 0.01242157,  0.00116223, -0.00092845, ...,  0.00617013,\n",
       "          0.00290493,  0.01774036],\n",
       "        [-0.01720186, -0.00131908, -0.0118691 , ..., -0.01719809,\n",
       "         -0.0026875 , -0.01260442],\n",
       "        [-0.01269854,  0.00524772, -0.01646705, ..., -0.01410463,\n",
       "         -0.01785373, -0.00426475],\n",
       "        ...,\n",
       "        [-0.01105198, -0.0064291 , -0.00398127, ...,  0.0159388 ,\n",
       "         -0.00387326, -0.00180678],\n",
       "        [ 0.01343011,  0.01403282,  0.01075294, ...,  0.0042825 ,\n",
       "          0.00848542,  0.00538325],\n",
       "        [ 0.00083657, -0.00245172, -0.01024141, ...,  0.00245575,\n",
       "          0.00810289,  0.0094084 ]], dtype=float32)>,\n",
       " <tf.Variable 'decoder/dense_2/bias:0' shape=(128,) dtype=float32, numpy=\n",
       " array([0., 0., 0., 0., 0., 0., 0., 0., 0., 0., 0., 0., 0., 0., 0., 0., 0.,\n",
       "        0., 0., 0., 0., 0., 0., 0., 0., 0., 0., 0., 0., 0., 0., 0., 0., 0.,\n",
       "        0., 0., 0., 0., 0., 0., 0., 0., 0., 0., 0., 0., 0., 0., 0., 0., 0.,\n",
       "        0., 0., 0., 0., 0., 0., 0., 0., 0., 0., 0., 0., 0., 0., 0., 0., 0.,\n",
       "        0., 0., 0., 0., 0., 0., 0., 0., 0., 0., 0., 0., 0., 0., 0., 0., 0.,\n",
       "        0., 0., 0., 0., 0., 0., 0., 0., 0., 0., 0., 0., 0., 0., 0., 0., 0.,\n",
       "        0., 0., 0., 0., 0., 0., 0., 0., 0., 0., 0., 0., 0., 0., 0., 0., 0.,\n",
       "        0., 0., 0., 0., 0., 0., 0., 0., 0.], dtype=float32)>]"
      ]
     },
     "execution_count": 12,
     "metadata": {},
     "output_type": "execute_result"
    }
   ],
   "source": [
    "decoder(tf.random.uniform((1,129)))\n",
    "decoder.weights"
   ]
  },
  {
   "cell_type": "code",
   "execution_count": 23,
   "metadata": {},
   "outputs": [],
   "source": [
    "if runni>0:\n",
    "    indices = tf.range(start=0, limit=tf.shape(x)[0], dtype=tf.int32)\n",
    "    idx = tf.random.shuffle(indices)\n",
    "    x_data = tf.gather(x, idx)\n",
    "    x_dot_data = tf.gather(x_dot, idx)\n",
    "else:\n",
    "    x_data = x\n",
    "    x_dot_data = x_dot"
   ]
  },
  {
   "cell_type": "code",
   "execution_count": 5,
   "metadata": {},
   "outputs": [
    {
     "name": "stdout",
     "output_type": "stream",
     "text": [
      "INFO:tensorflow:Using MirroredStrategy with devices ('/job:localhost/replica:0/task:0/device:GPU:0', '/job:localhost/replica:0/task:0/device:GPU:1')\n"
     ]
    },
    {
     "name": "stderr",
     "output_type": "stream",
     "text": [
      "INFO:tensorflow:Using MirroredStrategy with devices ('/job:localhost/replica:0/task:0/device:GPU:0', '/job:localhost/replica:0/task:0/device:GPU:1')\n"
     ]
    }
   ],
   "source": [
    "mirrored_strategy = tf.distribute.MirroredStrategy(devices=[\"/gpu:0\", \"/gpu:1\"])\n"
   ]
  },
  {
   "cell_type": "code",
   "execution_count": 8,
   "metadata": {},
   "outputs": [
    {
     "name": "stdout",
     "output_type": "stream",
     "text": [
      "INFO:tensorflow:Reduce to /job:localhost/replica:0/task:0/device:CPU:0 then broadcast to ('/job:localhost/replica:0/task:0/device:CPU:0',).\n"
     ]
    },
    {
     "name": "stderr",
     "output_type": "stream",
     "text": [
      "INFO:tensorflow:Reduce to /job:localhost/replica:0/task:0/device:CPU:0 then broadcast to ('/job:localhost/replica:0/task:0/device:CPU:0',).\n"
     ]
    },
    {
     "name": "stdout",
     "output_type": "stream",
     "text": [
      "INFO:tensorflow:Reduce to /job:localhost/replica:0/task:0/device:CPU:0 then broadcast to ('/job:localhost/replica:0/task:0/device:CPU:0',).\n"
     ]
    },
    {
     "name": "stderr",
     "output_type": "stream",
     "text": [
      "INFO:tensorflow:Reduce to /job:localhost/replica:0/task:0/device:CPU:0 then broadcast to ('/job:localhost/replica:0/task:0/device:CPU:0',).\n"
     ]
    },
    {
     "name": "stdout",
     "output_type": "stream",
     "text": [
      "INFO:tensorflow:Reduce to /job:localhost/replica:0/task:0/device:CPU:0 then broadcast to ('/job:localhost/replica:0/task:0/device:CPU:0',).\n"
     ]
    },
    {
     "name": "stderr",
     "output_type": "stream",
     "text": [
      "INFO:tensorflow:Reduce to /job:localhost/replica:0/task:0/device:CPU:0 then broadcast to ('/job:localhost/replica:0/task:0/device:CPU:0',).\n"
     ]
    },
    {
     "name": "stdout",
     "output_type": "stream",
     "text": [
      "INFO:tensorflow:Reduce to /job:localhost/replica:0/task:0/device:CPU:0 then broadcast to ('/job:localhost/replica:0/task:0/device:CPU:0',).\n"
     ]
    },
    {
     "name": "stderr",
     "output_type": "stream",
     "text": [
      "INFO:tensorflow:Reduce to /job:localhost/replica:0/task:0/device:CPU:0 then broadcast to ('/job:localhost/replica:0/task:0/device:CPU:0',).\n"
     ]
    },
    {
     "name": "stdout",
     "output_type": "stream",
     "text": [
      "INFO:tensorflow:Reduce to /job:localhost/replica:0/task:0/device:CPU:0 then broadcast to ('/job:localhost/replica:0/task:0/device:CPU:0',).\n"
     ]
    },
    {
     "name": "stderr",
     "output_type": "stream",
     "text": [
      "INFO:tensorflow:Reduce to /job:localhost/replica:0/task:0/device:CPU:0 then broadcast to ('/job:localhost/replica:0/task:0/device:CPU:0',).\n"
     ]
    },
    {
     "name": "stdout",
     "output_type": "stream",
     "text": [
      "INFO:tensorflow:Reduce to /job:localhost/replica:0/task:0/device:CPU:0 then broadcast to ('/job:localhost/replica:0/task:0/device:CPU:0',).\n"
     ]
    },
    {
     "name": "stderr",
     "output_type": "stream",
     "text": [
      "INFO:tensorflow:Reduce to /job:localhost/replica:0/task:0/device:CPU:0 then broadcast to ('/job:localhost/replica:0/task:0/device:CPU:0',).\n"
     ]
    },
    {
     "name": "stdout",
     "output_type": "stream",
     "text": [
      "INFO:tensorflow:Reduce to /job:localhost/replica:0/task:0/device:CPU:0 then broadcast to ('/job:localhost/replica:0/task:0/device:CPU:0',).\n"
     ]
    },
    {
     "name": "stderr",
     "output_type": "stream",
     "text": [
      "INFO:tensorflow:Reduce to /job:localhost/replica:0/task:0/device:CPU:0 then broadcast to ('/job:localhost/replica:0/task:0/device:CPU:0',).\n"
     ]
    },
    {
     "name": "stdout",
     "output_type": "stream",
     "text": [
      "INFO:tensorflow:Reduce to /job:localhost/replica:0/task:0/device:CPU:0 then broadcast to ('/job:localhost/replica:0/task:0/device:CPU:0',).\n"
     ]
    },
    {
     "name": "stderr",
     "output_type": "stream",
     "text": [
      "INFO:tensorflow:Reduce to /job:localhost/replica:0/task:0/device:CPU:0 then broadcast to ('/job:localhost/replica:0/task:0/device:CPU:0',).\n"
     ]
    },
    {
     "name": "stdout",
     "output_type": "stream",
     "text": [
      "INFO:tensorflow:Reduce to /job:localhost/replica:0/task:0/device:CPU:0 then broadcast to ('/job:localhost/replica:0/task:0/device:CPU:0',).\n"
     ]
    },
    {
     "name": "stderr",
     "output_type": "stream",
     "text": [
      "INFO:tensorflow:Reduce to /job:localhost/replica:0/task:0/device:CPU:0 then broadcast to ('/job:localhost/replica:0/task:0/device:CPU:0',).\n"
     ]
    },
    {
     "name": "stdout",
     "output_type": "stream",
     "text": [
      "INFO:tensorflow:Reduce to /job:localhost/replica:0/task:0/device:CPU:0 then broadcast to ('/job:localhost/replica:0/task:0/device:CPU:0',).\n"
     ]
    },
    {
     "name": "stderr",
     "output_type": "stream",
     "text": [
      "INFO:tensorflow:Reduce to /job:localhost/replica:0/task:0/device:CPU:0 then broadcast to ('/job:localhost/replica:0/task:0/device:CPU:0',).\n"
     ]
    }
   ],
   "source": [
    "with mirrored_strategy.scope():\n",
    "\n",
    "    encoder = Encoder()\n",
    "    decoder = Decoder()\n",
    "    sindy = SINDy()\n",
    "    models = [encoder, decoder, sindy]\n",
    "\n",
    "    metamodel = MetaModel(models, total_epochs=400, when_zero_lambda3=1000)\n",
    "metamodel.compile_models()\n"
   ]
  },
  {
   "cell_type": "code",
   "execution_count": 9,
   "metadata": {},
   "outputs": [
    {
     "name": "stdout",
     "output_type": "stream",
     "text": [
      "Epoch 1/50\n",
      "INFO:tensorflow:batch_all_reduce: 6 all-reduces with algorithm = nccl, num_packs = 1\n"
     ]
    },
    {
     "name": "stderr",
     "output_type": "stream",
     "text": [
      "INFO:tensorflow:batch_all_reduce: 6 all-reduces with algorithm = nccl, num_packs = 1\n"
     ]
    },
    {
     "name": "stdout",
     "output_type": "stream",
     "text": [
      "INFO:tensorflow:batch_all_reduce: 6 all-reduces with algorithm = nccl, num_packs = 1\n"
     ]
    },
    {
     "name": "stderr",
     "output_type": "stream",
     "text": [
      "INFO:tensorflow:batch_all_reduce: 6 all-reduces with algorithm = nccl, num_packs = 1\n"
     ]
    },
    {
     "name": "stdout",
     "output_type": "stream",
     "text": [
      "INFO:tensorflow:batch_all_reduce: 1 all-reduces with algorithm = nccl, num_packs = 1\n"
     ]
    },
    {
     "name": "stderr",
     "output_type": "stream",
     "text": [
      "INFO:tensorflow:batch_all_reduce: 1 all-reduces with algorithm = nccl, num_packs = 1\n"
     ]
    },
    {
     "name": "stdout",
     "output_type": "stream",
     "text": [
      "INFO:tensorflow:batch_all_reduce: 6 all-reduces with algorithm = nccl, num_packs = 1\n"
     ]
    },
    {
     "name": "stderr",
     "output_type": "stream",
     "text": [
      "INFO:tensorflow:batch_all_reduce: 6 all-reduces with algorithm = nccl, num_packs = 1\n"
     ]
    },
    {
     "name": "stdout",
     "output_type": "stream",
     "text": [
      "INFO:tensorflow:batch_all_reduce: 6 all-reduces with algorithm = nccl, num_packs = 1\n"
     ]
    },
    {
     "name": "stderr",
     "output_type": "stream",
     "text": [
      "INFO:tensorflow:batch_all_reduce: 6 all-reduces with algorithm = nccl, num_packs = 1\n"
     ]
    },
    {
     "name": "stdout",
     "output_type": "stream",
     "text": [
      "INFO:tensorflow:batch_all_reduce: 1 all-reduces with algorithm = nccl, num_packs = 1\n"
     ]
    },
    {
     "name": "stderr",
     "output_type": "stream",
     "text": [
      "INFO:tensorflow:batch_all_reduce: 1 all-reduces with algorithm = nccl, num_packs = 1\n"
     ]
    },
    {
     "name": "stdout",
     "output_type": "stream",
     "text": [
      " 5/40 [==>...........................] - ETA: 13s - Total Loss: 0.2913 - Loss_0: 0.2912 - Loss_1: 3.8782e-05 - Loss_2: 0.0000e+00 - Loss_3: 1.7029e-05WARNING:tensorflow:Callback method `on_train_batch_end` is slow compared to the batch time (batch time: 0.0366s vs `on_train_batch_end` time: 0.2301s). Check your callbacks.\n"
     ]
    },
    {
     "name": "stderr",
     "output_type": "stream",
     "text": [
      "WARNING:tensorflow:Callback method `on_train_batch_end` is slow compared to the batch time (batch time: 0.0366s vs `on_train_batch_end` time: 0.2301s). Check your callbacks.\n"
     ]
    },
    {
     "name": "stdout",
     "output_type": "stream",
     "text": [
      "40/40 [==============================] - 31s 69ms/step - Total Loss: 0.1562 - Loss_0: 0.1562 - Loss_1: 3.3839e-05 - Loss_2: 0.0000e+00 - Loss_3: 1.6471e-05\n",
      "INFO:tensorflow:Summary name epoch_Total Loss is illegal; using epoch_Total_Loss instead.\n"
     ]
    },
    {
     "name": "stderr",
     "output_type": "stream",
     "text": [
      "INFO:tensorflow:Summary name epoch_Total Loss is illegal; using epoch_Total_Loss instead.\n"
     ]
    },
    {
     "name": "stdout",
     "output_type": "stream",
     "text": [
      "Epoch 2/50\n",
      "40/40 [==============================] - 1s 34ms/step - Total Loss: 0.1212 - Loss_0: 0.1212 - Loss_1: 3.1723e-05 - Loss_2: 0.0000e+00 - Loss_3: 1.5782e-05\n",
      "INFO:tensorflow:Summary name epoch_Total Loss is illegal; using epoch_Total_Loss instead.\n"
     ]
    },
    {
     "name": "stderr",
     "output_type": "stream",
     "text": [
      "INFO:tensorflow:Summary name epoch_Total Loss is illegal; using epoch_Total_Loss instead.\n"
     ]
    },
    {
     "name": "stdout",
     "output_type": "stream",
     "text": [
      "Epoch 3/50\n",
      "40/40 [==============================] - 1s 36ms/step - Total Loss: 0.2398 - Loss_0: 0.2398 - Loss_1: 4.4158e-05 - Loss_2: 0.0000e+00 - Loss_3: 1.5103e-05\n",
      "INFO:tensorflow:Summary name epoch_Total Loss is illegal; using epoch_Total_Loss instead.\n"
     ]
    },
    {
     "name": "stderr",
     "output_type": "stream",
     "text": [
      "INFO:tensorflow:Summary name epoch_Total Loss is illegal; using epoch_Total_Loss instead.\n"
     ]
    },
    {
     "name": "stdout",
     "output_type": "stream",
     "text": [
      "Epoch 4/50\n",
      "40/40 [==============================] - 1s 30ms/step - Total Loss: 0.1624 - Loss_0: 0.1624 - Loss_1: 3.2430e-05 - Loss_2: 0.0000e+00 - Loss_3: 1.4438e-05\n",
      "INFO:tensorflow:Summary name epoch_Total Loss is illegal; using epoch_Total_Loss instead.\n"
     ]
    },
    {
     "name": "stderr",
     "output_type": "stream",
     "text": [
      "INFO:tensorflow:Summary name epoch_Total Loss is illegal; using epoch_Total_Loss instead.\n"
     ]
    },
    {
     "name": "stdout",
     "output_type": "stream",
     "text": [
      "Epoch 5/50\n",
      "40/40 [==============================] - 1s 28ms/step - Total Loss: 0.1667 - Loss_0: 0.1667 - Loss_1: 3.8776e-05 - Loss_2: 0.0000e+00 - Loss_3: 1.3800e-05\n",
      "INFO:tensorflow:Summary name epoch_Total Loss is illegal; using epoch_Total_Loss instead.\n"
     ]
    },
    {
     "name": "stderr",
     "output_type": "stream",
     "text": [
      "INFO:tensorflow:Summary name epoch_Total Loss is illegal; using epoch_Total_Loss instead.\n"
     ]
    },
    {
     "name": "stdout",
     "output_type": "stream",
     "text": [
      "Epoch 6/50\n",
      "40/40 [==============================] - 1s 26ms/step - Total Loss: 0.1110 - Loss_0: 0.1110 - Loss_1: 2.8465e-05 - Loss_2: 0.0000e+00 - Loss_3: 1.3198e-05\n",
      "INFO:tensorflow:Summary name epoch_Total Loss is illegal; using epoch_Total_Loss instead.\n"
     ]
    },
    {
     "name": "stderr",
     "output_type": "stream",
     "text": [
      "INFO:tensorflow:Summary name epoch_Total Loss is illegal; using epoch_Total_Loss instead.\n"
     ]
    },
    {
     "name": "stdout",
     "output_type": "stream",
     "text": [
      "Epoch 7/50\n",
      "40/40 [==============================] - 1s 24ms/step - Total Loss: 0.2821 - Loss_0: 0.2820 - Loss_1: 4.6559e-05 - Loss_2: 0.0000e+00 - Loss_3: 1.2617e-05\n",
      "INFO:tensorflow:Summary name epoch_Total Loss is illegal; using epoch_Total_Loss instead.\n"
     ]
    },
    {
     "name": "stderr",
     "output_type": "stream",
     "text": [
      "INFO:tensorflow:Summary name epoch_Total Loss is illegal; using epoch_Total_Loss instead.\n"
     ]
    },
    {
     "name": "stdout",
     "output_type": "stream",
     "text": [
      "Epoch 8/50\n",
      "40/40 [==============================] - 1s 30ms/step - Total Loss: 0.1472 - Loss_0: 0.1471 - Loss_1: 3.6483e-05 - Loss_2: 0.0000e+00 - Loss_3: 1.2060e-05\n",
      "INFO:tensorflow:Summary name epoch_Total Loss is illegal; using epoch_Total_Loss instead.\n"
     ]
    },
    {
     "name": "stderr",
     "output_type": "stream",
     "text": [
      "INFO:tensorflow:Summary name epoch_Total Loss is illegal; using epoch_Total_Loss instead.\n"
     ]
    },
    {
     "name": "stdout",
     "output_type": "stream",
     "text": [
      "Epoch 9/50\n",
      "40/40 [==============================] - 1s 35ms/step - Total Loss: 0.1111 - Loss_0: 0.1111 - Loss_1: 3.0372e-05 - Loss_2: 0.0000e+00 - Loss_3: 1.1514e-05\n",
      "INFO:tensorflow:Summary name epoch_Total Loss is illegal; using epoch_Total_Loss instead.\n"
     ]
    },
    {
     "name": "stderr",
     "output_type": "stream",
     "text": [
      "INFO:tensorflow:Summary name epoch_Total Loss is illegal; using epoch_Total_Loss instead.\n"
     ]
    },
    {
     "name": "stdout",
     "output_type": "stream",
     "text": [
      "Epoch 10/50\n",
      "40/40 [==============================] - 1s 31ms/step - Total Loss: 0.5050 - Loss_0: 0.5049 - Loss_1: 7.8856e-05 - Loss_2: 0.0000e+00 - Loss_3: 1.0972e-05\n",
      "INFO:tensorflow:Summary name epoch_Total Loss is illegal; using epoch_Total_Loss instead.\n"
     ]
    },
    {
     "name": "stderr",
     "output_type": "stream",
     "text": [
      "INFO:tensorflow:Summary name epoch_Total Loss is illegal; using epoch_Total_Loss instead.\n"
     ]
    },
    {
     "name": "stdout",
     "output_type": "stream",
     "text": [
      "Epoch 11/50\n",
      "40/40 [==============================] - 1s 33ms/step - Total Loss: 0.1346 - Loss_0: 0.1345 - Loss_1: 3.1190e-05 - Loss_2: 0.0000e+00 - Loss_3: 1.0444e-05\n",
      "INFO:tensorflow:Summary name epoch_Total Loss is illegal; using epoch_Total_Loss instead.\n"
     ]
    },
    {
     "name": "stderr",
     "output_type": "stream",
     "text": [
      "INFO:tensorflow:Summary name epoch_Total Loss is illegal; using epoch_Total_Loss instead.\n"
     ]
    },
    {
     "name": "stdout",
     "output_type": "stream",
     "text": [
      "Epoch 12/50\n",
      "40/40 [==============================] - 1s 31ms/step - Total Loss: 0.1407 - Loss_0: 0.1406 - Loss_1: 9.0770e-05 - Loss_2: 0.0000e+00 - Loss_3: 1.0416e-05\n",
      "INFO:tensorflow:Summary name epoch_Total Loss is illegal; using epoch_Total_Loss instead.\n"
     ]
    },
    {
     "name": "stderr",
     "output_type": "stream",
     "text": [
      "INFO:tensorflow:Summary name epoch_Total Loss is illegal; using epoch_Total_Loss instead.\n"
     ]
    },
    {
     "name": "stdout",
     "output_type": "stream",
     "text": [
      "Epoch 13/50\n",
      "40/40 [==============================] - 1s 30ms/step - Total Loss: 0.1747 - Loss_0: 0.1744 - Loss_1: 3.0201e-04 - Loss_2: 0.0000e+00 - Loss_3: 1.0462e-05\n",
      "INFO:tensorflow:Summary name epoch_Total Loss is illegal; using epoch_Total_Loss instead.\n"
     ]
    },
    {
     "name": "stderr",
     "output_type": "stream",
     "text": [
      "INFO:tensorflow:Summary name epoch_Total Loss is illegal; using epoch_Total_Loss instead.\n"
     ]
    },
    {
     "name": "stdout",
     "output_type": "stream",
     "text": [
      "Epoch 14/50\n",
      "40/40 [==============================] - 1s 28ms/step - Total Loss: 0.1058 - Loss_0: 0.1056 - Loss_1: 1.9105e-04 - Loss_2: 0.0000e+00 - Loss_3: 1.0737e-05\n",
      "INFO:tensorflow:Summary name epoch_Total Loss is illegal; using epoch_Total_Loss instead.\n"
     ]
    },
    {
     "name": "stderr",
     "output_type": "stream",
     "text": [
      "INFO:tensorflow:Summary name epoch_Total Loss is illegal; using epoch_Total_Loss instead.\n"
     ]
    },
    {
     "name": "stdout",
     "output_type": "stream",
     "text": [
      "Epoch 15/50\n",
      "40/40 [==============================] - 1s 31ms/step - Total Loss: 0.2123 - Loss_0: 0.2122 - Loss_1: 4.1175e-05 - Loss_2: 0.0000e+00 - Loss_3: 1.0955e-05\n",
      "INFO:tensorflow:Summary name epoch_Total Loss is illegal; using epoch_Total_Loss instead.\n"
     ]
    },
    {
     "name": "stderr",
     "output_type": "stream",
     "text": [
      "INFO:tensorflow:Summary name epoch_Total Loss is illegal; using epoch_Total_Loss instead.\n"
     ]
    },
    {
     "name": "stdout",
     "output_type": "stream",
     "text": [
      "Epoch 16/50\n",
      "40/40 [==============================] - 1s 32ms/step - Total Loss: 0.0616 - Loss_0: 0.0615 - Loss_1: 5.7984e-05 - Loss_2: 0.0000e+00 - Loss_3: 1.1067e-05\n",
      "INFO:tensorflow:Summary name epoch_Total Loss is illegal; using epoch_Total_Loss instead.\n"
     ]
    },
    {
     "name": "stderr",
     "output_type": "stream",
     "text": [
      "INFO:tensorflow:Summary name epoch_Total Loss is illegal; using epoch_Total_Loss instead.\n"
     ]
    },
    {
     "name": "stdout",
     "output_type": "stream",
     "text": [
      "Epoch 17/50\n",
      "40/40 [==============================] - 2s 37ms/step - Total Loss: 0.0378 - Loss_0: 0.0377 - Loss_1: 4.4388e-05 - Loss_2: 0.0000e+00 - Loss_3: 1.1151e-05\n",
      "INFO:tensorflow:Summary name epoch_Total Loss is illegal; using epoch_Total_Loss instead.\n"
     ]
    },
    {
     "name": "stderr",
     "output_type": "stream",
     "text": [
      "INFO:tensorflow:Summary name epoch_Total Loss is illegal; using epoch_Total_Loss instead.\n"
     ]
    },
    {
     "name": "stdout",
     "output_type": "stream",
     "text": [
      "Epoch 18/50\n",
      "40/40 [==============================] - 1s 33ms/step - Total Loss: 0.0556 - Loss_0: 0.0555 - Loss_1: 6.7143e-05 - Loss_2: 0.0000e+00 - Loss_3: 1.0936e-05\n",
      "INFO:tensorflow:Summary name epoch_Total Loss is illegal; using epoch_Total_Loss instead.\n"
     ]
    },
    {
     "name": "stderr",
     "output_type": "stream",
     "text": [
      "INFO:tensorflow:Summary name epoch_Total Loss is illegal; using epoch_Total_Loss instead.\n"
     ]
    },
    {
     "name": "stdout",
     "output_type": "stream",
     "text": [
      "Epoch 19/50\n",
      "40/40 [==============================] - 1s 32ms/step - Total Loss: 0.2132 - Loss_0: 0.2130 - Loss_1: 1.8935e-04 - Loss_2: 0.0000e+00 - Loss_3: 1.0655e-05\n",
      "INFO:tensorflow:Summary name epoch_Total Loss is illegal; using epoch_Total_Loss instead.\n"
     ]
    },
    {
     "name": "stderr",
     "output_type": "stream",
     "text": [
      "INFO:tensorflow:Summary name epoch_Total Loss is illegal; using epoch_Total_Loss instead.\n"
     ]
    },
    {
     "name": "stdout",
     "output_type": "stream",
     "text": [
      "Epoch 20/50\n",
      "28/40 [====================>.........] - ETA: 0s - Total Loss: 0.0267 - Loss_0: 0.0266 - Loss_1: 6.5916e-05 - Loss_2: 0.0000e+00 - Loss_3: 1.0559e-05"
     ]
    },
    {
     "ename": "KeyboardInterrupt",
     "evalue": "",
     "output_type": "error",
     "traceback": [
      "\u001b[0;31m---------------------------------------------------------------------------\u001b[0m",
      "\u001b[0;31mKeyboardInterrupt\u001b[0m                         Traceback (most recent call last)",
      "\u001b[0;32m<ipython-input-9-8fac2f8aabf3>\u001b[0m in \u001b[0;36m<module>\u001b[0;34m\u001b[0m\n\u001b[0;32m----> 1\u001b[0;31m history = metamodel.fit(x=x, y=x_dot, epochs=50, batch_size=25,\n\u001b[0m\u001b[1;32m      2\u001b[0m                 callbacks=[TrainingCallback(), tf.keras.callbacks.TensorBoard(\"logs/prueba3\"),\n\u001b[1;32m      3\u001b[0m                               ])\n",
      "\u001b[0;32m/data/uab-giq/scratch/miniconda3/envs/mateconda/lib/python3.9/site-packages/tensorflow/python/keras/engine/training.py\u001b[0m in \u001b[0;36mfit\u001b[0;34m(self, x, y, batch_size, epochs, verbose, callbacks, validation_split, validation_data, shuffle, class_weight, sample_weight, initial_epoch, steps_per_epoch, validation_steps, validation_batch_size, validation_freq, max_queue_size, workers, use_multiprocessing)\u001b[0m\n\u001b[1;32m   1098\u001b[0m                 _r=1):\n\u001b[1;32m   1099\u001b[0m               \u001b[0mcallbacks\u001b[0m\u001b[0;34m.\u001b[0m\u001b[0mon_train_batch_begin\u001b[0m\u001b[0;34m(\u001b[0m\u001b[0mstep\u001b[0m\u001b[0;34m)\u001b[0m\u001b[0;34m\u001b[0m\u001b[0;34m\u001b[0m\u001b[0m\n\u001b[0;32m-> 1100\u001b[0;31m               \u001b[0mtmp_logs\u001b[0m \u001b[0;34m=\u001b[0m \u001b[0mself\u001b[0m\u001b[0;34m.\u001b[0m\u001b[0mtrain_function\u001b[0m\u001b[0;34m(\u001b[0m\u001b[0miterator\u001b[0m\u001b[0;34m)\u001b[0m\u001b[0;34m\u001b[0m\u001b[0;34m\u001b[0m\u001b[0m\n\u001b[0m\u001b[1;32m   1101\u001b[0m               \u001b[0;32mif\u001b[0m \u001b[0mdata_handler\u001b[0m\u001b[0;34m.\u001b[0m\u001b[0mshould_sync\u001b[0m\u001b[0;34m:\u001b[0m\u001b[0;34m\u001b[0m\u001b[0;34m\u001b[0m\u001b[0m\n\u001b[1;32m   1102\u001b[0m                 \u001b[0mcontext\u001b[0m\u001b[0;34m.\u001b[0m\u001b[0masync_wait\u001b[0m\u001b[0;34m(\u001b[0m\u001b[0;34m)\u001b[0m\u001b[0;34m\u001b[0m\u001b[0;34m\u001b[0m\u001b[0m\n",
      "\u001b[0;32m/data/uab-giq/scratch/miniconda3/envs/mateconda/lib/python3.9/site-packages/tensorflow/python/eager/def_function.py\u001b[0m in \u001b[0;36m__call__\u001b[0;34m(self, *args, **kwds)\u001b[0m\n\u001b[1;32m    826\u001b[0m     \u001b[0mtracing_count\u001b[0m \u001b[0;34m=\u001b[0m \u001b[0mself\u001b[0m\u001b[0;34m.\u001b[0m\u001b[0mexperimental_get_tracing_count\u001b[0m\u001b[0;34m(\u001b[0m\u001b[0;34m)\u001b[0m\u001b[0;34m\u001b[0m\u001b[0;34m\u001b[0m\u001b[0m\n\u001b[1;32m    827\u001b[0m     \u001b[0;32mwith\u001b[0m \u001b[0mtrace\u001b[0m\u001b[0;34m.\u001b[0m\u001b[0mTrace\u001b[0m\u001b[0;34m(\u001b[0m\u001b[0mself\u001b[0m\u001b[0;34m.\u001b[0m\u001b[0m_name\u001b[0m\u001b[0;34m)\u001b[0m \u001b[0;32mas\u001b[0m \u001b[0mtm\u001b[0m\u001b[0;34m:\u001b[0m\u001b[0;34m\u001b[0m\u001b[0;34m\u001b[0m\u001b[0m\n\u001b[0;32m--> 828\u001b[0;31m       \u001b[0mresult\u001b[0m \u001b[0;34m=\u001b[0m \u001b[0mself\u001b[0m\u001b[0;34m.\u001b[0m\u001b[0m_call\u001b[0m\u001b[0;34m(\u001b[0m\u001b[0;34m*\u001b[0m\u001b[0margs\u001b[0m\u001b[0;34m,\u001b[0m \u001b[0;34m**\u001b[0m\u001b[0mkwds\u001b[0m\u001b[0;34m)\u001b[0m\u001b[0;34m\u001b[0m\u001b[0;34m\u001b[0m\u001b[0m\n\u001b[0m\u001b[1;32m    829\u001b[0m       \u001b[0mcompiler\u001b[0m \u001b[0;34m=\u001b[0m \u001b[0;34m\"xla\"\u001b[0m \u001b[0;32mif\u001b[0m \u001b[0mself\u001b[0m\u001b[0;34m.\u001b[0m\u001b[0m_experimental_compile\u001b[0m \u001b[0;32melse\u001b[0m \u001b[0;34m\"nonXla\"\u001b[0m\u001b[0;34m\u001b[0m\u001b[0;34m\u001b[0m\u001b[0m\n\u001b[1;32m    830\u001b[0m       \u001b[0mnew_tracing_count\u001b[0m \u001b[0;34m=\u001b[0m \u001b[0mself\u001b[0m\u001b[0;34m.\u001b[0m\u001b[0mexperimental_get_tracing_count\u001b[0m\u001b[0;34m(\u001b[0m\u001b[0;34m)\u001b[0m\u001b[0;34m\u001b[0m\u001b[0;34m\u001b[0m\u001b[0m\n",
      "\u001b[0;32m/data/uab-giq/scratch/miniconda3/envs/mateconda/lib/python3.9/site-packages/tensorflow/python/eager/def_function.py\u001b[0m in \u001b[0;36m_call\u001b[0;34m(self, *args, **kwds)\u001b[0m\n\u001b[1;32m    853\u001b[0m       \u001b[0;31m# In this case we have created variables on the first call, so we run the\u001b[0m\u001b[0;34m\u001b[0m\u001b[0;34m\u001b[0m\u001b[0;34m\u001b[0m\u001b[0m\n\u001b[1;32m    854\u001b[0m       \u001b[0;31m# defunned version which is guaranteed to never create variables.\u001b[0m\u001b[0;34m\u001b[0m\u001b[0;34m\u001b[0m\u001b[0;34m\u001b[0m\u001b[0m\n\u001b[0;32m--> 855\u001b[0;31m       \u001b[0;32mreturn\u001b[0m \u001b[0mself\u001b[0m\u001b[0;34m.\u001b[0m\u001b[0m_stateless_fn\u001b[0m\u001b[0;34m(\u001b[0m\u001b[0;34m*\u001b[0m\u001b[0margs\u001b[0m\u001b[0;34m,\u001b[0m \u001b[0;34m**\u001b[0m\u001b[0mkwds\u001b[0m\u001b[0;34m)\u001b[0m  \u001b[0;31m# pylint: disable=not-callable\u001b[0m\u001b[0;34m\u001b[0m\u001b[0;34m\u001b[0m\u001b[0m\n\u001b[0m\u001b[1;32m    856\u001b[0m     \u001b[0;32melif\u001b[0m \u001b[0mself\u001b[0m\u001b[0;34m.\u001b[0m\u001b[0m_stateful_fn\u001b[0m \u001b[0;32mis\u001b[0m \u001b[0;32mnot\u001b[0m \u001b[0;32mNone\u001b[0m\u001b[0;34m:\u001b[0m\u001b[0;34m\u001b[0m\u001b[0;34m\u001b[0m\u001b[0m\n\u001b[1;32m    857\u001b[0m       \u001b[0;31m# Release the lock early so that multiple threads can perform the call\u001b[0m\u001b[0;34m\u001b[0m\u001b[0;34m\u001b[0m\u001b[0;34m\u001b[0m\u001b[0m\n",
      "\u001b[0;32m/data/uab-giq/scratch/miniconda3/envs/mateconda/lib/python3.9/site-packages/tensorflow/python/eager/function.py\u001b[0m in \u001b[0;36m__call__\u001b[0;34m(self, *args, **kwargs)\u001b[0m\n\u001b[1;32m   2940\u001b[0m       (graph_function,\n\u001b[1;32m   2941\u001b[0m        filtered_flat_args) = self._maybe_define_function(args, kwargs)\n\u001b[0;32m-> 2942\u001b[0;31m     return graph_function._call_flat(\n\u001b[0m\u001b[1;32m   2943\u001b[0m         filtered_flat_args, captured_inputs=graph_function.captured_inputs)  # pylint: disable=protected-access\n\u001b[1;32m   2944\u001b[0m \u001b[0;34m\u001b[0m\u001b[0m\n",
      "\u001b[0;32m/data/uab-giq/scratch/miniconda3/envs/mateconda/lib/python3.9/site-packages/tensorflow/python/eager/function.py\u001b[0m in \u001b[0;36m_call_flat\u001b[0;34m(self, args, captured_inputs, cancellation_manager)\u001b[0m\n\u001b[1;32m   1916\u001b[0m         and executing_eagerly):\n\u001b[1;32m   1917\u001b[0m       \u001b[0;31m# No tape is watching; skip to running the function.\u001b[0m\u001b[0;34m\u001b[0m\u001b[0;34m\u001b[0m\u001b[0;34m\u001b[0m\u001b[0m\n\u001b[0;32m-> 1918\u001b[0;31m       return self._build_call_outputs(self._inference_function.call(\n\u001b[0m\u001b[1;32m   1919\u001b[0m           ctx, args, cancellation_manager=cancellation_manager))\n\u001b[1;32m   1920\u001b[0m     forward_backward = self._select_forward_and_backward_functions(\n",
      "\u001b[0;32m/data/uab-giq/scratch/miniconda3/envs/mateconda/lib/python3.9/site-packages/tensorflow/python/eager/function.py\u001b[0m in \u001b[0;36mcall\u001b[0;34m(self, ctx, args, cancellation_manager)\u001b[0m\n\u001b[1;32m    553\u001b[0m       \u001b[0;32mwith\u001b[0m \u001b[0m_InterpolateFunctionError\u001b[0m\u001b[0;34m(\u001b[0m\u001b[0mself\u001b[0m\u001b[0;34m)\u001b[0m\u001b[0;34m:\u001b[0m\u001b[0;34m\u001b[0m\u001b[0;34m\u001b[0m\u001b[0m\n\u001b[1;32m    554\u001b[0m         \u001b[0;32mif\u001b[0m \u001b[0mcancellation_manager\u001b[0m \u001b[0;32mis\u001b[0m \u001b[0;32mNone\u001b[0m\u001b[0;34m:\u001b[0m\u001b[0;34m\u001b[0m\u001b[0;34m\u001b[0m\u001b[0m\n\u001b[0;32m--> 555\u001b[0;31m           outputs = execute.execute(\n\u001b[0m\u001b[1;32m    556\u001b[0m               \u001b[0mstr\u001b[0m\u001b[0;34m(\u001b[0m\u001b[0mself\u001b[0m\u001b[0;34m.\u001b[0m\u001b[0msignature\u001b[0m\u001b[0;34m.\u001b[0m\u001b[0mname\u001b[0m\u001b[0;34m)\u001b[0m\u001b[0;34m,\u001b[0m\u001b[0;34m\u001b[0m\u001b[0;34m\u001b[0m\u001b[0m\n\u001b[1;32m    557\u001b[0m               \u001b[0mnum_outputs\u001b[0m\u001b[0;34m=\u001b[0m\u001b[0mself\u001b[0m\u001b[0;34m.\u001b[0m\u001b[0m_num_outputs\u001b[0m\u001b[0;34m,\u001b[0m\u001b[0;34m\u001b[0m\u001b[0;34m\u001b[0m\u001b[0m\n",
      "\u001b[0;32m/data/uab-giq/scratch/miniconda3/envs/mateconda/lib/python3.9/site-packages/tensorflow/python/eager/execute.py\u001b[0m in \u001b[0;36mquick_execute\u001b[0;34m(op_name, num_outputs, inputs, attrs, ctx, name)\u001b[0m\n\u001b[1;32m     57\u001b[0m   \u001b[0;32mtry\u001b[0m\u001b[0;34m:\u001b[0m\u001b[0;34m\u001b[0m\u001b[0;34m\u001b[0m\u001b[0m\n\u001b[1;32m     58\u001b[0m     \u001b[0mctx\u001b[0m\u001b[0;34m.\u001b[0m\u001b[0mensure_initialized\u001b[0m\u001b[0;34m(\u001b[0m\u001b[0;34m)\u001b[0m\u001b[0;34m\u001b[0m\u001b[0;34m\u001b[0m\u001b[0m\n\u001b[0;32m---> 59\u001b[0;31m     tensors = pywrap_tfe.TFE_Py_Execute(ctx._handle, device_name, op_name,\n\u001b[0m\u001b[1;32m     60\u001b[0m                                         inputs, attrs, num_outputs)\n\u001b[1;32m     61\u001b[0m   \u001b[0;32mexcept\u001b[0m \u001b[0mcore\u001b[0m\u001b[0;34m.\u001b[0m\u001b[0m_NotOkStatusException\u001b[0m \u001b[0;32mas\u001b[0m \u001b[0me\u001b[0m\u001b[0;34m:\u001b[0m\u001b[0;34m\u001b[0m\u001b[0;34m\u001b[0m\u001b[0m\n",
      "\u001b[0;31mKeyboardInterrupt\u001b[0m: "
     ]
    }
   ],
   "source": [
    "history = metamodel.fit(x=x, y=x_dot, epochs=50, batch_size=25,\n",
    "                callbacks=[TrainingCallback(), tf.keras.callbacks.TensorBoard(\"logs/prueba3\"),\n",
    "                              ])"
   ]
  },
  {
   "cell_type": "code",
   "execution_count": 36,
   "metadata": {},
   "outputs": [
    {
     "data": {
      "text/plain": [
       "<tensorflow.python.training.tracking.util.CheckpointLoadStatus at 0x7f3cdcdc6080>"
      ]
     },
     "execution_count": 36,
     "metadata": {},
     "output_type": "execute_result"
    }
   ],
   "source": [
    "sindy.load_weights(\"nets/sindy_0/\")"
   ]
  },
  {
   "cell_type": "code",
   "execution_count": 37,
   "metadata": {},
   "outputs": [
    {
     "data": {
      "text/plain": [
       "[<tf.Tensor: shape=(3, 27), dtype=float32, numpy=\n",
       " array([[-0.9311571 ,  1.3730997 , -0.18049856, -0.23604348, -0.8861915 ,\n",
       "          0.34579983,  0.        ,  0.3817444 ,  0.6329095 , -0.46864775,\n",
       "          0.20121433,  0.        ,  0.        ,  1.4880794 ,  0.8682103 ,\n",
       "         -0.7623767 ,  0.76911217,  0.        , -2.235712  ,  1.3080964 ,\n",
       "          1.2098081 , -1.1070364 , -1.3574041 , -1.7704686 , -0.71796733,\n",
       "         -0.5128483 ,  1.8050104 ],\n",
       "        [-0.65252423,  0.17881115,  1.0176535 , -0.22862421,  1.2786188 ,\n",
       "         -0.45869717, -0.42945144, -0.2683546 ,  1.3455132 , -0.28287098,\n",
       "         -0.6332829 ,  0.5585188 , -0.8899651 ,  2.2761014 , -0.33276758,\n",
       "         -1.0422409 , -0.13713206, -1.0998034 ,  0.        , -0.87539   ,\n",
       "          0.5636082 ,  1.5775213 , -1.6637301 ,  0.59779716, -0.6056043 ,\n",
       "          1.464332  ,  0.92218494],\n",
       "        [-1.5582777 ,  1.0950025 ,  2.142236  , -0.66036254,  0.66531783,\n",
       "          0.5450642 ,  0.39311463, -2.4012308 ,  1.6103411 ,  1.0273528 ,\n",
       "         -1.3605751 ,  2.061662  ,  0.29204744, -0.3789357 ,  0.950497  ,\n",
       "          2.291414  , -1.250224  , -1.6023395 , -0.45264348, -1.1717108 ,\n",
       "          1.9761865 ,  1.9211097 ,  0.        , -0.26965982,  0.74707025,\n",
       "         -0.84402514,  0.64392686]], dtype=float32)>]"
      ]
     },
     "execution_count": 37,
     "metadata": {},
     "output_type": "execute_result"
    }
   ],
   "source": [
    "sindy.weights"
   ]
  },
  {
   "cell_type": "code",
   "execution_count": 63,
   "metadata": {},
   "outputs": [
    {
     "ename": "ValueError",
     "evalue": "Unsuccessful TensorSliceReader constructor: Failed to get matching files on nets/sindy_11/: Not found: nets/sindy_11; No such file or directory",
     "output_type": "error",
     "traceback": [
      "\u001b[0;31m---------------------------------------------------------------------------\u001b[0m",
      "\u001b[0;31mValueError\u001b[0m                                Traceback (most recent call last)",
      "\u001b[0;32m<ipython-input-63-cfbb6adf27b8>\u001b[0m in \u001b[0;36m<module>\u001b[0;34m\u001b[0m\n\u001b[1;32m      1\u001b[0m \u001b[0msindy\u001b[0m \u001b[0;34m=\u001b[0m \u001b[0mSINDy\u001b[0m\u001b[0;34m(\u001b[0m\u001b[0;34m)\u001b[0m\u001b[0;34m\u001b[0m\u001b[0;34m\u001b[0m\u001b[0m\n\u001b[0;32m----> 2\u001b[0;31m \u001b[0msindy\u001b[0m\u001b[0;34m.\u001b[0m\u001b[0mload_weights\u001b[0m\u001b[0;34m(\u001b[0m\u001b[0;34m\"nets/sindy_11/\"\u001b[0m\u001b[0;34m)\u001b[0m\u001b[0;34m\u001b[0m\u001b[0;34m\u001b[0m\u001b[0m\n\u001b[0m",
      "\u001b[0;32m~/.local/lib/python3.6/site-packages/tensorflow/python/keras/engine/training.py\u001b[0m in \u001b[0;36mload_weights\u001b[0;34m(self, filepath, by_name, skip_mismatch, options)\u001b[0m\n\u001b[1;32m   2174\u001b[0m     \u001b[0;32melse\u001b[0m\u001b[0;34m:\u001b[0m\u001b[0;34m\u001b[0m\u001b[0;34m\u001b[0m\u001b[0m\n\u001b[1;32m   2175\u001b[0m       \u001b[0;32mtry\u001b[0m\u001b[0;34m:\u001b[0m\u001b[0;34m\u001b[0m\u001b[0;34m\u001b[0m\u001b[0m\n\u001b[0;32m-> 2176\u001b[0;31m         \u001b[0mpy_checkpoint_reader\u001b[0m\u001b[0;34m.\u001b[0m\u001b[0mNewCheckpointReader\u001b[0m\u001b[0;34m(\u001b[0m\u001b[0mfilepath\u001b[0m\u001b[0;34m)\u001b[0m\u001b[0;34m\u001b[0m\u001b[0;34m\u001b[0m\u001b[0m\n\u001b[0m\u001b[1;32m   2177\u001b[0m         \u001b[0msave_format\u001b[0m \u001b[0;34m=\u001b[0m \u001b[0;34m'tf'\u001b[0m\u001b[0;34m\u001b[0m\u001b[0;34m\u001b[0m\u001b[0m\n\u001b[1;32m   2178\u001b[0m       \u001b[0;32mexcept\u001b[0m \u001b[0merrors_impl\u001b[0m\u001b[0;34m.\u001b[0m\u001b[0mDataLossError\u001b[0m\u001b[0;34m:\u001b[0m\u001b[0;34m\u001b[0m\u001b[0;34m\u001b[0m\u001b[0m\n",
      "\u001b[0;32m~/.local/lib/python3.6/site-packages/tensorflow/python/training/py_checkpoint_reader.py\u001b[0m in \u001b[0;36mNewCheckpointReader\u001b[0;34m(filepattern)\u001b[0m\n\u001b[1;32m     93\u001b[0m   \"\"\"\n\u001b[1;32m     94\u001b[0m   \u001b[0;32mtry\u001b[0m\u001b[0;34m:\u001b[0m\u001b[0;34m\u001b[0m\u001b[0;34m\u001b[0m\u001b[0m\n\u001b[0;32m---> 95\u001b[0;31m     \u001b[0;32mreturn\u001b[0m \u001b[0mCheckpointReader\u001b[0m\u001b[0;34m(\u001b[0m\u001b[0mcompat\u001b[0m\u001b[0;34m.\u001b[0m\u001b[0mas_bytes\u001b[0m\u001b[0;34m(\u001b[0m\u001b[0mfilepattern\u001b[0m\u001b[0;34m)\u001b[0m\u001b[0;34m)\u001b[0m\u001b[0;34m\u001b[0m\u001b[0;34m\u001b[0m\u001b[0m\n\u001b[0m\u001b[1;32m     96\u001b[0m   \u001b[0;31m# TODO(b/143319754): Remove the RuntimeError casting logic once we resolve the\u001b[0m\u001b[0;34m\u001b[0m\u001b[0;34m\u001b[0m\u001b[0;34m\u001b[0m\u001b[0m\n\u001b[1;32m     97\u001b[0m   \u001b[0;31m# issue with throwing python exceptions from C++.\u001b[0m\u001b[0;34m\u001b[0m\u001b[0;34m\u001b[0m\u001b[0;34m\u001b[0m\u001b[0m\n",
      "\u001b[0;31mValueError\u001b[0m: Unsuccessful TensorSliceReader constructor: Failed to get matching files on nets/sindy_11/: Not found: nets/sindy_11; No such file or directory"
     ]
    }
   ],
   "source": [
    "sindy = SINDy()\n",
    "sindy.load_weights(\"nets/sindy_11/\")"
   ]
  },
  {
   "cell_type": "code",
   "execution_count": 18,
   "metadata": {},
   "outputs": [],
   "source": [
    "from sindy import SINDy\n",
    "sindy1 = SINDy()"
   ]
  },
  {
   "cell_type": "code",
   "execution_count": 20,
   "metadata": {},
   "outputs": [
    {
     "data": {
      "text/plain": [
       "'sin_dy_1'"
      ]
     },
     "execution_count": 20,
     "metadata": {},
     "output_type": "execute_result"
    }
   ],
   "source": [
    "sindy1.name"
   ]
  },
  {
   "cell_type": "code",
   "execution_count": 9,
   "metadata": {},
   "outputs": [
    {
     "data": {
      "text/plain": [
       "<tf.Variable 'Variable:0' shape=(3, 27) dtype=float32, numpy=\n",
       "array([[1., 1., 1., 1., 1., 1., 1., 1., 1., 1., 1., 1., 1., 1., 1., 1.,\n",
       "        1., 1., 1., 1., 1., 1., 1., 1., 1., 1., 1.],\n",
       "       [1., 1., 1., 1., 1., 1., 1., 1., 1., 1., 1., 1., 1., 1., 1., 1.,\n",
       "        1., 1., 1., 1., 1., 1., 1., 1., 1., 1., 1.],\n",
       "       [1., 1., 1., 1., 1., 1., 1., 1., 1., 1., 1., 1., 1., 1., 1., 1.,\n",
       "        1., 1., 1., 1., 1., 1., 1., 1., 1., 1., 1.]], dtype=float32)>"
      ]
     },
     "execution_count": 9,
     "metadata": {},
     "output_type": "execute_result"
    }
   ],
   "source": [
    "coeffs = tf.Variable(np.ones((3,27)).astype(np.float32), trainable=True, name=\"sindy/dense/kernel:0\")\n",
    "coeffs"
   ]
  },
  {
   "cell_type": "code",
   "execution_count": 58,
   "metadata": {},
   "outputs": [
    {
     "data": {
      "text/plain": [
       "[<tf.Variable 'Variable:0' shape=(3, 27) dtype=float32, numpy=\n",
       " array([[-2.48601614e-03,  8.35985005e-01, -1.08248937e+00,\n",
       "         -1.25054210e-01,  2.19034106e-01, -1.66024411e+00,\n",
       "         -1.19687581e+00, -4.92233634e-02,  8.97786766e-02,\n",
       "          3.82149875e-01,  9.09135304e-03,  2.49032676e-01,\n",
       "          7.79314060e-03,  5.54208532e-02, -8.83790329e-02,\n",
       "         -3.96450646e-02,  1.44127405e+00, -2.65611023e-01,\n",
       "          1.15535867e+00, -1.99022663e+00,  2.95111537e-01,\n",
       "          4.73870263e-02, -8.94377083e-02, -3.42485398e-01,\n",
       "          7.68711209e-01, -7.77051866e-01, -3.71877491e-01],\n",
       "        [ 6.50211632e-01, -8.26581493e-02,  1.02030349e+00,\n",
       "          7.19511807e-02, -5.15373468e-01,  3.45013499e-01,\n",
       "         -1.21267819e+00,  1.25622785e+00, -1.47071671e+00,\n",
       "         -9.12182629e-02,  5.38204551e-01,  7.74763823e-02,\n",
       "          1.82412457e+00,  1.05103528e+00,  1.50815874e-01,\n",
       "         -2.12940145e+00,  5.59756756e-01,  1.24723963e-01,\n",
       "          3.04355519e-04,  1.03763387e-01, -1.18920529e+00,\n",
       "         -5.02732277e-01,  8.50560144e-02, -1.16433874e-01,\n",
       "         -4.79921281e-01,  1.20499289e+00, -1.31372228e-01],\n",
       "        [-1.78177190e+00, -7.14079022e-01,  7.75838077e-01,\n",
       "         -1.00168817e-01, -8.87066824e-04,  1.69082141e+00,\n",
       "         -1.52236847e-02, -2.60558635e-01,  1.41545415e+00,\n",
       "          7.05273569e-01,  9.81083605e-03, -7.61689842e-02,\n",
       "          6.65922649e-03,  7.47608662e-01, -2.37315502e-02,\n",
       "          3.70270386e-02, -2.00944543e+00, -1.14102133e-01,\n",
       "          6.15521055e-03, -1.61331522e+00,  1.06117666e-01,\n",
       "          1.80268836e+00,  1.20694137e+00, -1.88609922e+00,\n",
       "         -1.07165205e+00, -4.62751269e-01, -1.28500748e+00]], dtype=float32)>]"
      ]
     },
     "execution_count": 58,
     "metadata": {},
     "output_type": "execute_result"
    }
   ],
   "source": [
    "sindy.weigths"
   ]
  },
  {
   "cell_type": "code",
   "execution_count": null,
   "metadata": {},
   "outputs": [],
   "source": []
  }
 ],
 "metadata": {
  "kernelspec": {
   "display_name": "mateconda",
   "language": "python",
   "name": "mateconda"
  },
  "language_info": {
   "codemirror_mode": {
    "name": "ipython",
    "version": 3
   },
   "file_extension": ".py",
   "mimetype": "text/x-python",
   "name": "python",
   "nbconvert_exporter": "python",
   "pygments_lexer": "ipython3",
   "version": "3.9.5"
  }
 },
 "nbformat": 4,
 "nbformat_minor": 5
}
