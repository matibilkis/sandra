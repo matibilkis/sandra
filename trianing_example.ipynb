{
 "cells": [
  {
   "cell_type": "code",
   "execution_count": 27,
   "id": "dangerous-complement",
   "metadata": {},
   "outputs": [
    {
     "name": "stdout",
     "output_type": "stream",
     "text": [
      "The autoreload extension is already loaded. To reload it, use:\n",
      "  %reload_ext autoreload\n"
     ]
    }
   ],
   "source": [
    "%load_ext autoreload\n",
    "%autoreload 2\n",
    "import tensorflow as tf\n",
    "from networks import Encoder, Decoder, MetaModel, TrainingCallback\n",
    "import numpy as np\n",
    "import ast\n",
    "from sindy import SINDy\n",
    "import os\n",
    "\n",
    "\n",
    "x, x_dot = np.load(\"datalorenz/paper500.npy\").astype(np.float32)\n",
    "x = tf.reshape(x,[-1,128])[:1000]\n",
    "x_dot = tf.reshape(x,[-1,128])[:1000]\n",
    "    "
   ]
  },
  {
   "cell_type": "code",
   "execution_count": 28,
   "id": "dedicated-zealand",
   "metadata": {},
   "outputs": [],
   "source": [
    "\n",
    "encoder = Encoder()\n",
    "decoder = Decoder()\n",
    "sindy = SINDy()\n",
    "models = [encoder, decoder, sindy]\n",
    "    \n",
    "metamodel = MetaModel(models, total_epochs=400, when_zero_lambda3=1000)\n",
    "metamodel.compile_models()\n"
   ]
  },
  {
   "cell_type": "code",
   "execution_count": 29,
   "id": "mechanical-gateway",
   "metadata": {},
   "outputs": [
    {
     "name": "stdout",
     "output_type": "stream",
     "text": [
      "Epoch 1/50\n",
      " 2/40 [>.............................] - ETA: 5s - Total Loss: 0.1839 - Loss_0: 0.1838 - Loss_1: 2.0464e-05 - Loss_2: 0.0000e+00 - Loss_3: 9.3888e-06WARNING:tensorflow:Callbacks method `on_train_batch_end` is slow compared to the batch time (batch time: 0.0037s vs `on_train_batch_end` time: 0.2924s). Check your callbacks.\n",
      "23/40 [================>.............] - ETA: 0s - Total Loss: 0.0332 - Loss_0: 0.0331 - Loss_1: 1.5419e-05 - Loss_2: 0.0000e+00 - Loss_3: 9.2312e-06INFO:tensorflow:Summary name epoch_Total Loss is illegal; using epoch_Total_Loss instead.\n",
      "40/40 [==============================] - 0s 11ms/step - Total Loss: 0.0737 - Loss_0: 0.0737 - Loss_1: 1.8537e-05 - Loss_2: 0.0000e+00 - Loss_3: 9.0903e-06\n",
      "Epoch 2/50\n",
      "38/40 [===========================>..] - ETA: 0s - Total Loss: 0.1437 - Loss_0: 0.1437 - Loss_1: 2.8943e-05 - Loss_2: 0.0000e+00 - Loss_3: 8.7638e-06INFO:tensorflow:Summary name epoch_Total Loss is illegal; using epoch_Total_Loss instead.\n",
      "40/40 [==============================] - 0s 3ms/step - Total Loss: 0.0836 - Loss_0: 0.0836 - Loss_1: 1.7871e-05 - Loss_2: 0.0000e+00 - Loss_3: 8.7463e-06\n",
      "Epoch 3/50\n",
      "37/40 [==========================>...] - ETA: 0s - Total Loss: 0.0601 - Loss_0: 0.0600 - Loss_1: 1.9038e-05 - Loss_2: 0.0000e+00 - Loss_3: 8.4212e-06INFO:tensorflow:Summary name epoch_Total Loss is illegal; using epoch_Total_Loss instead.\n",
      "40/40 [==============================] - 0s 3ms/step - Total Loss: 0.0291 - Loss_0: 0.0291 - Loss_1: 1.5070e-05 - Loss_2: 0.0000e+00 - Loss_3: 8.3953e-06\n",
      "Epoch 4/50\n",
      "37/40 [==========================>...] - ETA: 0s - Total Loss: 0.0917 - Loss_0: 0.0917 - Loss_1: 2.0156e-05 - Loss_2: 0.0000e+00 - Loss_3: 8.0748e-06INFO:tensorflow:Summary name epoch_Total Loss is illegal; using epoch_Total_Loss instead.\n",
      "40/40 [==============================] - 0s 3ms/step - Total Loss: 0.1081 - Loss_0: 0.1081 - Loss_1: 2.0727e-05 - Loss_2: 0.0000e+00 - Loss_3: 8.0490e-06\n",
      "Epoch 5/50\n",
      "38/40 [===========================>..] - ETA: 0s - Total Loss: 0.0360 - Loss_0: 0.0360 - Loss_1: 1.4286e-05 - Loss_2: 0.0000e+00 - Loss_3: 7.7229e-06INFO:tensorflow:Summary name epoch_Total Loss is illegal; using epoch_Total_Loss instead.\n",
      "40/40 [==============================] - 0s 3ms/step - Total Loss: 0.0887 - Loss_0: 0.0887 - Loss_1: 2.2314e-05 - Loss_2: 0.0000e+00 - Loss_3: 7.7059e-06\n",
      "Epoch 6/50\n",
      "36/40 [==========================>...] - ETA: 0s - Total Loss: 0.0728 - Loss_0: 0.0727 - Loss_1: 1.9807e-05 - Loss_2: 0.0000e+00 - Loss_3: 7.4162e-06INFO:tensorflow:Summary name epoch_Total Loss is illegal; using epoch_Total_Loss instead.\n",
      "40/40 [==============================] - 0s 3ms/step - Total Loss: 0.0154 - Loss_0: 0.0154 - Loss_1: 1.4730e-05 - Loss_2: 0.0000e+00 - Loss_3: 7.3935e-06\n",
      "Epoch 7/50\n",
      "39/40 [============================>.] - ETA: 0s - Total Loss: 0.0220 - Loss_0: 0.0220 - Loss_1: 4.1604e-06 - Loss_2: 0.0000e+00 - Loss_3: 7.3791e-06INFO:tensorflow:Summary name epoch_Total Loss is illegal; using epoch_Total_Loss instead.\n",
      "40/40 [==============================] - 0s 3ms/step - Total Loss: 0.0372 - Loss_0: 0.0372 - Loss_1: 4.8127e-06 - Loss_2: 0.0000e+00 - Loss_3: 7.3821e-06\n",
      "Epoch 8/50\n",
      "38/40 [===========================>..] - ETA: 0s - Total Loss: 0.0781 - Loss_0: 0.0780 - Loss_1: 1.3076e-04 - Loss_2: 0.0000e+00 - Loss_3: 7.3074e-06INFO:tensorflow:Summary name epoch_Total Loss is illegal; using epoch_Total_Loss instead.\n",
      "40/40 [==============================] - 0s 3ms/step - Total Loss: 0.1067 - Loss_0: 0.1065 - Loss_1: 1.3982e-04 - Loss_2: 0.0000e+00 - Loss_3: 7.2981e-06\n",
      "Epoch 9/50\n",
      "36/40 [==========================>...] - ETA: 0s - Total Loss: 0.0309 - Loss_0: 0.0308 - Loss_1: 6.5143e-05 - Loss_2: 0.0000e+00 - Loss_3: 7.2412e-06INFO:tensorflow:Summary name epoch_Total Loss is illegal; using epoch_Total_Loss instead.\n",
      "40/40 [==============================] - 0s 3ms/step - Total Loss: 0.0998 - Loss_0: 0.0996 - Loss_1: 1.4655e-04 - Loss_2: 0.0000e+00 - Loss_3: 7.2416e-06\n",
      "Epoch 10/50\n",
      "38/40 [===========================>..] - ETA: 0s - Total Loss: 0.0658 - Loss_0: 0.0657 - Loss_1: 8.0031e-05 - Loss_2: 0.0000e+00 - Loss_3: 7.2526e-06INFO:tensorflow:Summary name epoch_Total Loss is illegal; using epoch_Total_Loss instead.\n",
      "40/40 [==============================] - 0s 3ms/step - Total Loss: 0.0446 - Loss_0: 0.0445 - Loss_1: 5.8390e-05 - Loss_2: 0.0000e+00 - Loss_3: 7.2528e-06\n",
      "Epoch 11/50\n",
      "37/40 [==========================>...] - ETA: 0s - Total Loss: 0.0442 - Loss_0: 0.0442 - Loss_1: 2.7421e-05 - Loss_2: 0.0000e+00 - Loss_3: 7.2724e-06INFO:tensorflow:Summary name epoch_Total Loss is illegal; using epoch_Total_Loss instead.\n",
      "40/40 [==============================] - 0s 3ms/step - Total Loss: 0.0289 - Loss_0: 0.0289 - Loss_1: 3.0540e-05 - Loss_2: 0.0000e+00 - Loss_3: 7.2716e-06\n",
      "Epoch 12/50\n",
      "38/40 [===========================>..] - ETA: 0s - Total Loss: 0.0130 - Loss_0: 0.0130 - Loss_1: 2.3494e-05 - Loss_2: 0.0000e+00 - Loss_3: 7.2551e-06INFO:tensorflow:Summary name epoch_Total Loss is illegal; using epoch_Total_Loss instead.\n",
      "40/40 [==============================] - 0s 3ms/step - Total Loss: 0.0114 - Loss_0: 0.0114 - Loss_1: 2.3229e-05 - Loss_2: 0.0000e+00 - Loss_3: 7.2543e-06\n",
      "Epoch 13/50\n",
      "38/40 [===========================>..] - ETA: 0s - Total Loss: 0.0230 - Loss_0: 0.0230 - Loss_1: 2.3167e-05 - Loss_2: 0.0000e+00 - Loss_3: 7.2333e-06INFO:tensorflow:Summary name epoch_Total Loss is illegal; using epoch_Total_Loss instead.\n",
      "40/40 [==============================] - 0s 3ms/step - Total Loss: 0.0816 - Loss_0: 0.0816 - Loss_1: 5.9869e-05 - Loss_2: 0.0000e+00 - Loss_3: 7.2323e-06\n",
      "Epoch 14/50\n",
      "33/40 [=======================>......] - ETA: 0s - Total Loss: 0.0169 - Loss_0: 0.0168 - Loss_1: 2.2090e-05 - Loss_2: 0.0000e+00 - Loss_3: 7.2185e-06INFO:tensorflow:Summary name epoch_Total Loss is illegal; using epoch_Total_Loss instead.\n",
      "40/40 [==============================] - 0s 3ms/step - Total Loss: 0.0371 - Loss_0: 0.0371 - Loss_1: 2.5549e-05 - Loss_2: 0.0000e+00 - Loss_3: 7.2157e-06\n",
      "Epoch 15/50\n",
      "22/40 [===============>..............] - ETA: 0s - Total Loss: 0.0207 - Loss_0: 0.0207 - Loss_1: 2.5710e-05 - Loss_2: 0.0000e+00 - Loss_3: 7.2033e-06INFO:tensorflow:Summary name epoch_Total Loss is illegal; using epoch_Total_Loss instead.\n",
      "40/40 [==============================] - 0s 3ms/step - Total Loss: 0.0197 - Loss_0: 0.0197 - Loss_1: 2.6146e-05 - Loss_2: 0.0000e+00 - Loss_3: 7.1941e-06\n",
      "Epoch 16/50\n",
      "40/40 [==============================] - ETA: 0s - Total Loss: 0.0257 - Loss_0: 0.0256 - Loss_1: 4.1849e-05 - Loss_2: 0.0000e+00 - Loss_3: 7.1759e-06INFO:tensorflow:Summary name epoch_Total Loss is illegal; using epoch_Total_Loss instead.\n",
      "40/40 [==============================] - 0s 3ms/step - Total Loss: 0.0257 - Loss_0: 0.0256 - Loss_1: 4.1849e-05 - Loss_2: 0.0000e+00 - Loss_3: 7.1759e-06\n",
      "Epoch 17/50\n",
      "38/40 [===========================>..] - ETA: 0s - Total Loss: 0.0137 - Loss_0: 0.0137 - Loss_1: 2.2442e-05 - Loss_2: 0.0000e+00 - Loss_3: 7.1750e-06INFO:tensorflow:Summary name epoch_Total Loss is illegal; using epoch_Total_Loss instead.\n",
      "40/40 [==============================] - 0s 3ms/step - Total Loss: 0.0342 - Loss_0: 0.0342 - Loss_1: 2.5744e-05 - Loss_2: 0.0000e+00 - Loss_3: 7.1756e-06\n",
      "Epoch 18/50\n",
      "32/40 [=======================>......] - ETA: 0s - Total Loss: 0.0141 - Loss_0: 0.0141 - Loss_1: 1.7793e-05 - Loss_2: 0.0000e+00 - Loss_3: 7.1850e-06INFO:tensorflow:Summary name epoch_Total Loss is illegal; using epoch_Total_Loss instead.\n",
      "40/40 [==============================] - 0s 3ms/step - Total Loss: 0.0165 - Loss_0: 0.0165 - Loss_1: 2.3542e-05 - Loss_2: 0.0000e+00 - Loss_3: 7.1874e-06\n",
      "Epoch 19/50\n",
      "32/40 [=======================>......] - ETA: 0s - Total Loss: 0.0312 - Loss_0: 0.0312 - Loss_1: 2.2925e-05 - Loss_2: 0.0000e+00 - Loss_3: 7.2004e-06INFO:tensorflow:Summary name epoch_Total Loss is illegal; using epoch_Total_Loss instead.\n",
      "40/40 [==============================] - 0s 3ms/step - Total Loss: 0.0194 - Loss_0: 0.0194 - Loss_1: 1.5132e-05 - Loss_2: 0.0000e+00 - Loss_3: 7.2038e-06\n",
      "Epoch 20/50\n",
      "34/40 [========================>.....] - ETA: 0s - Total Loss: 0.0096 - Loss_0: 0.0096 - Loss_1: 1.7500e-05 - Loss_2: 0.0000e+00 - Loss_3: 7.2098e-06INFO:tensorflow:Summary name epoch_Total Loss is illegal; using epoch_Total_Loss instead.\n"
     ]
    },
    {
     "name": "stdout",
     "output_type": "stream",
     "text": [
      "40/40 [==============================] - 0s 3ms/step - Total Loss: 0.0172 - Loss_0: 0.0171 - Loss_1: 2.3177e-05 - Loss_2: 0.0000e+00 - Loss_3: 7.2119e-06\n",
      "Epoch 21/50\n",
      "35/40 [=========================>....] - ETA: 0s - Total Loss: 0.0242 - Loss_0: 0.0242 - Loss_1: 4.2741e-05 - Loss_2: 0.0000e+00 - Loss_3: 7.2155e-06INFO:tensorflow:Summary name epoch_Total Loss is illegal; using epoch_Total_Loss instead.\n",
      "40/40 [==============================] - 0s 3ms/step - Total Loss: 0.0121 - Loss_0: 0.0121 - Loss_1: 1.7001e-05 - Loss_2: 0.0000e+00 - Loss_3: 7.2151e-06\n",
      "Epoch 22/50\n",
      "34/40 [========================>.....] - ETA: 0s - Total Loss: 0.0172 - Loss_0: 0.0172 - Loss_1: 1.3680e-05 - Loss_2: 0.0000e+00 - Loss_3: 7.2188e-06INFO:tensorflow:Summary name epoch_Total Loss is illegal; using epoch_Total_Loss instead.\n",
      "40/40 [==============================] - 0s 3ms/step - Total Loss: 0.0113 - Loss_0: 0.0113 - Loss_1: 1.9393e-05 - Loss_2: 0.0000e+00 - Loss_3: 7.2188e-06\n",
      "Epoch 23/50\n",
      "31/40 [======================>.......] - ETA: 0s - Total Loss: 0.0135 - Loss_0: 0.0135 - Loss_1: 1.8462e-05 - Loss_2: 0.0000e+00 - Loss_3: 7.2187e-06INFO:tensorflow:Summary name epoch_Total Loss is illegal; using epoch_Total_Loss instead.\n",
      "40/40 [==============================] - 0s 3ms/step - Total Loss: 0.0227 - Loss_0: 0.0227 - Loss_1: 2.2394e-05 - Loss_2: 0.0000e+00 - Loss_3: 7.2196e-06\n",
      "Epoch 24/50\n",
      "37/40 [==========================>...] - ETA: 0s - Total Loss: 0.0127 - Loss_0: 0.0127 - Loss_1: 1.6412e-05 - Loss_2: 0.0000e+00 - Loss_3: 7.2268e-06INFO:tensorflow:Summary name epoch_Total Loss is illegal; using epoch_Total_Loss instead.\n",
      "40/40 [==============================] - 0s 3ms/step - Total Loss: 0.0237 - Loss_0: 0.0236 - Loss_1: 1.8437e-05 - Loss_2: 0.0000e+00 - Loss_3: 7.2247e-06\n",
      "Epoch 25/50\n",
      "38/40 [===========================>..] - ETA: 0s - Total Loss: 0.0125 - Loss_0: 0.0124 - Loss_1: 1.8870e-05 - Loss_2: 0.0000e+00 - Loss_3: 7.2225e-06INFO:tensorflow:Summary name epoch_Total Loss is illegal; using epoch_Total_Loss instead.\n",
      "40/40 [==============================] - 0s 3ms/step - Total Loss: 0.0074 - Loss_0: 0.0074 - Loss_1: 1.3907e-05 - Loss_2: 0.0000e+00 - Loss_3: 7.2229e-06\n",
      "Epoch 26/50\n",
      "36/40 [==========================>...] - ETA: 0s - Total Loss: 0.0127 - Loss_0: 0.0127 - Loss_1: 1.4534e-05 - Loss_2: 0.0000e+00 - Loss_3: 7.2276e-06INFO:tensorflow:Summary name epoch_Total Loss is illegal; using epoch_Total_Loss instead.\n",
      "40/40 [==============================] - 0s 3ms/step - Total Loss: 0.0739 - Loss_0: 0.0739 - Loss_1: 6.3936e-05 - Loss_2: 0.0000e+00 - Loss_3: 7.2280e-06\n",
      "Epoch 27/50\n",
      "34/40 [========================>.....] - ETA: 0s - Total Loss: 0.0199 - Loss_0: 0.0199 - Loss_1: 1.7957e-05 - Loss_2: 0.0000e+00 - Loss_3: 7.2255e-06INFO:tensorflow:Summary name epoch_Total Loss is illegal; using epoch_Total_Loss instead.\n",
      "40/40 [==============================] - 0s 3ms/step - Total Loss: 0.0329 - Loss_0: 0.0328 - Loss_1: 7.8541e-05 - Loss_2: 0.0000e+00 - Loss_3: 7.2276e-06\n",
      "Epoch 28/50\n",
      "36/40 [==========================>...] - ETA: 0s - Total Loss: 0.0094 - Loss_0: 0.0094 - Loss_1: 1.6279e-05 - Loss_2: 0.0000e+00 - Loss_3: 7.2235e-06INFO:tensorflow:Summary name epoch_Total Loss is illegal; using epoch_Total_Loss instead.\n",
      "40/40 [==============================] - 0s 3ms/step - Total Loss: 0.0124 - Loss_0: 0.0124 - Loss_1: 1.8342e-05 - Loss_2: 0.0000e+00 - Loss_3: 7.2256e-06\n",
      "Epoch 29/50\n",
      "31/40 [======================>.......] - ETA: 0s - Total Loss: 0.0260 - Loss_0: 0.0260 - Loss_1: 1.9748e-05 - Loss_2: 0.0000e+00 - Loss_3: 7.2249e-06INFO:tensorflow:Summary name epoch_Total Loss is illegal; using epoch_Total_Loss instead.\n",
      "40/40 [==============================] - 0s 3ms/step - Total Loss: 0.0157 - Loss_0: 0.0157 - Loss_1: 1.4914e-05 - Loss_2: 0.0000e+00 - Loss_3: 7.2233e-06\n",
      "Epoch 30/50\n",
      "33/40 [=======================>......] - ETA: 0s - Total Loss: 0.0184 - Loss_0: 0.0183 - Loss_1: 1.7333e-05 - Loss_2: 0.0000e+00 - Loss_3: 7.2250e-06INFO:tensorflow:Summary name epoch_Total Loss is illegal; using epoch_Total_Loss instead.\n",
      "40/40 [==============================] - 0s 3ms/step - Total Loss: 0.0147 - Loss_0: 0.0147 - Loss_1: 1.3985e-05 - Loss_2: 0.0000e+00 - Loss_3: 7.2251e-06\n",
      "Epoch 31/50\n",
      "22/40 [===============>..............] - ETA: 0s - Total Loss: 0.0142 - Loss_0: 0.0142 - Loss_1: 1.4462e-05 - Loss_2: 0.0000e+00 - Loss_3: 7.2247e-06INFO:tensorflow:Summary name epoch_Total Loss is illegal; using epoch_Total_Loss instead.\n",
      "40/40 [==============================] - 0s 2ms/step - Total Loss: 0.0164 - Loss_0: 0.0164 - Loss_1: 1.9317e-05 - Loss_2: 0.0000e+00 - Loss_3: 7.2218e-06\n",
      "Epoch 32/50\n",
      "38/40 [===========================>..] - ETA: 0s - Total Loss: 0.0084 - Loss_0: 0.0084 - Loss_1: 1.2306e-05 - Loss_2: 0.0000e+00 - Loss_3: 7.2178e-06INFO:tensorflow:Summary name epoch_Total Loss is illegal; using epoch_Total_Loss instead.\n",
      "40/40 [==============================] - 0s 3ms/step - Total Loss: 0.0121 - Loss_0: 0.0121 - Loss_1: 1.3435e-05 - Loss_2: 0.0000e+00 - Loss_3: 7.2181e-06\n",
      "Epoch 33/50\n",
      "33/40 [=======================>......] - ETA: 0s - Total Loss: 0.0097 - Loss_0: 0.0096 - Loss_1: 1.4994e-05 - Loss_2: 0.0000e+00 - Loss_3: 7.2120e-06INFO:tensorflow:Summary name epoch_Total Loss is illegal; using epoch_Total_Loss instead.\n",
      "40/40 [==============================] - 0s 3ms/step - Total Loss: 0.0161 - Loss_0: 0.0161 - Loss_1: 1.7752e-05 - Loss_2: 0.0000e+00 - Loss_3: 7.2116e-06\n",
      "Epoch 34/50\n",
      "38/40 [===========================>..] - ETA: 0s - Total Loss: 0.0182 - Loss_0: 0.0182 - Loss_1: 1.9129e-05 - Loss_2: 0.0000e+00 - Loss_3: 7.2108e-06INFO:tensorflow:Summary name epoch_Total Loss is illegal; using epoch_Total_Loss instead.\n",
      "40/40 [==============================] - 0s 3ms/step - Total Loss: 0.0573 - Loss_0: 0.0573 - Loss_1: 3.0105e-05 - Loss_2: 0.0000e+00 - Loss_3: 7.2105e-06\n",
      "Epoch 35/50\n",
      "37/40 [==========================>...] - ETA: 0s - Total Loss: 0.0112 - Loss_0: 0.0112 - Loss_1: 1.3584e-05 - Loss_2: 0.0000e+00 - Loss_3: 7.2075e-06INFO:tensorflow:Summary name epoch_Total Loss is illegal; using epoch_Total_Loss instead.\n",
      "40/40 [==============================] - 0s 3ms/step - Total Loss: 0.0125 - Loss_0: 0.0124 - Loss_1: 2.3043e-05 - Loss_2: 0.0000e+00 - Loss_3: 7.2059e-06\n",
      "Epoch 36/50\n",
      "39/40 [============================>.] - ETA: 0s - Total Loss: 0.0305 - Loss_0: 0.0305 - Loss_1: 2.0076e-05 - Loss_2: 0.0000e+00 - Loss_3: 7.2015e-06INFO:tensorflow:Summary name epoch_Total Loss is illegal; using epoch_Total_Loss instead.\n",
      "40/40 [==============================] - 0s 3ms/step - Total Loss: 0.0117 - Loss_0: 0.0117 - Loss_1: 1.6863e-05 - Loss_2: 0.0000e+00 - Loss_3: 7.2015e-06\n",
      "Epoch 37/50\n",
      "32/40 [=======================>......] - ETA: 0s - Total Loss: 0.0190 - Loss_0: 0.0190 - Loss_1: 1.6313e-05 - Loss_2: 0.0000e+00 - Loss_3: 7.1976e-06INFO:tensorflow:Summary name epoch_Total Loss is illegal; using epoch_Total_Loss instead.\n",
      "40/40 [==============================] - 0s 3ms/step - Total Loss: 0.0732 - Loss_0: 0.0731 - Loss_1: 3.3627e-05 - Loss_2: 0.0000e+00 - Loss_3: 7.1961e-06\n",
      "Epoch 38/50\n",
      "34/40 [========================>.....] - ETA: 0s - Total Loss: 0.0690 - Loss_0: 0.0689 - Loss_1: 2.4786e-05 - Loss_2: 0.0000e+00 - Loss_3: 7.1896e-06INFO:tensorflow:Summary name epoch_Total Loss is illegal; using epoch_Total_Loss instead.\n",
      "40/40 [==============================] - 0s 7ms/step - Total Loss: 0.0097 - Loss_0: 0.0097 - Loss_1: 1.3510e-05 - Loss_2: 0.0000e+00 - Loss_3: 7.1894e-06\n",
      "Epoch 39/50\n",
      "30/40 [=====================>........] - ETA: 0s - Total Loss: 0.0524 - Loss_0: 0.0524 - Loss_1: 2.0743e-05 - Loss_2: 0.0000e+00 - Loss_3: 7.1888e-06INFO:tensorflow:Summary name epoch_Total Loss is illegal; using epoch_Total_Loss instead.\n",
      "40/40 [==============================] - 0s 6ms/step - Total Loss: 0.0178 - Loss_0: 0.0178 - Loss_1: 1.5464e-05 - Loss_2: 0.0000e+00 - Loss_3: 7.1836e-06\n",
      "Epoch 40/50\n",
      "35/40 [=========================>....] - ETA: 0s - Total Loss: 0.0410 - Loss_0: 0.0410 - Loss_1: 2.2509e-05 - Loss_2: 0.0000e+00 - Loss_3: 7.1810e-06INFO:tensorflow:Summary name epoch_Total Loss is illegal; using epoch_Total_Loss instead.\n",
      "40/40 [==============================] - 0s 3ms/step - Total Loss: 0.0202 - Loss_0: 0.0202 - Loss_1: 1.7952e-05 - Loss_2: 0.0000e+00 - Loss_3: 7.1750e-06\n"
     ]
    },
    {
     "name": "stdout",
     "output_type": "stream",
     "text": [
      "Epoch 41/50\n",
      "36/40 [==========================>...] - ETA: 0s - Total Loss: 0.0514 - Loss_0: 0.0514 - Loss_1: 2.5353e-05 - Loss_2: 0.0000e+00 - Loss_3: 7.1764e-06INFO:tensorflow:Summary name epoch_Total Loss is illegal; using epoch_Total_Loss instead.\n",
      "40/40 [==============================] - 0s 3ms/step - Total Loss: 0.0100 - Loss_0: 0.0100 - Loss_1: 1.4123e-05 - Loss_2: 0.0000e+00 - Loss_3: 7.1765e-06\n",
      "Epoch 42/50\n",
      "38/40 [===========================>..] - ETA: 0s - Total Loss: 0.0111 - Loss_0: 0.0111 - Loss_1: 1.5161e-05 - Loss_2: 0.0000e+00 - Loss_3: 7.1640e-06INFO:tensorflow:Summary name epoch_Total Loss is illegal; using epoch_Total_Loss instead.\n",
      "40/40 [==============================] - 0s 6ms/step - Total Loss: 0.0110 - Loss_0: 0.0109 - Loss_1: 1.8037e-05 - Loss_2: 0.0000e+00 - Loss_3: 7.1648e-06\n",
      "Epoch 43/50\n",
      "20/40 [==============>...............] - ETA: 0s - Total Loss: 0.0111 - Loss_0: 0.0111 - Loss_1: 1.3549e-05 - Loss_2: 0.0000e+00 - Loss_3: 7.1643e-06INFO:tensorflow:Summary name epoch_Total Loss is illegal; using epoch_Total_Loss instead.\n",
      "40/40 [==============================] - 0s 2ms/step - Total Loss: 0.0122 - Loss_0: 0.0122 - Loss_1: 1.6224e-05 - Loss_2: 0.0000e+00 - Loss_3: 7.1593e-06\n",
      "Epoch 44/50\n",
      "21/40 [==============>...............] - ETA: 0s - Total Loss: 0.0345 - Loss_0: 0.0344 - Loss_1: 2.2528e-05 - Loss_2: 0.0000e+00 - Loss_3: 7.1544e-06INFO:tensorflow:Summary name epoch_Total Loss is illegal; using epoch_Total_Loss instead.\n",
      "40/40 [==============================] - 0s 2ms/step - Total Loss: 0.0296 - Loss_0: 0.0296 - Loss_1: 2.2966e-05 - Loss_2: 0.0000e+00 - Loss_3: 7.1490e-06\n",
      "Epoch 45/50\n",
      "22/40 [===============>..............] - ETA: 0s - Total Loss: 0.0120 - Loss_0: 0.0120 - Loss_1: 1.9850e-05 - Loss_2: 0.0000e+00 - Loss_3: 7.1525e-06INFO:tensorflow:Summary name epoch_Total Loss is illegal; using epoch_Total_Loss instead.\n",
      "40/40 [==============================] - 0s 3ms/step - Total Loss: 0.0232 - Loss_0: 0.0232 - Loss_1: 2.7612e-05 - Loss_2: 0.0000e+00 - Loss_3: 7.1409e-06\n",
      "Epoch 46/50\n",
      "38/40 [===========================>..] - ETA: 0s - Total Loss: 0.0238 - Loss_0: 0.0238 - Loss_1: 2.2192e-05 - Loss_2: 0.0000e+00 - Loss_3: 7.1359e-06INFO:tensorflow:Summary name epoch_Total Loss is illegal; using epoch_Total_Loss instead.\n",
      "40/40 [==============================] - 0s 3ms/step - Total Loss: 0.0243 - Loss_0: 0.0243 - Loss_1: 1.9006e-05 - Loss_2: 0.0000e+00 - Loss_3: 7.1357e-06\n",
      "Epoch 47/50\n",
      "36/40 [==========================>...] - ETA: 0s - Total Loss: 0.0267 - Loss_0: 0.0267 - Loss_1: 1.5851e-05 - Loss_2: 0.0000e+00 - Loss_3: 7.1315e-06INFO:tensorflow:Summary name epoch_Total Loss is illegal; using epoch_Total_Loss instead.\n",
      "40/40 [==============================] - 0s 3ms/step - Total Loss: 0.0221 - Loss_0: 0.0220 - Loss_1: 3.9007e-05 - Loss_2: 0.0000e+00 - Loss_3: 7.1282e-06\n",
      "Epoch 48/50\n",
      "32/40 [=======================>......] - ETA: 0s - Total Loss: 0.0261 - Loss_0: 0.0261 - Loss_1: 2.5440e-05 - Loss_2: 0.0000e+00 - Loss_3: 7.1204e-06INFO:tensorflow:Summary name epoch_Total Loss is illegal; using epoch_Total_Loss instead.\n",
      "40/40 [==============================] - 0s 3ms/step - Total Loss: 0.0626 - Loss_0: 0.0626 - Loss_1: 1.9254e-05 - Loss_2: 0.0000e+00 - Loss_3: 7.1223e-06\n",
      "Epoch 49/50\n",
      "36/40 [==========================>...] - ETA: 0s - Total Loss: 0.0261 - Loss_0: 0.0261 - Loss_1: 2.0131e-05 - Loss_2: 0.0000e+00 - Loss_3: 7.1173e-06INFO:tensorflow:Summary name epoch_Total Loss is illegal; using epoch_Total_Loss instead.\n",
      "40/40 [==============================] - 0s 3ms/step - Total Loss: 0.0105 - Loss_0: 0.0105 - Loss_1: 1.1756e-05 - Loss_2: 0.0000e+00 - Loss_3: 7.1187e-06\n",
      "Epoch 50/50\n",
      "36/40 [==========================>...] - ETA: 0s - Total Loss: 0.0059 - Loss_0: 0.0059 - Loss_1: 1.2185e-05 - Loss_2: 0.0000e+00 - Loss_3: 7.1155e-06INFO:tensorflow:Summary name epoch_Total Loss is illegal; using epoch_Total_Loss instead.\n",
      "40/40 [==============================] - 0s 3ms/step - Total Loss: 0.0796 - Loss_0: 0.0795 - Loss_1: 2.6532e-05 - Loss_2: 0.0000e+00 - Loss_3: 7.1096e-06\n"
     ]
    }
   ],
   "source": [
    "history = metamodel.fit(x=x, y=x_dot, epochs=50, batch_size=25,\n",
    "                callbacks=[TrainingCallback(), tf.keras.callbacks.TensorBoard(\"logs/prueba3\"),\n",
    "                              ])"
   ]
  },
  {
   "cell_type": "code",
   "execution_count": 36,
   "id": "thorough-copying",
   "metadata": {},
   "outputs": [
    {
     "data": {
      "text/plain": [
       "<tensorflow.python.training.tracking.util.CheckpointLoadStatus at 0x7f3cdcdc6080>"
      ]
     },
     "execution_count": 36,
     "metadata": {},
     "output_type": "execute_result"
    }
   ],
   "source": [
    "sindy.load_weights(\"nets/sindy_0/\")"
   ]
  },
  {
   "cell_type": "code",
   "execution_count": 37,
   "id": "third-lease",
   "metadata": {},
   "outputs": [
    {
     "data": {
      "text/plain": [
       "[<tf.Tensor: shape=(3, 27), dtype=float32, numpy=\n",
       " array([[-0.9311571 ,  1.3730997 , -0.18049856, -0.23604348, -0.8861915 ,\n",
       "          0.34579983,  0.        ,  0.3817444 ,  0.6329095 , -0.46864775,\n",
       "          0.20121433,  0.        ,  0.        ,  1.4880794 ,  0.8682103 ,\n",
       "         -0.7623767 ,  0.76911217,  0.        , -2.235712  ,  1.3080964 ,\n",
       "          1.2098081 , -1.1070364 , -1.3574041 , -1.7704686 , -0.71796733,\n",
       "         -0.5128483 ,  1.8050104 ],\n",
       "        [-0.65252423,  0.17881115,  1.0176535 , -0.22862421,  1.2786188 ,\n",
       "         -0.45869717, -0.42945144, -0.2683546 ,  1.3455132 , -0.28287098,\n",
       "         -0.6332829 ,  0.5585188 , -0.8899651 ,  2.2761014 , -0.33276758,\n",
       "         -1.0422409 , -0.13713206, -1.0998034 ,  0.        , -0.87539   ,\n",
       "          0.5636082 ,  1.5775213 , -1.6637301 ,  0.59779716, -0.6056043 ,\n",
       "          1.464332  ,  0.92218494],\n",
       "        [-1.5582777 ,  1.0950025 ,  2.142236  , -0.66036254,  0.66531783,\n",
       "          0.5450642 ,  0.39311463, -2.4012308 ,  1.6103411 ,  1.0273528 ,\n",
       "         -1.3605751 ,  2.061662  ,  0.29204744, -0.3789357 ,  0.950497  ,\n",
       "          2.291414  , -1.250224  , -1.6023395 , -0.45264348, -1.1717108 ,\n",
       "          1.9761865 ,  1.9211097 ,  0.        , -0.26965982,  0.74707025,\n",
       "         -0.84402514,  0.64392686]], dtype=float32)>]"
      ]
     },
     "execution_count": 37,
     "metadata": {},
     "output_type": "execute_result"
    }
   ],
   "source": [
    "sindy.weights"
   ]
  },
  {
   "cell_type": "code",
   "execution_count": 63,
   "id": "encouraging-calcium",
   "metadata": {},
   "outputs": [
    {
     "ename": "ValueError",
     "evalue": "Unsuccessful TensorSliceReader constructor: Failed to get matching files on nets/sindy_11/: Not found: nets/sindy_11; No such file or directory",
     "output_type": "error",
     "traceback": [
      "\u001b[0;31m---------------------------------------------------------------------------\u001b[0m",
      "\u001b[0;31mValueError\u001b[0m                                Traceback (most recent call last)",
      "\u001b[0;32m<ipython-input-63-cfbb6adf27b8>\u001b[0m in \u001b[0;36m<module>\u001b[0;34m\u001b[0m\n\u001b[1;32m      1\u001b[0m \u001b[0msindy\u001b[0m \u001b[0;34m=\u001b[0m \u001b[0mSINDy\u001b[0m\u001b[0;34m(\u001b[0m\u001b[0;34m)\u001b[0m\u001b[0;34m\u001b[0m\u001b[0;34m\u001b[0m\u001b[0m\n\u001b[0;32m----> 2\u001b[0;31m \u001b[0msindy\u001b[0m\u001b[0;34m.\u001b[0m\u001b[0mload_weights\u001b[0m\u001b[0;34m(\u001b[0m\u001b[0;34m\"nets/sindy_11/\"\u001b[0m\u001b[0;34m)\u001b[0m\u001b[0;34m\u001b[0m\u001b[0;34m\u001b[0m\u001b[0m\n\u001b[0m",
      "\u001b[0;32m~/.local/lib/python3.6/site-packages/tensorflow/python/keras/engine/training.py\u001b[0m in \u001b[0;36mload_weights\u001b[0;34m(self, filepath, by_name, skip_mismatch, options)\u001b[0m\n\u001b[1;32m   2174\u001b[0m     \u001b[0;32melse\u001b[0m\u001b[0;34m:\u001b[0m\u001b[0;34m\u001b[0m\u001b[0;34m\u001b[0m\u001b[0m\n\u001b[1;32m   2175\u001b[0m       \u001b[0;32mtry\u001b[0m\u001b[0;34m:\u001b[0m\u001b[0;34m\u001b[0m\u001b[0;34m\u001b[0m\u001b[0m\n\u001b[0;32m-> 2176\u001b[0;31m         \u001b[0mpy_checkpoint_reader\u001b[0m\u001b[0;34m.\u001b[0m\u001b[0mNewCheckpointReader\u001b[0m\u001b[0;34m(\u001b[0m\u001b[0mfilepath\u001b[0m\u001b[0;34m)\u001b[0m\u001b[0;34m\u001b[0m\u001b[0;34m\u001b[0m\u001b[0m\n\u001b[0m\u001b[1;32m   2177\u001b[0m         \u001b[0msave_format\u001b[0m \u001b[0;34m=\u001b[0m \u001b[0;34m'tf'\u001b[0m\u001b[0;34m\u001b[0m\u001b[0;34m\u001b[0m\u001b[0m\n\u001b[1;32m   2178\u001b[0m       \u001b[0;32mexcept\u001b[0m \u001b[0merrors_impl\u001b[0m\u001b[0;34m.\u001b[0m\u001b[0mDataLossError\u001b[0m\u001b[0;34m:\u001b[0m\u001b[0;34m\u001b[0m\u001b[0;34m\u001b[0m\u001b[0m\n",
      "\u001b[0;32m~/.local/lib/python3.6/site-packages/tensorflow/python/training/py_checkpoint_reader.py\u001b[0m in \u001b[0;36mNewCheckpointReader\u001b[0;34m(filepattern)\u001b[0m\n\u001b[1;32m     93\u001b[0m   \"\"\"\n\u001b[1;32m     94\u001b[0m   \u001b[0;32mtry\u001b[0m\u001b[0;34m:\u001b[0m\u001b[0;34m\u001b[0m\u001b[0;34m\u001b[0m\u001b[0m\n\u001b[0;32m---> 95\u001b[0;31m     \u001b[0;32mreturn\u001b[0m \u001b[0mCheckpointReader\u001b[0m\u001b[0;34m(\u001b[0m\u001b[0mcompat\u001b[0m\u001b[0;34m.\u001b[0m\u001b[0mas_bytes\u001b[0m\u001b[0;34m(\u001b[0m\u001b[0mfilepattern\u001b[0m\u001b[0;34m)\u001b[0m\u001b[0;34m)\u001b[0m\u001b[0;34m\u001b[0m\u001b[0;34m\u001b[0m\u001b[0m\n\u001b[0m\u001b[1;32m     96\u001b[0m   \u001b[0;31m# TODO(b/143319754): Remove the RuntimeError casting logic once we resolve the\u001b[0m\u001b[0;34m\u001b[0m\u001b[0;34m\u001b[0m\u001b[0;34m\u001b[0m\u001b[0m\n\u001b[1;32m     97\u001b[0m   \u001b[0;31m# issue with throwing python exceptions from C++.\u001b[0m\u001b[0;34m\u001b[0m\u001b[0;34m\u001b[0m\u001b[0;34m\u001b[0m\u001b[0m\n",
      "\u001b[0;31mValueError\u001b[0m: Unsuccessful TensorSliceReader constructor: Failed to get matching files on nets/sindy_11/: Not found: nets/sindy_11; No such file or directory"
     ]
    }
   ],
   "source": [
    "sindy = SINDy()\n",
    "sindy.load_weights(\"nets/sindy_11/\")"
   ]
  },
  {
   "cell_type": "code",
   "execution_count": 18,
   "id": "reliable-roberts",
   "metadata": {},
   "outputs": [],
   "source": [
    "from sindy import SINDy\n",
    "sindy1 = SINDy()"
   ]
  },
  {
   "cell_type": "code",
   "execution_count": 20,
   "id": "completed-reduction",
   "metadata": {},
   "outputs": [
    {
     "data": {
      "text/plain": [
       "'sin_dy_1'"
      ]
     },
     "execution_count": 20,
     "metadata": {},
     "output_type": "execute_result"
    }
   ],
   "source": [
    "sindy1.name"
   ]
  },
  {
   "cell_type": "code",
   "execution_count": 9,
   "id": "protected-secondary",
   "metadata": {},
   "outputs": [
    {
     "data": {
      "text/plain": [
       "<tf.Variable 'Variable:0' shape=(3, 27) dtype=float32, numpy=\n",
       "array([[1., 1., 1., 1., 1., 1., 1., 1., 1., 1., 1., 1., 1., 1., 1., 1.,\n",
       "        1., 1., 1., 1., 1., 1., 1., 1., 1., 1., 1.],\n",
       "       [1., 1., 1., 1., 1., 1., 1., 1., 1., 1., 1., 1., 1., 1., 1., 1.,\n",
       "        1., 1., 1., 1., 1., 1., 1., 1., 1., 1., 1.],\n",
       "       [1., 1., 1., 1., 1., 1., 1., 1., 1., 1., 1., 1., 1., 1., 1., 1.,\n",
       "        1., 1., 1., 1., 1., 1., 1., 1., 1., 1., 1.]], dtype=float32)>"
      ]
     },
     "execution_count": 9,
     "metadata": {},
     "output_type": "execute_result"
    }
   ],
   "source": [
    "coeffs = tf.Variable(np.ones((3,27)).astype(np.float32), trainable=True, name=\"sindy/dense/kernel:0\")\n",
    "coeffs"
   ]
  },
  {
   "cell_type": "code",
   "execution_count": 58,
   "id": "engaged-analyst",
   "metadata": {},
   "outputs": [
    {
     "data": {
      "text/plain": [
       "[<tf.Variable 'Variable:0' shape=(3, 27) dtype=float32, numpy=\n",
       " array([[-2.48601614e-03,  8.35985005e-01, -1.08248937e+00,\n",
       "         -1.25054210e-01,  2.19034106e-01, -1.66024411e+00,\n",
       "         -1.19687581e+00, -4.92233634e-02,  8.97786766e-02,\n",
       "          3.82149875e-01,  9.09135304e-03,  2.49032676e-01,\n",
       "          7.79314060e-03,  5.54208532e-02, -8.83790329e-02,\n",
       "         -3.96450646e-02,  1.44127405e+00, -2.65611023e-01,\n",
       "          1.15535867e+00, -1.99022663e+00,  2.95111537e-01,\n",
       "          4.73870263e-02, -8.94377083e-02, -3.42485398e-01,\n",
       "          7.68711209e-01, -7.77051866e-01, -3.71877491e-01],\n",
       "        [ 6.50211632e-01, -8.26581493e-02,  1.02030349e+00,\n",
       "          7.19511807e-02, -5.15373468e-01,  3.45013499e-01,\n",
       "         -1.21267819e+00,  1.25622785e+00, -1.47071671e+00,\n",
       "         -9.12182629e-02,  5.38204551e-01,  7.74763823e-02,\n",
       "          1.82412457e+00,  1.05103528e+00,  1.50815874e-01,\n",
       "         -2.12940145e+00,  5.59756756e-01,  1.24723963e-01,\n",
       "          3.04355519e-04,  1.03763387e-01, -1.18920529e+00,\n",
       "         -5.02732277e-01,  8.50560144e-02, -1.16433874e-01,\n",
       "         -4.79921281e-01,  1.20499289e+00, -1.31372228e-01],\n",
       "        [-1.78177190e+00, -7.14079022e-01,  7.75838077e-01,\n",
       "         -1.00168817e-01, -8.87066824e-04,  1.69082141e+00,\n",
       "         -1.52236847e-02, -2.60558635e-01,  1.41545415e+00,\n",
       "          7.05273569e-01,  9.81083605e-03, -7.61689842e-02,\n",
       "          6.65922649e-03,  7.47608662e-01, -2.37315502e-02,\n",
       "          3.70270386e-02, -2.00944543e+00, -1.14102133e-01,\n",
       "          6.15521055e-03, -1.61331522e+00,  1.06117666e-01,\n",
       "          1.80268836e+00,  1.20694137e+00, -1.88609922e+00,\n",
       "         -1.07165205e+00, -4.62751269e-01, -1.28500748e+00]], dtype=float32)>]"
      ]
     },
     "execution_count": 58,
     "metadata": {},
     "output_type": "execute_result"
    }
   ],
   "source": [
    "sindy.weigths"
   ]
  },
  {
   "cell_type": "code",
   "execution_count": null,
   "id": "pressing-rochester",
   "metadata": {},
   "outputs": [],
   "source": []
  }
 ],
 "metadata": {
  "kernelspec": {
   "display_name": "Python 3",
   "language": "python",
   "name": "python3"
  },
  "language_info": {
   "codemirror_mode": {
    "name": "ipython",
    "version": 3
   },
   "file_extension": ".py",
   "mimetype": "text/x-python",
   "name": "python",
   "nbconvert_exporter": "python",
   "pygments_lexer": "ipython3",
   "version": "3.6.9"
  }
 },
 "nbformat": 4,
 "nbformat_minor": 5
}
