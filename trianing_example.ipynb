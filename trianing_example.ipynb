{
 "cells": [
  {
   "cell_type": "code",
   "execution_count": 13,
   "id": "varied-avenue",
   "metadata": {},
   "outputs": [
    {
     "name": "stdout",
     "output_type": "stream",
     "text": [
      "The autoreload extension is already loaded. To reload it, use:\n",
      "  %reload_ext autoreload\n"
     ]
    }
   ],
   "source": [
    "%load_ext autoreload\n",
    "%autoreload 2\n",
    "\n",
    "import tensorflow as tf\n",
    "from networks import Encoder, Decoder, MetaModel, TrainingCallback\n",
    "import numpy as np\n",
    "import ast\n",
    "import matplotlib.pyplot as plt\n",
    "from sindy import SINDy\n",
    "\n",
    "\n",
    "x, x_dot = np.load(\"datalorenz/paper2048.npy\").astype(np.float32)\n",
    "x = tf.reshape(x,[-1,128])\n",
    "x_dot = tf.reshape(x,[-1,128])\n",
    "\n",
    "gpus_google=tf.config.list_physical_devices(\"GPU\")\n",
    "gpus_pic=tf.config.list_physical_devices(\"XLA_GPU\")\n",
    "gpus = gpus_pic\n",
    "for k in gpus_google:\n",
    "    gpus.append(k)\n",
    "    \n",
    "    \n",
    "encoder = Encoder()\n",
    "decoder = Decoder()\n",
    "sindy = SINDy()\n",
    "models = [encoder, decoder, sindy]\n",
    "    \n",
    "if len(gpus)>0:\n",
    "    metamodel = MetaModel(models, total_epochs=int(1e4+1e3), when_zero_lambda3=1000)\n",
    "    with tf.device(\"GPU\"):\n",
    "        history = metamodel.fit(x=x, y=x_dot, epochs=metamodel.total_epochs, batch_size=8000,\n",
    "                        callbacks=[TrainingCallback(), tf.keras.callbacks.TensorBoard(\"logs/prueba\")])\n",
    "else:\n",
    "    metamodel = MetaModel(models, total_epochs=2750, when_zero_lambda3=400)\n",
    "    history = metamodel.fit(x=x, y=x_dot, epochs=int(metamodel.total_epochs), batch_size=2000,\n",
    "                callbacks=[TrainingCallback(), tf.keras.callbacks.TensorBoard(\"logs/chiquitito\")])"
   ]
  }
 ],
 "metadata": {
  "kernelspec": {
   "display_name": "qenv_bilkis",
   "language": "python",
   "name": "qenv_bilkis"
  },
  "language_info": {
   "codemirror_mode": {
    "name": "ipython",
    "version": 3
   },
   "file_extension": ".py",
   "mimetype": "text/x-python",
   "name": "python",
   "nbconvert_exporter": "python",
   "pygments_lexer": "ipython3",
   "version": "3.6.8"
  }
 },
 "nbformat": 4,
 "nbformat_minor": 5
}
