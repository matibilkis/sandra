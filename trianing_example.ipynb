{
 "cells": [
  {
   "cell_type": "code",
   "execution_count": 1,
   "metadata": {},
   "outputs": [],
   "source": [
    "import numpy as np"
   ]
  },
  {
   "cell_type": "code",
   "execution_count": 2,
   "metadata": {},
   "outputs": [],
   "source": [
    "%load_ext autoreload\n",
    "%autoreload 2\n",
    "import tensorflow as tf\n",
    "from networks import Encoder, Decoder, MetaModel, TrainingCallback\n",
    "import numpy as np\n",
    "import ast\n",
    "from sindy import SINDy\n",
    "import os\n"
   ]
  },
  {
   "cell_type": "code",
   "execution_count": 3,
   "metadata": {},
   "outputs": [],
   "source": [
    "encoder = Encoder()"
   ]
  },
  {
   "cell_type": "code",
   "execution_count": 8,
   "metadata": {},
   "outputs": [
    {
     "name": "stdout",
     "output_type": "stream",
     "text": [
      "WARNING:tensorflow:No training configuration found in save file, so the model was *not* compiled. Compile it manually.\n"
     ]
    }
   ],
   "source": [
    "momo=tf.keras.models.load_model(\"/data/uab-giq/scratch/matias/sandra/networks/run1/encoder_511\")"
   ]
  },
  {
   "cell_type": "markdown",
   "metadata": {},
   "source": []
  },
  {
   "cell_type": "code",
   "execution_count": 10,
   "metadata": {},
   "outputs": [
    {
     "data": {
      "text/plain": [
       "[array([[ 0.02505166, -0.00093502, -0.00132424, ...,  0.00157893,\n",
       "         -0.00052265, -0.01164991],\n",
       "        [ 0.02381385, -0.00091414, -0.00155163, ...,  0.0014801 ,\n",
       "         -0.00038985, -0.01255735],\n",
       "        [ 0.02259202, -0.00088746, -0.00174407, ...,  0.00138649,\n",
       "         -0.00027406, -0.01324608],\n",
       "        ...,\n",
       "        [ 0.02415363, -0.00127656, -0.00382656, ...,  0.0007644 ,\n",
       "          0.0004292 , -0.02799806],\n",
       "        [ 0.02626561, -0.00157117, -0.00440273, ...,  0.00073944,\n",
       "          0.00056695, -0.03190333],\n",
       "        [ 0.02848556, -0.0018913 , -0.00503439, ...,  0.00070553,\n",
       "          0.00072053, -0.03614683]], dtype=float32),\n",
       " array([ 4.7923002e-02, -1.2349673e-03,  3.5498317e-04,  8.6058062e-03,\n",
       "        -4.3915692e-03,  1.0989758e-02,  1.1411887e-03,  1.1131480e-02,\n",
       "         4.8104245e-03,  3.3198182e-02,  4.2569544e-02, -5.6336145e-03,\n",
       "         5.5808118e-03,  4.1053323e-03,  2.4232522e-03, -2.8113496e-02,\n",
       "        -6.6826460e-03, -3.5260110e-03,  3.0546598e-02, -1.6806303e-02,\n",
       "         9.1277296e-03,  1.0200546e-02,  1.1371509e-02, -2.2784436e-04,\n",
       "         1.6195915e-03,  1.3805053e-02,  2.0797458e-02,  6.7414396e-05,\n",
       "         6.8009677e-03,  6.2898099e-03,  4.7846301e-03, -1.4239725e-03,\n",
       "        -6.5342002e-03,  4.4313087e-03,  7.1937162e-03, -3.7736055e-02,\n",
       "        -9.5715158e-04, -2.3463659e-02, -1.7713659e-03,  2.8716400e-03,\n",
       "        -5.4638996e-04, -3.8258325e-02,  9.9204779e-03, -5.0436952e-03,\n",
       "         3.2558774e-03,  1.8242013e-02,  7.9968693e-03,  1.8659072e-02,\n",
       "         6.4108014e-04, -1.9524784e-03, -1.4138369e-02,  4.3115001e-03,\n",
       "         5.1180559e-04, -2.6933432e-03, -2.6737733e-02,  2.6063593e-03,\n",
       "         1.1749794e-02, -3.4640924e-04,  2.4455121e-02,  1.6102066e-02,\n",
       "        -2.9477771e-02,  1.8083479e-03, -3.2050264e-04, -3.6281217e-02],\n",
       "       dtype=float32),\n",
       " array([[ 0.02075761,  0.00216986, -0.00123482, ..., -0.00470541,\n",
       "         -0.0098931 , -0.00221661],\n",
       "        [ 0.00969258,  0.00010257, -0.00118503, ..., -0.00067009,\n",
       "         -0.00219004, -0.00015005],\n",
       "        [ 0.0186084 ,  0.00262274, -0.00181388, ..., -0.00390326,\n",
       "         -0.00718737, -0.00086211],\n",
       "        ...,\n",
       "        [ 0.05810841,  0.00751509, -0.00498287, ..., -0.01933498,\n",
       "         -0.03562645, -0.00499801],\n",
       "        [ 0.01692596,  0.00046119, -0.00096815, ..., -0.00173906,\n",
       "         -0.00435708, -0.00099338],\n",
       "        [ 0.02559945,  0.00236833, -0.001804  , ..., -0.00598394,\n",
       "         -0.0125295 , -0.00125397]], dtype=float32),\n",
       " array([ 6.8938538e-02,  9.4413180e-03, -5.4438896e-03, -8.9845723e-03,\n",
       "         1.3348352e-03, -9.1010295e-03,  2.6255643e-03, -5.5065282e-02,\n",
       "         3.7255210e-03, -9.0856627e-03, -1.3645379e-02, -5.7328087e-03,\n",
       "         1.8920653e-03, -9.9960081e-03, -2.2230465e-03, -9.6539082e-03,\n",
       "        -9.2644594e-05, -9.2007937e-03, -4.0078141e-02, -5.5509573e-03,\n",
       "        -8.5202806e-02, -1.8758923e-02,  3.5872240e-02,  1.9477615e-02,\n",
       "        -9.0549989e-03, -2.8406212e-02, -7.4430019e-02, -6.8718931e-03,\n",
       "        -5.5885417e-03, -2.1885211e-02, -4.0876903e-02, -6.4163744e-03],\n",
       "       dtype=float32),\n",
       " array([[ 0.11406723,  0.15146002, -0.3526495 ],\n",
       "        [ 0.00847334,  0.00747245, -0.02480532],\n",
       "        [ 0.01680867,  0.01766267, -0.04750805],\n",
       "        [ 0.01089268,  0.01112786, -0.02477765],\n",
       "        [ 0.00494562,  0.00409387, -0.01279386],\n",
       "        [ 0.01040875,  0.00974025, -0.01895308],\n",
       "        [ 0.02144782,  0.02227351, -0.03161896],\n",
       "        [ 0.08830132,  0.11018535, -0.23204365],\n",
       "        [ 0.24575938,  0.3123613 , -0.7351312 ],\n",
       "        [ 0.01800022,  0.01027601, -0.01880476],\n",
       "        [ 0.26079687,  0.3427792 , -0.77930135],\n",
       "        [ 0.00823267,  0.00904795, -0.02176035],\n",
       "        [ 0.0164015 ,  0.02030434, -0.04089401],\n",
       "        [ 0.02134952,  0.02214411, -0.06018833],\n",
       "        [ 0.04735264,  0.04617283, -0.12974773],\n",
       "        [ 0.01178892,  0.00841674, -0.01772077],\n",
       "        [ 0.27056244,  0.32342684, -0.793972  ],\n",
       "        [ 0.02095034,  0.00469719, -0.02279262],\n",
       "        [ 0.04028963,  0.04423065, -0.10006541],\n",
       "        [ 0.00811123,  0.00869881, -0.01952265],\n",
       "        [ 0.19159682,  0.24890365, -0.5505144 ],\n",
       "        [ 0.04879924,  0.0561633 , -0.07939325],\n",
       "        [ 0.02867499,  0.02894292, -0.09106477],\n",
       "        [ 0.08490298,  0.08975963, -0.27219194],\n",
       "        [ 0.01102674,  0.01174369, -0.02751918],\n",
       "        [ 0.04856031,  0.04438515, -0.09767229],\n",
       "        [ 0.21183333,  0.27566236, -0.6087175 ],\n",
       "        [ 0.20200138,  0.25964162, -0.59166867],\n",
       "        [ 0.00815665,  0.00872784, -0.02143498],\n",
       "        [ 0.02397614,  0.0222213 , -0.04933902],\n",
       "        [ 0.04368817,  0.04947898, -0.10640477],\n",
       "        [ 0.2710126 ,  0.33390978, -0.7876094 ]], dtype=float32),\n",
       " array([ 0.273483  ,  0.32343286, -0.7961887 ], dtype=float32),\n",
       " array([[0.16461551, 0.01165536, 0.06123415, ..., 0.00932033, 0.00772096,\n",
       "         0.28508148],\n",
       "        [0.2332213 , 0.01247832, 0.07215685, ..., 0.01234953, 0.0096098 ,\n",
       "         0.37670118],\n",
       "        [0.30211005, 0.01307839, 0.08164074, ..., 0.01517497, 0.01130495,\n",
       "         0.4620935 ],\n",
       "        ...,\n",
       "        [1.1954758 , 0.04770631, 0.4382086 , ..., 0.04801589, 0.01307327,\n",
       "         1.3369627 ],\n",
       "        [1.5713677 , 0.05618185, 0.52219856, ..., 0.06312256, 0.01871301,\n",
       "         1.7501298 ],\n",
       "        [2.0418265 , 0.06607622, 0.62147564, ..., 0.08196881, 0.02602982,\n",
       "         2.2646377 ]], dtype=float32),\n",
       " array([2.37332582e+00, 1.14454813e-01, 5.68835974e-01, 1.87548280e-01,\n",
       "        2.08467436e+00, 1.55249357e-01, 3.88784392e-04, 7.95213506e-02,\n",
       "        1.41683900e+00, 1.32606280e+00, 2.00061584e+00, 2.64607072e-01,\n",
       "        4.12507862e-01, 7.90188849e-01, 1.06371395e-01, 2.63957429e+00,\n",
       "        1.28241003e-01, 9.97460708e-02, 1.09049749e+00, 5.36598206e-01,\n",
       "        4.74669598e-02, 3.07357728e-01, 1.78394407e-01, 2.07010121e-03,\n",
       "        2.35410899e-01, 3.54249805e-01, 2.82546639e-01, 3.82306171e-03,\n",
       "        5.22850752e-02, 2.49367997e-01, 8.36479485e-01, 3.92401338e-01,\n",
       "        2.31639594e-01, 3.13181937e-01, 7.87817314e-02, 5.84556818e+00,\n",
       "        3.25217377e-03, 1.25047421e+00, 8.50178003e-01, 1.51380032e-01,\n",
       "        5.81800900e-02, 1.37503469e+00, 2.02094629e-01, 6.19203188e-02,\n",
       "        6.19705379e-01, 3.20799083e-01, 2.08955079e-01, 3.20126206e-01,\n",
       "        1.74267125e+00, 3.18164182e+00, 3.92286122e-01, 1.88412666e-02,\n",
       "        7.21847033e-03, 7.88312927e-02, 3.07117414e+00, 4.98489803e-03,\n",
       "        1.40266225e-01, 4.97372448e-01, 1.91649055e+00, 4.46199179e-01,\n",
       "        2.34671926e+00, 1.27239928e-01, 8.00344422e-02, 3.22548819e+00],\n",
       "       dtype=float32),\n",
       " array([[2.52595377e+00, 8.93569179e-03, 2.50229463e-02, ...,\n",
       "         1.25707975e-02, 1.82135671e-01, 8.45085189e-04],\n",
       "        [1.69345409e-01, 7.92859821e-04, 1.71655952e-03, ...,\n",
       "         7.75458175e-04, 1.56913828e-02, 1.06860907e-05],\n",
       "        [1.35633337e+00, 9.54351667e-03, 2.41445098e-02, ...,\n",
       "         9.91533883e-03, 1.36100963e-01, 2.65863113e-04],\n",
       "        ...,\n",
       "        [2.71829739e+01, 1.85095191e-01, 6.60173953e-01, ...,\n",
       "         3.03051054e-01, 2.43029785e+00, 2.44409163e-02],\n",
       "        [7.47643769e-01, 1.29812432e-03, 3.60281719e-03, ...,\n",
       "         2.55143922e-03, 4.87479866e-02, 7.72809799e-05],\n",
       "        [4.00365591e+00, 1.57125089e-02, 4.02556732e-02, ...,\n",
       "         2.00594626e-02, 3.08535337e-01, 6.22383261e-04]], dtype=float32),\n",
       " array([3.5643131e+01, 2.2725447e-01, 7.8352547e-01, 2.8345409e-01,\n",
       "        5.5406947e-02, 2.2965553e-01, 2.7620134e-01, 8.7024527e+00,\n",
       "        1.3453639e+00, 2.9665792e-01, 3.7370592e-01, 2.3089746e-01,\n",
       "        4.3852252e-01, 7.7644670e-01, 4.5551653e+00, 8.7037727e-02,\n",
       "        8.4992340e-03, 8.8320506e-01, 9.7177410e-01, 2.2662130e-01,\n",
       "        5.6027246e+00, 9.4710231e-01, 2.6179433e+00, 1.4575447e+01,\n",
       "        3.3721334e-01, 3.0967665e+00, 4.6431570e+00, 6.7940392e+00,\n",
       "        2.1145394e-01, 3.5919756e-01, 3.1069007e+00, 2.9582262e-02],\n",
       "       dtype=float32),\n",
       " array([[8.2913277e+01, 9.7776947e+01, 9.6834663e+01],\n",
       "        [3.8462764e-01, 5.2655858e-01, 4.4476444e-01],\n",
       "        [1.8485048e+00, 2.5256262e+00, 2.1426175e+00],\n",
       "        [6.0403228e-01, 8.5661840e-01, 7.0336843e-01],\n",
       "        [1.1526837e-01, 1.5924428e-01, 1.2706444e-01],\n",
       "        [4.0351021e-01, 5.7339609e-01, 4.7998017e-01],\n",
       "        [8.8638431e-01, 9.6509957e-01, 1.0407770e+00],\n",
       "        [4.0829834e+01, 4.8020641e+01, 4.5675709e+01],\n",
       "        [3.7260867e+02, 4.3544351e+02, 4.5532953e+02],\n",
       "        [9.0982121e-01, 1.0595429e+00, 1.1169833e+00],\n",
       "        [4.2586548e+02, 4.9851111e+02, 5.1747131e+02],\n",
       "        [4.4181570e-01, 6.4184439e-01, 5.2108562e-01],\n",
       "        [1.1685638e+00, 1.3896493e+00, 1.3100441e+00],\n",
       "        [2.8190112e+00, 3.6283228e+00, 3.1143427e+00],\n",
       "        [1.3102857e+01, 1.6776875e+01, 1.5528411e+01],\n",
       "        [3.5046548e-01, 4.5419726e-01, 3.8440552e-01],\n",
       "        [4.6067105e+02, 5.4351575e+02, 5.6489227e+02],\n",
       "        [1.1646925e+00, 1.5346787e+00, 1.4685539e+00],\n",
       "        [8.7844877e+00, 1.0681546e+01, 1.0199904e+01],\n",
       "        [3.8481307e-01, 5.5241770e-01, 4.5763412e-01],\n",
       "        [2.2368843e+02, 2.6167206e+02, 2.6070538e+02],\n",
       "        [5.5664673e+00, 5.9719448e+00, 6.6128674e+00],\n",
       "        [5.4751992e+00, 7.0629001e+00, 6.4422812e+00],\n",
       "        [5.0756855e+01, 6.4091278e+01, 6.1244328e+01],\n",
       "        [7.1816111e-01, 1.0227284e+00, 8.3884835e-01],\n",
       "        [9.0306091e+00, 1.1416706e+01, 1.0320039e+01],\n",
       "        [2.7036319e+02, 3.1593503e+02, 3.1786398e+02],\n",
       "        [2.4055630e+02, 2.8038275e+02, 2.9025140e+02],\n",
       "        [4.2126065e-01, 6.1121142e-01, 4.9286348e-01],\n",
       "        [2.2648172e+00, 2.8422992e+00, 2.4611590e+00],\n",
       "        [9.2601194e+00, 1.1159807e+01, 9.9594975e+00],\n",
       "        [4.5124518e+02, 5.2980597e+02, 5.5286353e+02]], dtype=float32),\n",
       " array([462.77084, 546.2129 , 567.21155], dtype=float32)]"
      ]
     },
     "execution_count": 10,
     "metadata": {},
     "output_type": "execute_result"
    }
   ],
   "source": [
    "momo.optimizer.get_weights()"
   ]
  },
  {
   "cell_type": "code",
   "execution_count": 3,
   "metadata": {},
   "outputs": [
    {
     "ename": "NotFoundError",
     "evalue": "Unsuccessful TensorSliceReader constructor: Failed to find any matching files for /data/uab-giq/scratch/matias/sandra/networks/run0/sindy_11000/",
     "output_type": "error",
     "traceback": [
      "\u001b[0;31m---------------------------------------------------------------------------\u001b[0m",
      "\u001b[0;31mRuntimeError\u001b[0m                              Traceback (most recent call last)",
      "\u001b[0;32m/data/uab-giq/scratch/miniconda3/envs/mateconda/lib/python3.9/site-packages/tensorflow/python/training/py_checkpoint_reader.py\u001b[0m in \u001b[0;36mNewCheckpointReader\u001b[0;34m(filepattern)\u001b[0m\n\u001b[1;32m     94\u001b[0m   \u001b[0;32mtry\u001b[0m\u001b[0;34m:\u001b[0m\u001b[0;34m\u001b[0m\u001b[0;34m\u001b[0m\u001b[0m\n\u001b[0;32m---> 95\u001b[0;31m     \u001b[0;32mreturn\u001b[0m \u001b[0mCheckpointReader\u001b[0m\u001b[0;34m(\u001b[0m\u001b[0mcompat\u001b[0m\u001b[0;34m.\u001b[0m\u001b[0mas_bytes\u001b[0m\u001b[0;34m(\u001b[0m\u001b[0mfilepattern\u001b[0m\u001b[0;34m)\u001b[0m\u001b[0;34m)\u001b[0m\u001b[0;34m\u001b[0m\u001b[0;34m\u001b[0m\u001b[0m\n\u001b[0m\u001b[1;32m     96\u001b[0m   \u001b[0;31m# TODO(b/143319754): Remove the RuntimeError casting logic once we resolve the\u001b[0m\u001b[0;34m\u001b[0m\u001b[0;34m\u001b[0m\u001b[0;34m\u001b[0m\u001b[0m\n",
      "\u001b[0;31mRuntimeError\u001b[0m: Unsuccessful TensorSliceReader constructor: Failed to find any matching files for /data/uab-giq/scratch/matias/sandra/networks/run0/sindy_11000/",
      "\nDuring handling of the above exception, another exception occurred:\n",
      "\u001b[0;31mNotFoundError\u001b[0m                             Traceback (most recent call last)",
      "\u001b[0;32m<ipython-input-3-885e239e2db3>\u001b[0m in \u001b[0;36m<module>\u001b[0;34m\u001b[0m\n\u001b[1;32m      1\u001b[0m \u001b[0msindy1\u001b[0m\u001b[0;34m=\u001b[0m\u001b[0mSINDy\u001b[0m\u001b[0;34m(\u001b[0m\u001b[0;34m)\u001b[0m\u001b[0;34m\u001b[0m\u001b[0;34m\u001b[0m\u001b[0m\n\u001b[0;32m----> 2\u001b[0;31m \u001b[0msindy1\u001b[0m\u001b[0;34m.\u001b[0m\u001b[0mload_weights\u001b[0m\u001b[0;34m(\u001b[0m\u001b[0;34m\"/data/uab-giq/scratch/matias/sandra/networks/run0/sindy_11000/\"\u001b[0m\u001b[0;34m)\u001b[0m\u001b[0;34m\u001b[0m\u001b[0;34m\u001b[0m\u001b[0m\n\u001b[0m",
      "\u001b[0;32m/data/uab-giq/scratch/miniconda3/envs/mateconda/lib/python3.9/site-packages/tensorflow/python/keras/engine/training.py\u001b[0m in \u001b[0;36mload_weights\u001b[0;34m(self, filepath, by_name, skip_mismatch, options)\u001b[0m\n\u001b[1;32m   2197\u001b[0m     \u001b[0;32melse\u001b[0m\u001b[0;34m:\u001b[0m\u001b[0;34m\u001b[0m\u001b[0;34m\u001b[0m\u001b[0m\n\u001b[1;32m   2198\u001b[0m       \u001b[0;32mtry\u001b[0m\u001b[0;34m:\u001b[0m\u001b[0;34m\u001b[0m\u001b[0;34m\u001b[0m\u001b[0m\n\u001b[0;32m-> 2199\u001b[0;31m         \u001b[0mpy_checkpoint_reader\u001b[0m\u001b[0;34m.\u001b[0m\u001b[0mNewCheckpointReader\u001b[0m\u001b[0;34m(\u001b[0m\u001b[0mfilepath\u001b[0m\u001b[0;34m)\u001b[0m\u001b[0;34m\u001b[0m\u001b[0;34m\u001b[0m\u001b[0m\n\u001b[0m\u001b[1;32m   2200\u001b[0m         \u001b[0msave_format\u001b[0m \u001b[0;34m=\u001b[0m \u001b[0;34m'tf'\u001b[0m\u001b[0;34m\u001b[0m\u001b[0;34m\u001b[0m\u001b[0m\n\u001b[1;32m   2201\u001b[0m       \u001b[0;32mexcept\u001b[0m \u001b[0merrors_impl\u001b[0m\u001b[0;34m.\u001b[0m\u001b[0mDataLossError\u001b[0m\u001b[0;34m:\u001b[0m\u001b[0;34m\u001b[0m\u001b[0;34m\u001b[0m\u001b[0m\n",
      "\u001b[0;32m/data/uab-giq/scratch/miniconda3/envs/mateconda/lib/python3.9/site-packages/tensorflow/python/training/py_checkpoint_reader.py\u001b[0m in \u001b[0;36mNewCheckpointReader\u001b[0;34m(filepattern)\u001b[0m\n\u001b[1;32m     97\u001b[0m   \u001b[0;31m# issue with throwing python exceptions from C++.\u001b[0m\u001b[0;34m\u001b[0m\u001b[0;34m\u001b[0m\u001b[0;34m\u001b[0m\u001b[0m\n\u001b[1;32m     98\u001b[0m   \u001b[0;32mexcept\u001b[0m \u001b[0mRuntimeError\u001b[0m \u001b[0;32mas\u001b[0m \u001b[0me\u001b[0m\u001b[0;34m:\u001b[0m\u001b[0;34m\u001b[0m\u001b[0;34m\u001b[0m\u001b[0m\n\u001b[0;32m---> 99\u001b[0;31m     \u001b[0merror_translator\u001b[0m\u001b[0;34m(\u001b[0m\u001b[0me\u001b[0m\u001b[0;34m)\u001b[0m\u001b[0;34m\u001b[0m\u001b[0;34m\u001b[0m\u001b[0m\n\u001b[0m",
      "\u001b[0;32m/data/uab-giq/scratch/miniconda3/envs/mateconda/lib/python3.9/site-packages/tensorflow/python/training/py_checkpoint_reader.py\u001b[0m in \u001b[0;36merror_translator\u001b[0;34m(e)\u001b[0m\n\u001b[1;32m     33\u001b[0m       \u001b[0;34m'Failed to find any '\u001b[0m\u001b[0;34m\u001b[0m\u001b[0;34m\u001b[0m\u001b[0m\n\u001b[1;32m     34\u001b[0m       'matching files for') in error_message:\n\u001b[0;32m---> 35\u001b[0;31m     \u001b[0;32mraise\u001b[0m \u001b[0merrors_impl\u001b[0m\u001b[0;34m.\u001b[0m\u001b[0mNotFoundError\u001b[0m\u001b[0;34m(\u001b[0m\u001b[0;32mNone\u001b[0m\u001b[0;34m,\u001b[0m \u001b[0;32mNone\u001b[0m\u001b[0;34m,\u001b[0m \u001b[0merror_message\u001b[0m\u001b[0;34m)\u001b[0m\u001b[0;34m\u001b[0m\u001b[0;34m\u001b[0m\u001b[0m\n\u001b[0m\u001b[1;32m     36\u001b[0m   elif 'Sliced checkpoints are not supported' in error_message or (\n\u001b[1;32m     37\u001b[0m       \u001b[0;34m'Data type '\u001b[0m\u001b[0;34m\u001b[0m\u001b[0;34m\u001b[0m\u001b[0m\n",
      "\u001b[0;31mNotFoundError\u001b[0m: Unsuccessful TensorSliceReader constructor: Failed to find any matching files for /data/uab-giq/scratch/matias/sandra/networks/run0/sindy_11000/"
     ]
    }
   ],
   "source": [
    "sindy1=SINDy()\n",
    "sindy1.load_weights(\"/data/uab-giq/scratch/matias/sandra/networks/run0/sindy_11000/\")"
   ]
  },
  {
   "cell_type": "code",
   "execution_count": 5,
   "metadata": {},
   "outputs": [
    {
     "data": {
      "text/plain": [
       "<tf.Variable 'sin_dy/dense/kernel:0:0' shape=(3, 27) dtype=float32, numpy=\n",
       "array([[ 0.        , -0.2874051 ,  0.        , -0.35773182,  0.        ,\n",
       "         0.19659008,  0.        ,  0.1521247 , -0.11801123,  0.7033265 ,\n",
       "         0.16338713,  0.5814898 ,  0.13949075,  0.23118523,  0.        ,\n",
       "         0.        , -0.11038066, -0.19735841,  0.        ,  0.38824803,\n",
       "         0.3213863 ,  0.33641833, -0.30027488, -0.30669263, -0.1034919 ,\n",
       "         0.17556998,  0.        ],\n",
       "       [-0.72970283, -0.39467755,  0.        ,  0.6563016 ,  0.        ,\n",
       "         0.10190756,  0.        ,  0.24105406,  0.        , -0.3855203 ,\n",
       "         0.10014518,  0.23272444,  0.29047665,  0.43499675,  0.29084662,\n",
       "         0.        ,  0.        , -0.16534267,  0.        ,  0.24607953,\n",
       "         0.10626309,  0.18738425,  0.        ,  0.10424263,  0.        ,\n",
       "         0.        , -0.10207617],\n",
       "       [ 0.        ,  0.46672985, -0.17201279, -0.3105065 ,  0.20803712,\n",
       "         0.71167344,  0.        ,  0.        , -0.1089734 ,  0.        ,\n",
       "         0.5545292 ,  0.7572154 ,  0.14350559, -0.2664965 , -0.4591269 ,\n",
       "         0.16219023,  0.        ,  0.        , -0.13841435,  0.        ,\n",
       "         0.13116966,  0.3330015 ,  0.        , -0.23526028, -0.20434445,\n",
       "         0.        ,  0.        ]], dtype=float32)>"
      ]
     },
     "execution_count": 5,
     "metadata": {},
     "output_type": "execute_result"
    }
   ],
   "source": [
    "sindy1.coeffs"
   ]
  },
  {
   "cell_type": "code",
   "execution_count": 117,
   "metadata": {},
   "outputs": [
    {
     "data": {
      "text/plain": [
       "<tensorflow.python.training.tracking.util.CheckpointLoadStatus at 0x2ab48f74b6a0>"
      ]
     },
     "execution_count": 117,
     "metadata": {},
     "output_type": "execute_result"
    }
   ],
   "source": [
    "encoder=Encoder()\n",
    "encoder.load_weights(\"/data/uab-giq/scratch/matias/sandra/networks/run0/encoder_10000/\")"
   ]
  },
  {
   "cell_type": "code",
   "execution_count": 118,
   "metadata": {},
   "outputs": [
    {
     "data": {
      "text/plain": [
       "<tensorflow.python.training.tracking.util.CheckpointLoadStatus at 0x2ab48f5a1a90>"
      ]
     },
     "execution_count": 118,
     "metadata": {},
     "output_type": "execute_result"
    }
   ],
   "source": [
    "dencoder=Decoder()\n",
    "dencoder.load_weights(\"/data/uab-giq/scratch/matias/sandra/networks/run0/decoder_10000/\")"
   ]
  },
  {
   "cell_type": "code",
   "execution_count": null,
   "metadata": {},
   "outputs": [],
   "source": []
  },
  {
   "cell_type": "code",
   "execution_count": 108,
   "metadata": {},
   "outputs": [
    {
     "data": {
      "text/plain": [
       "8"
      ]
     },
     "execution_count": 108,
     "metadata": {},
     "output_type": "execute_result"
    }
   ],
   "source": [
    "s=np.squeeze(sindy1.coeffs)\n",
    "len(np.where(np.squeeze(np.reshape(s,[-1,1]))!=0)[0])"
   ]
  },
  {
   "cell_type": "code",
   "execution_count": 94,
   "metadata": {},
   "outputs": [
    {
     "data": {
      "text/plain": [
       "{'[0, 0, 0]': 0,\n",
       " '[0, 0, 1]': 1,\n",
       " '[0, 0, 2]': 2,\n",
       " '[0, 1, 0]': 3,\n",
       " '[0, 1, 1]': 4,\n",
       " '[0, 1, 2]': 5,\n",
       " '[0, 2, 0]': 6,\n",
       " '[0, 2, 1]': 7,\n",
       " '[0, 2, 2]': 8,\n",
       " '[1, 0, 0]': 9,\n",
       " '[1, 0, 1]': 10,\n",
       " '[1, 0, 2]': 11,\n",
       " '[1, 1, 0]': 12,\n",
       " '[1, 1, 1]': 13,\n",
       " '[1, 1, 2]': 14,\n",
       " '[1, 2, 0]': 15,\n",
       " '[1, 2, 1]': 16,\n",
       " '[1, 2, 2]': 17,\n",
       " '[2, 0, 0]': 18,\n",
       " '[2, 0, 1]': 19,\n",
       " '[2, 0, 2]': 20,\n",
       " '[2, 1, 0]': 21,\n",
       " '[2, 1, 1]': 22,\n",
       " '[2, 1, 2]': 23,\n",
       " '[2, 2, 0]': 24,\n",
       " '[2, 2, 1]': 25,\n",
       " '[2, 2, 2]': 26}"
      ]
     },
     "execution_count": 94,
     "metadata": {},
     "output_type": "execute_result"
    }
   ],
   "source": [
    "di = {}\n",
    "c=0\n",
    "#th.append(tf.reduce_prod(tf.stack([tf.pow(z[:,0], i),tf.pow(z[:,1], j),tf.pow(z[:,2], k)]), axis=0))\n",
    "for i in range(3):\n",
    "    for j in range(3):\n",
    "        for k in range(3):\n",
    "            di[str([i,j,k])] = c%27\n",
    "            c+=1\n",
    "di"
   ]
  },
  {
   "cell_type": "code",
   "execution_count": 109,
   "metadata": {},
   "outputs": [
    {
     "data": {
      "text/plain": [
       "array([0.        , 0.        , 0.        , 0.        , 0.        ,\n",
       "       0.        , 0.        , 0.        , 0.        , 0.68683684,\n",
       "       0.        , 0.        , 0.        , 0.        , 0.        ,\n",
       "       0.        , 0.        , 0.        , 0.        , 0.        ,\n",
       "       0.        , 0.        , 0.        , 0.        , 0.        ,\n",
       "       0.        , 0.        ], dtype=float32)"
      ]
     },
     "execution_count": 109,
     "metadata": {},
     "output_type": "execute_result"
    }
   ],
   "source": [
    "np.squeeze(sindy1.coeffs[0])"
   ]
  },
  {
   "cell_type": "code",
   "execution_count": 112,
   "metadata": {},
   "outputs": [
    {
     "data": {
      "text/plain": [
       "array([0, 1, 3, 9])"
      ]
     },
     "execution_count": 112,
     "metadata": {},
     "output_type": "execute_result"
    }
   ],
   "source": [
    "np.where(np.squeeze(sindy1.coeffs[2])!=0)[0]"
   ]
  },
  {
   "cell_type": "code",
   "execution_count": 46,
   "metadata": {},
   "outputs": [],
   "source": [
    "x = sindy1.coeffs\n",
    "sindy1.set_weights(sindy1.get_weights())\n",
    "#tf.where( tf.abs(x) > 0.1, x, 0)"
   ]
  },
  {
   "cell_type": "code",
   "execution_count": 57,
   "metadata": {},
   "outputs": [],
   "source": [
    "sindy1 = SINDy()\n",
    "sindy1(tf.random.uniform((1,128)))\n",
    "x=sindy1.get_weights()[0]\n",
    "y = tf.where(tf.abs(x)>0.1,x,0)\n",
    "sindy1.set_weights([y])"
   ]
  },
  {
   "cell_type": "code",
   "execution_count": 12,
   "metadata": {},
   "outputs": [
    {
     "data": {
      "text/plain": [
       "[<tf.Variable 'decoder/dense/kernel:0' shape=(129, 32) dtype=float32, numpy=\n",
       " array([[ 0.00651381,  0.01154741,  0.01565262, ..., -0.01187098,\n",
       "          0.00117404,  0.00445091],\n",
       "        [-0.00449749, -0.01292601,  0.00087418, ..., -0.00469507,\n",
       "         -0.00784563, -0.0135037 ],\n",
       "        [ 0.01065787, -0.01166525, -0.01800974, ..., -0.00056845,\n",
       "          0.01059807,  0.01707367],\n",
       "        ...,\n",
       "        [-0.00450859,  0.00648362,  0.00088653, ...,  0.00587128,\n",
       "          0.01585008, -0.00111794],\n",
       "        [ 0.0108447 , -0.01220426,  0.00606966, ...,  0.00012872,\n",
       "         -0.00638299, -0.01648249],\n",
       "        [ 0.00132619,  0.01854318, -0.01659602, ...,  0.01801863,\n",
       "         -0.01677597, -0.00527157]], dtype=float32)>,\n",
       " <tf.Variable 'decoder/dense/bias:0' shape=(32,) dtype=float32, numpy=\n",
       " array([0., 0., 0., 0., 0., 0., 0., 0., 0., 0., 0., 0., 0., 0., 0., 0., 0.,\n",
       "        0., 0., 0., 0., 0., 0., 0., 0., 0., 0., 0., 0., 0., 0., 0.],\n",
       "       dtype=float32)>,\n",
       " <tf.Variable 'decoder/dense_1/kernel:0' shape=(32, 64) dtype=float32, numpy=\n",
       " array([[-4.8482977e-03, -1.9820370e-03,  3.9622188e-05, ...,\n",
       "          9.8269992e-04,  1.5645809e-02,  1.4345545e-02],\n",
       "        [ 3.6744755e-03, -1.5693944e-02,  1.0780921e-02, ...,\n",
       "         -1.4164117e-02, -1.0503069e-02, -7.9620453e-03],\n",
       "        [-8.1052510e-03,  2.2344291e-05,  1.6392786e-02, ...,\n",
       "          1.5502777e-02,  9.8374207e-03,  9.5141046e-03],\n",
       "        ...,\n",
       "        [ 1.7991167e-02,  1.7158937e-02,  2.2361204e-03, ...,\n",
       "          6.3636322e-03,  1.5300073e-02, -1.7370338e-02],\n",
       "        [-5.8900565e-05,  1.7256193e-02, -8.2931044e-03, ...,\n",
       "          9.9137500e-03,  8.3412509e-03, -3.5968795e-04],\n",
       "        [ 1.1823233e-03, -6.7063123e-03,  6.2493589e-03, ...,\n",
       "          5.5023097e-03, -1.6149934e-03, -5.6110686e-03]], dtype=float32)>,\n",
       " <tf.Variable 'decoder/dense_1/bias:0' shape=(64,) dtype=float32, numpy=\n",
       " array([0., 0., 0., 0., 0., 0., 0., 0., 0., 0., 0., 0., 0., 0., 0., 0., 0.,\n",
       "        0., 0., 0., 0., 0., 0., 0., 0., 0., 0., 0., 0., 0., 0., 0., 0., 0.,\n",
       "        0., 0., 0., 0., 0., 0., 0., 0., 0., 0., 0., 0., 0., 0., 0., 0., 0.,\n",
       "        0., 0., 0., 0., 0., 0., 0., 0., 0., 0., 0., 0., 0.], dtype=float32)>,\n",
       " <tf.Variable 'decoder/dense_2/kernel:0' shape=(64, 128) dtype=float32, numpy=\n",
       " array([[ 0.01242157,  0.00116223, -0.00092845, ...,  0.00617013,\n",
       "          0.00290493,  0.01774036],\n",
       "        [-0.01720186, -0.00131908, -0.0118691 , ..., -0.01719809,\n",
       "         -0.0026875 , -0.01260442],\n",
       "        [-0.01269854,  0.00524772, -0.01646705, ..., -0.01410463,\n",
       "         -0.01785373, -0.00426475],\n",
       "        ...,\n",
       "        [-0.01105198, -0.0064291 , -0.00398127, ...,  0.0159388 ,\n",
       "         -0.00387326, -0.00180678],\n",
       "        [ 0.01343011,  0.01403282,  0.01075294, ...,  0.0042825 ,\n",
       "          0.00848542,  0.00538325],\n",
       "        [ 0.00083657, -0.00245172, -0.01024141, ...,  0.00245575,\n",
       "          0.00810289,  0.0094084 ]], dtype=float32)>,\n",
       " <tf.Variable 'decoder/dense_2/bias:0' shape=(128,) dtype=float32, numpy=\n",
       " array([0., 0., 0., 0., 0., 0., 0., 0., 0., 0., 0., 0., 0., 0., 0., 0., 0.,\n",
       "        0., 0., 0., 0., 0., 0., 0., 0., 0., 0., 0., 0., 0., 0., 0., 0., 0.,\n",
       "        0., 0., 0., 0., 0., 0., 0., 0., 0., 0., 0., 0., 0., 0., 0., 0., 0.,\n",
       "        0., 0., 0., 0., 0., 0., 0., 0., 0., 0., 0., 0., 0., 0., 0., 0., 0.,\n",
       "        0., 0., 0., 0., 0., 0., 0., 0., 0., 0., 0., 0., 0., 0., 0., 0., 0.,\n",
       "        0., 0., 0., 0., 0., 0., 0., 0., 0., 0., 0., 0., 0., 0., 0., 0., 0.,\n",
       "        0., 0., 0., 0., 0., 0., 0., 0., 0., 0., 0., 0., 0., 0., 0., 0., 0.,\n",
       "        0., 0., 0., 0., 0., 0., 0., 0., 0.], dtype=float32)>]"
      ]
     },
     "execution_count": 12,
     "metadata": {},
     "output_type": "execute_result"
    }
   ],
   "source": [
    "decoder(tf.random.uniform((1,129)))\n",
    "decoder.weights"
   ]
  },
  {
   "cell_type": "code",
   "execution_count": 23,
   "metadata": {},
   "outputs": [],
   "source": [
    "if runni>0:\n",
    "    indices = tf.range(start=0, limit=tf.shape(x)[0], dtype=tf.int32)\n",
    "    idx = tf.random.shuffle(indices)\n",
    "    x_data = tf.gather(x, idx)\n",
    "    x_dot_data = tf.gather(x_dot, idx)\n",
    "else:\n",
    "    x_data = x\n",
    "    x_dot_data = x_dot"
   ]
  },
  {
   "cell_type": "code",
   "execution_count": 5,
   "metadata": {},
   "outputs": [
    {
     "name": "stdout",
     "output_type": "stream",
     "text": [
      "INFO:tensorflow:Using MirroredStrategy with devices ('/job:localhost/replica:0/task:0/device:GPU:0', '/job:localhost/replica:0/task:0/device:GPU:1')\n"
     ]
    },
    {
     "name": "stderr",
     "output_type": "stream",
     "text": [
      "INFO:tensorflow:Using MirroredStrategy with devices ('/job:localhost/replica:0/task:0/device:GPU:0', '/job:localhost/replica:0/task:0/device:GPU:1')\n"
     ]
    }
   ],
   "source": [
    "mirrored_strategy = tf.distribute.MirroredStrategy(devices=[\"/gpu:0\", \"/gpu:1\"])\n"
   ]
  },
  {
   "cell_type": "code",
   "execution_count": 8,
   "metadata": {},
   "outputs": [
    {
     "name": "stdout",
     "output_type": "stream",
     "text": [
      "INFO:tensorflow:Reduce to /job:localhost/replica:0/task:0/device:CPU:0 then broadcast to ('/job:localhost/replica:0/task:0/device:CPU:0',).\n"
     ]
    },
    {
     "name": "stderr",
     "output_type": "stream",
     "text": [
      "INFO:tensorflow:Reduce to /job:localhost/replica:0/task:0/device:CPU:0 then broadcast to ('/job:localhost/replica:0/task:0/device:CPU:0',).\n"
     ]
    },
    {
     "name": "stdout",
     "output_type": "stream",
     "text": [
      "INFO:tensorflow:Reduce to /job:localhost/replica:0/task:0/device:CPU:0 then broadcast to ('/job:localhost/replica:0/task:0/device:CPU:0',).\n"
     ]
    },
    {
     "name": "stderr",
     "output_type": "stream",
     "text": [
      "INFO:tensorflow:Reduce to /job:localhost/replica:0/task:0/device:CPU:0 then broadcast to ('/job:localhost/replica:0/task:0/device:CPU:0',).\n"
     ]
    },
    {
     "name": "stdout",
     "output_type": "stream",
     "text": [
      "INFO:tensorflow:Reduce to /job:localhost/replica:0/task:0/device:CPU:0 then broadcast to ('/job:localhost/replica:0/task:0/device:CPU:0',).\n"
     ]
    },
    {
     "name": "stderr",
     "output_type": "stream",
     "text": [
      "INFO:tensorflow:Reduce to /job:localhost/replica:0/task:0/device:CPU:0 then broadcast to ('/job:localhost/replica:0/task:0/device:CPU:0',).\n"
     ]
    },
    {
     "name": "stdout",
     "output_type": "stream",
     "text": [
      "INFO:tensorflow:Reduce to /job:localhost/replica:0/task:0/device:CPU:0 then broadcast to ('/job:localhost/replica:0/task:0/device:CPU:0',).\n"
     ]
    },
    {
     "name": "stderr",
     "output_type": "stream",
     "text": [
      "INFO:tensorflow:Reduce to /job:localhost/replica:0/task:0/device:CPU:0 then broadcast to ('/job:localhost/replica:0/task:0/device:CPU:0',).\n"
     ]
    },
    {
     "name": "stdout",
     "output_type": "stream",
     "text": [
      "INFO:tensorflow:Reduce to /job:localhost/replica:0/task:0/device:CPU:0 then broadcast to ('/job:localhost/replica:0/task:0/device:CPU:0',).\n"
     ]
    },
    {
     "name": "stderr",
     "output_type": "stream",
     "text": [
      "INFO:tensorflow:Reduce to /job:localhost/replica:0/task:0/device:CPU:0 then broadcast to ('/job:localhost/replica:0/task:0/device:CPU:0',).\n"
     ]
    },
    {
     "name": "stdout",
     "output_type": "stream",
     "text": [
      "INFO:tensorflow:Reduce to /job:localhost/replica:0/task:0/device:CPU:0 then broadcast to ('/job:localhost/replica:0/task:0/device:CPU:0',).\n"
     ]
    },
    {
     "name": "stderr",
     "output_type": "stream",
     "text": [
      "INFO:tensorflow:Reduce to /job:localhost/replica:0/task:0/device:CPU:0 then broadcast to ('/job:localhost/replica:0/task:0/device:CPU:0',).\n"
     ]
    },
    {
     "name": "stdout",
     "output_type": "stream",
     "text": [
      "INFO:tensorflow:Reduce to /job:localhost/replica:0/task:0/device:CPU:0 then broadcast to ('/job:localhost/replica:0/task:0/device:CPU:0',).\n"
     ]
    },
    {
     "name": "stderr",
     "output_type": "stream",
     "text": [
      "INFO:tensorflow:Reduce to /job:localhost/replica:0/task:0/device:CPU:0 then broadcast to ('/job:localhost/replica:0/task:0/device:CPU:0',).\n"
     ]
    },
    {
     "name": "stdout",
     "output_type": "stream",
     "text": [
      "INFO:tensorflow:Reduce to /job:localhost/replica:0/task:0/device:CPU:0 then broadcast to ('/job:localhost/replica:0/task:0/device:CPU:0',).\n"
     ]
    },
    {
     "name": "stderr",
     "output_type": "stream",
     "text": [
      "INFO:tensorflow:Reduce to /job:localhost/replica:0/task:0/device:CPU:0 then broadcast to ('/job:localhost/replica:0/task:0/device:CPU:0',).\n"
     ]
    },
    {
     "name": "stdout",
     "output_type": "stream",
     "text": [
      "INFO:tensorflow:Reduce to /job:localhost/replica:0/task:0/device:CPU:0 then broadcast to ('/job:localhost/replica:0/task:0/device:CPU:0',).\n"
     ]
    },
    {
     "name": "stderr",
     "output_type": "stream",
     "text": [
      "INFO:tensorflow:Reduce to /job:localhost/replica:0/task:0/device:CPU:0 then broadcast to ('/job:localhost/replica:0/task:0/device:CPU:0',).\n"
     ]
    },
    {
     "name": "stdout",
     "output_type": "stream",
     "text": [
      "INFO:tensorflow:Reduce to /job:localhost/replica:0/task:0/device:CPU:0 then broadcast to ('/job:localhost/replica:0/task:0/device:CPU:0',).\n"
     ]
    },
    {
     "name": "stderr",
     "output_type": "stream",
     "text": [
      "INFO:tensorflow:Reduce to /job:localhost/replica:0/task:0/device:CPU:0 then broadcast to ('/job:localhost/replica:0/task:0/device:CPU:0',).\n"
     ]
    }
   ],
   "source": [
    "with mirrored_strategy.scope():\n",
    "\n",
    "    encoder = Encoder()\n",
    "    decoder = Decoder()\n",
    "    sindy = SINDy()\n",
    "    models = [encoder, decoder, sindy]\n",
    "\n",
    "    metamodel = MetaModel(models, total_epochs=400, when_zero_lambda3=1000)\n",
    "metamodel.compile_models()\n"
   ]
  },
  {
   "cell_type": "code",
   "execution_count": 9,
   "metadata": {},
   "outputs": [
    {
     "name": "stdout",
     "output_type": "stream",
     "text": [
      "Epoch 1/50\n",
      "INFO:tensorflow:batch_all_reduce: 6 all-reduces with algorithm = nccl, num_packs = 1\n"
     ]
    },
    {
     "name": "stderr",
     "output_type": "stream",
     "text": [
      "INFO:tensorflow:batch_all_reduce: 6 all-reduces with algorithm = nccl, num_packs = 1\n"
     ]
    },
    {
     "name": "stdout",
     "output_type": "stream",
     "text": [
      "INFO:tensorflow:batch_all_reduce: 6 all-reduces with algorithm = nccl, num_packs = 1\n"
     ]
    },
    {
     "name": "stderr",
     "output_type": "stream",
     "text": [
      "INFO:tensorflow:batch_all_reduce: 6 all-reduces with algorithm = nccl, num_packs = 1\n"
     ]
    },
    {
     "name": "stdout",
     "output_type": "stream",
     "text": [
      "INFO:tensorflow:batch_all_reduce: 1 all-reduces with algorithm = nccl, num_packs = 1\n"
     ]
    },
    {
     "name": "stderr",
     "output_type": "stream",
     "text": [
      "INFO:tensorflow:batch_all_reduce: 1 all-reduces with algorithm = nccl, num_packs = 1\n"
     ]
    },
    {
     "name": "stdout",
     "output_type": "stream",
     "text": [
      "INFO:tensorflow:batch_all_reduce: 6 all-reduces with algorithm = nccl, num_packs = 1\n"
     ]
    },
    {
     "name": "stderr",
     "output_type": "stream",
     "text": [
      "INFO:tensorflow:batch_all_reduce: 6 all-reduces with algorithm = nccl, num_packs = 1\n"
     ]
    },
    {
     "name": "stdout",
     "output_type": "stream",
     "text": [
      "INFO:tensorflow:batch_all_reduce: 6 all-reduces with algorithm = nccl, num_packs = 1\n"
     ]
    },
    {
     "name": "stderr",
     "output_type": "stream",
     "text": [
      "INFO:tensorflow:batch_all_reduce: 6 all-reduces with algorithm = nccl, num_packs = 1\n"
     ]
    },
    {
     "name": "stdout",
     "output_type": "stream",
     "text": [
      "INFO:tensorflow:batch_all_reduce: 1 all-reduces with algorithm = nccl, num_packs = 1\n"
     ]
    },
    {
     "name": "stderr",
     "output_type": "stream",
     "text": [
      "INFO:tensorflow:batch_all_reduce: 1 all-reduces with algorithm = nccl, num_packs = 1\n"
     ]
    },
    {
     "name": "stdout",
     "output_type": "stream",
     "text": [
      " 5/40 [==>...........................] - ETA: 13s - Total Loss: 0.2913 - Loss_0: 0.2912 - Loss_1: 3.8782e-05 - Loss_2: 0.0000e+00 - Loss_3: 1.7029e-05WARNING:tensorflow:Callback method `on_train_batch_end` is slow compared to the batch time (batch time: 0.0366s vs `on_train_batch_end` time: 0.2301s). Check your callbacks.\n"
     ]
    },
    {
     "name": "stderr",
     "output_type": "stream",
     "text": [
      "WARNING:tensorflow:Callback method `on_train_batch_end` is slow compared to the batch time (batch time: 0.0366s vs `on_train_batch_end` time: 0.2301s). Check your callbacks.\n"
     ]
    },
    {
     "name": "stdout",
     "output_type": "stream",
     "text": [
      "40/40 [==============================] - 31s 69ms/step - Total Loss: 0.1562 - Loss_0: 0.1562 - Loss_1: 3.3839e-05 - Loss_2: 0.0000e+00 - Loss_3: 1.6471e-05\n",
      "INFO:tensorflow:Summary name epoch_Total Loss is illegal; using epoch_Total_Loss instead.\n"
     ]
    },
    {
     "name": "stderr",
     "output_type": "stream",
     "text": [
      "INFO:tensorflow:Summary name epoch_Total Loss is illegal; using epoch_Total_Loss instead.\n"
     ]
    },
    {
     "name": "stdout",
     "output_type": "stream",
     "text": [
      "Epoch 2/50\n",
      "40/40 [==============================] - 1s 34ms/step - Total Loss: 0.1212 - Loss_0: 0.1212 - Loss_1: 3.1723e-05 - Loss_2: 0.0000e+00 - Loss_3: 1.5782e-05\n",
      "INFO:tensorflow:Summary name epoch_Total Loss is illegal; using epoch_Total_Loss instead.\n"
     ]
    },
    {
     "name": "stderr",
     "output_type": "stream",
     "text": [
      "INFO:tensorflow:Summary name epoch_Total Loss is illegal; using epoch_Total_Loss instead.\n"
     ]
    },
    {
     "name": "stdout",
     "output_type": "stream",
     "text": [
      "Epoch 3/50\n",
      "40/40 [==============================] - 1s 36ms/step - Total Loss: 0.2398 - Loss_0: 0.2398 - Loss_1: 4.4158e-05 - Loss_2: 0.0000e+00 - Loss_3: 1.5103e-05\n",
      "INFO:tensorflow:Summary name epoch_Total Loss is illegal; using epoch_Total_Loss instead.\n"
     ]
    },
    {
     "name": "stderr",
     "output_type": "stream",
     "text": [
      "INFO:tensorflow:Summary name epoch_Total Loss is illegal; using epoch_Total_Loss instead.\n"
     ]
    },
    {
     "name": "stdout",
     "output_type": "stream",
     "text": [
      "Epoch 4/50\n",
      "40/40 [==============================] - 1s 30ms/step - Total Loss: 0.1624 - Loss_0: 0.1624 - Loss_1: 3.2430e-05 - Loss_2: 0.0000e+00 - Loss_3: 1.4438e-05\n",
      "INFO:tensorflow:Summary name epoch_Total Loss is illegal; using epoch_Total_Loss instead.\n"
     ]
    },
    {
     "name": "stderr",
     "output_type": "stream",
     "text": [
      "INFO:tensorflow:Summary name epoch_Total Loss is illegal; using epoch_Total_Loss instead.\n"
     ]
    },
    {
     "name": "stdout",
     "output_type": "stream",
     "text": [
      "Epoch 5/50\n",
      "40/40 [==============================] - 1s 28ms/step - Total Loss: 0.1667 - Loss_0: 0.1667 - Loss_1: 3.8776e-05 - Loss_2: 0.0000e+00 - Loss_3: 1.3800e-05\n",
      "INFO:tensorflow:Summary name epoch_Total Loss is illegal; using epoch_Total_Loss instead.\n"
     ]
    },
    {
     "name": "stderr",
     "output_type": "stream",
     "text": [
      "INFO:tensorflow:Summary name epoch_Total Loss is illegal; using epoch_Total_Loss instead.\n"
     ]
    },
    {
     "name": "stdout",
     "output_type": "stream",
     "text": [
      "Epoch 6/50\n",
      "40/40 [==============================] - 1s 26ms/step - Total Loss: 0.1110 - Loss_0: 0.1110 - Loss_1: 2.8465e-05 - Loss_2: 0.0000e+00 - Loss_3: 1.3198e-05\n",
      "INFO:tensorflow:Summary name epoch_Total Loss is illegal; using epoch_Total_Loss instead.\n"
     ]
    },
    {
     "name": "stderr",
     "output_type": "stream",
     "text": [
      "INFO:tensorflow:Summary name epoch_Total Loss is illegal; using epoch_Total_Loss instead.\n"
     ]
    },
    {
     "name": "stdout",
     "output_type": "stream",
     "text": [
      "Epoch 7/50\n",
      "40/40 [==============================] - 1s 24ms/step - Total Loss: 0.2821 - Loss_0: 0.2820 - Loss_1: 4.6559e-05 - Loss_2: 0.0000e+00 - Loss_3: 1.2617e-05\n",
      "INFO:tensorflow:Summary name epoch_Total Loss is illegal; using epoch_Total_Loss instead.\n"
     ]
    },
    {
     "name": "stderr",
     "output_type": "stream",
     "text": [
      "INFO:tensorflow:Summary name epoch_Total Loss is illegal; using epoch_Total_Loss instead.\n"
     ]
    },
    {
     "name": "stdout",
     "output_type": "stream",
     "text": [
      "Epoch 8/50\n",
      "40/40 [==============================] - 1s 30ms/step - Total Loss: 0.1472 - Loss_0: 0.1471 - Loss_1: 3.6483e-05 - Loss_2: 0.0000e+00 - Loss_3: 1.2060e-05\n",
      "INFO:tensorflow:Summary name epoch_Total Loss is illegal; using epoch_Total_Loss instead.\n"
     ]
    },
    {
     "name": "stderr",
     "output_type": "stream",
     "text": [
      "INFO:tensorflow:Summary name epoch_Total Loss is illegal; using epoch_Total_Loss instead.\n"
     ]
    },
    {
     "name": "stdout",
     "output_type": "stream",
     "text": [
      "Epoch 9/50\n",
      "40/40 [==============================] - 1s 35ms/step - Total Loss: 0.1111 - Loss_0: 0.1111 - Loss_1: 3.0372e-05 - Loss_2: 0.0000e+00 - Loss_3: 1.1514e-05\n",
      "INFO:tensorflow:Summary name epoch_Total Loss is illegal; using epoch_Total_Loss instead.\n"
     ]
    },
    {
     "name": "stderr",
     "output_type": "stream",
     "text": [
      "INFO:tensorflow:Summary name epoch_Total Loss is illegal; using epoch_Total_Loss instead.\n"
     ]
    },
    {
     "name": "stdout",
     "output_type": "stream",
     "text": [
      "Epoch 10/50\n",
      "40/40 [==============================] - 1s 31ms/step - Total Loss: 0.5050 - Loss_0: 0.5049 - Loss_1: 7.8856e-05 - Loss_2: 0.0000e+00 - Loss_3: 1.0972e-05\n",
      "INFO:tensorflow:Summary name epoch_Total Loss is illegal; using epoch_Total_Loss instead.\n"
     ]
    },
    {
     "name": "stderr",
     "output_type": "stream",
     "text": [
      "INFO:tensorflow:Summary name epoch_Total Loss is illegal; using epoch_Total_Loss instead.\n"
     ]
    },
    {
     "name": "stdout",
     "output_type": "stream",
     "text": [
      "Epoch 11/50\n",
      "40/40 [==============================] - 1s 33ms/step - Total Loss: 0.1346 - Loss_0: 0.1345 - Loss_1: 3.1190e-05 - Loss_2: 0.0000e+00 - Loss_3: 1.0444e-05\n",
      "INFO:tensorflow:Summary name epoch_Total Loss is illegal; using epoch_Total_Loss instead.\n"
     ]
    },
    {
     "name": "stderr",
     "output_type": "stream",
     "text": [
      "INFO:tensorflow:Summary name epoch_Total Loss is illegal; using epoch_Total_Loss instead.\n"
     ]
    },
    {
     "name": "stdout",
     "output_type": "stream",
     "text": [
      "Epoch 12/50\n",
      "40/40 [==============================] - 1s 31ms/step - Total Loss: 0.1407 - Loss_0: 0.1406 - Loss_1: 9.0770e-05 - Loss_2: 0.0000e+00 - Loss_3: 1.0416e-05\n",
      "INFO:tensorflow:Summary name epoch_Total Loss is illegal; using epoch_Total_Loss instead.\n"
     ]
    },
    {
     "name": "stderr",
     "output_type": "stream",
     "text": [
      "INFO:tensorflow:Summary name epoch_Total Loss is illegal; using epoch_Total_Loss instead.\n"
     ]
    },
    {
     "name": "stdout",
     "output_type": "stream",
     "text": [
      "Epoch 13/50\n",
      "40/40 [==============================] - 1s 30ms/step - Total Loss: 0.1747 - Loss_0: 0.1744 - Loss_1: 3.0201e-04 - Loss_2: 0.0000e+00 - Loss_3: 1.0462e-05\n",
      "INFO:tensorflow:Summary name epoch_Total Loss is illegal; using epoch_Total_Loss instead.\n"
     ]
    },
    {
     "name": "stderr",
     "output_type": "stream",
     "text": [
      "INFO:tensorflow:Summary name epoch_Total Loss is illegal; using epoch_Total_Loss instead.\n"
     ]
    },
    {
     "name": "stdout",
     "output_type": "stream",
     "text": [
      "Epoch 14/50\n",
      "40/40 [==============================] - 1s 28ms/step - Total Loss: 0.1058 - Loss_0: 0.1056 - Loss_1: 1.9105e-04 - Loss_2: 0.0000e+00 - Loss_3: 1.0737e-05\n",
      "INFO:tensorflow:Summary name epoch_Total Loss is illegal; using epoch_Total_Loss instead.\n"
     ]
    },
    {
     "name": "stderr",
     "output_type": "stream",
     "text": [
      "INFO:tensorflow:Summary name epoch_Total Loss is illegal; using epoch_Total_Loss instead.\n"
     ]
    },
    {
     "name": "stdout",
     "output_type": "stream",
     "text": [
      "Epoch 15/50\n",
      "40/40 [==============================] - 1s 31ms/step - Total Loss: 0.2123 - Loss_0: 0.2122 - Loss_1: 4.1175e-05 - Loss_2: 0.0000e+00 - Loss_3: 1.0955e-05\n",
      "INFO:tensorflow:Summary name epoch_Total Loss is illegal; using epoch_Total_Loss instead.\n"
     ]
    },
    {
     "name": "stderr",
     "output_type": "stream",
     "text": [
      "INFO:tensorflow:Summary name epoch_Total Loss is illegal; using epoch_Total_Loss instead.\n"
     ]
    },
    {
     "name": "stdout",
     "output_type": "stream",
     "text": [
      "Epoch 16/50\n",
      "40/40 [==============================] - 1s 32ms/step - Total Loss: 0.0616 - Loss_0: 0.0615 - Loss_1: 5.7984e-05 - Loss_2: 0.0000e+00 - Loss_3: 1.1067e-05\n",
      "INFO:tensorflow:Summary name epoch_Total Loss is illegal; using epoch_Total_Loss instead.\n"
     ]
    },
    {
     "name": "stderr",
     "output_type": "stream",
     "text": [
      "INFO:tensorflow:Summary name epoch_Total Loss is illegal; using epoch_Total_Loss instead.\n"
     ]
    },
    {
     "name": "stdout",
     "output_type": "stream",
     "text": [
      "Epoch 17/50\n",
      "40/40 [==============================] - 2s 37ms/step - Total Loss: 0.0378 - Loss_0: 0.0377 - Loss_1: 4.4388e-05 - Loss_2: 0.0000e+00 - Loss_3: 1.1151e-05\n",
      "INFO:tensorflow:Summary name epoch_Total Loss is illegal; using epoch_Total_Loss instead.\n"
     ]
    },
    {
     "name": "stderr",
     "output_type": "stream",
     "text": [
      "INFO:tensorflow:Summary name epoch_Total Loss is illegal; using epoch_Total_Loss instead.\n"
     ]
    },
    {
     "name": "stdout",
     "output_type": "stream",
     "text": [
      "Epoch 18/50\n",
      "40/40 [==============================] - 1s 33ms/step - Total Loss: 0.0556 - Loss_0: 0.0555 - Loss_1: 6.7143e-05 - Loss_2: 0.0000e+00 - Loss_3: 1.0936e-05\n",
      "INFO:tensorflow:Summary name epoch_Total Loss is illegal; using epoch_Total_Loss instead.\n"
     ]
    },
    {
     "name": "stderr",
     "output_type": "stream",
     "text": [
      "INFO:tensorflow:Summary name epoch_Total Loss is illegal; using epoch_Total_Loss instead.\n"
     ]
    },
    {
     "name": "stdout",
     "output_type": "stream",
     "text": [
      "Epoch 19/50\n",
      "40/40 [==============================] - 1s 32ms/step - Total Loss: 0.2132 - Loss_0: 0.2130 - Loss_1: 1.8935e-04 - Loss_2: 0.0000e+00 - Loss_3: 1.0655e-05\n",
      "INFO:tensorflow:Summary name epoch_Total Loss is illegal; using epoch_Total_Loss instead.\n"
     ]
    },
    {
     "name": "stderr",
     "output_type": "stream",
     "text": [
      "INFO:tensorflow:Summary name epoch_Total Loss is illegal; using epoch_Total_Loss instead.\n"
     ]
    },
    {
     "name": "stdout",
     "output_type": "stream",
     "text": [
      "Epoch 20/50\n",
      "28/40 [====================>.........] - ETA: 0s - Total Loss: 0.0267 - Loss_0: 0.0266 - Loss_1: 6.5916e-05 - Loss_2: 0.0000e+00 - Loss_3: 1.0559e-05"
     ]
    },
    {
     "ename": "KeyboardInterrupt",
     "evalue": "",
     "output_type": "error",
     "traceback": [
      "\u001b[0;31m---------------------------------------------------------------------------\u001b[0m",
      "\u001b[0;31mKeyboardInterrupt\u001b[0m                         Traceback (most recent call last)",
      "\u001b[0;32m<ipython-input-9-8fac2f8aabf3>\u001b[0m in \u001b[0;36m<module>\u001b[0;34m\u001b[0m\n\u001b[0;32m----> 1\u001b[0;31m history = metamodel.fit(x=x, y=x_dot, epochs=50, batch_size=25,\n\u001b[0m\u001b[1;32m      2\u001b[0m                 callbacks=[TrainingCallback(), tf.keras.callbacks.TensorBoard(\"logs/prueba3\"),\n\u001b[1;32m      3\u001b[0m                               ])\n",
      "\u001b[0;32m/data/uab-giq/scratch/miniconda3/envs/mateconda/lib/python3.9/site-packages/tensorflow/python/keras/engine/training.py\u001b[0m in \u001b[0;36mfit\u001b[0;34m(self, x, y, batch_size, epochs, verbose, callbacks, validation_split, validation_data, shuffle, class_weight, sample_weight, initial_epoch, steps_per_epoch, validation_steps, validation_batch_size, validation_freq, max_queue_size, workers, use_multiprocessing)\u001b[0m\n\u001b[1;32m   1098\u001b[0m                 _r=1):\n\u001b[1;32m   1099\u001b[0m               \u001b[0mcallbacks\u001b[0m\u001b[0;34m.\u001b[0m\u001b[0mon_train_batch_begin\u001b[0m\u001b[0;34m(\u001b[0m\u001b[0mstep\u001b[0m\u001b[0;34m)\u001b[0m\u001b[0;34m\u001b[0m\u001b[0;34m\u001b[0m\u001b[0m\n\u001b[0;32m-> 1100\u001b[0;31m               \u001b[0mtmp_logs\u001b[0m \u001b[0;34m=\u001b[0m \u001b[0mself\u001b[0m\u001b[0;34m.\u001b[0m\u001b[0mtrain_function\u001b[0m\u001b[0;34m(\u001b[0m\u001b[0miterator\u001b[0m\u001b[0;34m)\u001b[0m\u001b[0;34m\u001b[0m\u001b[0;34m\u001b[0m\u001b[0m\n\u001b[0m\u001b[1;32m   1101\u001b[0m               \u001b[0;32mif\u001b[0m \u001b[0mdata_handler\u001b[0m\u001b[0;34m.\u001b[0m\u001b[0mshould_sync\u001b[0m\u001b[0;34m:\u001b[0m\u001b[0;34m\u001b[0m\u001b[0;34m\u001b[0m\u001b[0m\n\u001b[1;32m   1102\u001b[0m                 \u001b[0mcontext\u001b[0m\u001b[0;34m.\u001b[0m\u001b[0masync_wait\u001b[0m\u001b[0;34m(\u001b[0m\u001b[0;34m)\u001b[0m\u001b[0;34m\u001b[0m\u001b[0;34m\u001b[0m\u001b[0m\n",
      "\u001b[0;32m/data/uab-giq/scratch/miniconda3/envs/mateconda/lib/python3.9/site-packages/tensorflow/python/eager/def_function.py\u001b[0m in \u001b[0;36m__call__\u001b[0;34m(self, *args, **kwds)\u001b[0m\n\u001b[1;32m    826\u001b[0m     \u001b[0mtracing_count\u001b[0m \u001b[0;34m=\u001b[0m \u001b[0mself\u001b[0m\u001b[0;34m.\u001b[0m\u001b[0mexperimental_get_tracing_count\u001b[0m\u001b[0;34m(\u001b[0m\u001b[0;34m)\u001b[0m\u001b[0;34m\u001b[0m\u001b[0;34m\u001b[0m\u001b[0m\n\u001b[1;32m    827\u001b[0m     \u001b[0;32mwith\u001b[0m \u001b[0mtrace\u001b[0m\u001b[0;34m.\u001b[0m\u001b[0mTrace\u001b[0m\u001b[0;34m(\u001b[0m\u001b[0mself\u001b[0m\u001b[0;34m.\u001b[0m\u001b[0m_name\u001b[0m\u001b[0;34m)\u001b[0m \u001b[0;32mas\u001b[0m \u001b[0mtm\u001b[0m\u001b[0;34m:\u001b[0m\u001b[0;34m\u001b[0m\u001b[0;34m\u001b[0m\u001b[0m\n\u001b[0;32m--> 828\u001b[0;31m       \u001b[0mresult\u001b[0m \u001b[0;34m=\u001b[0m \u001b[0mself\u001b[0m\u001b[0;34m.\u001b[0m\u001b[0m_call\u001b[0m\u001b[0;34m(\u001b[0m\u001b[0;34m*\u001b[0m\u001b[0margs\u001b[0m\u001b[0;34m,\u001b[0m \u001b[0;34m**\u001b[0m\u001b[0mkwds\u001b[0m\u001b[0;34m)\u001b[0m\u001b[0;34m\u001b[0m\u001b[0;34m\u001b[0m\u001b[0m\n\u001b[0m\u001b[1;32m    829\u001b[0m       \u001b[0mcompiler\u001b[0m \u001b[0;34m=\u001b[0m \u001b[0;34m\"xla\"\u001b[0m \u001b[0;32mif\u001b[0m \u001b[0mself\u001b[0m\u001b[0;34m.\u001b[0m\u001b[0m_experimental_compile\u001b[0m \u001b[0;32melse\u001b[0m \u001b[0;34m\"nonXla\"\u001b[0m\u001b[0;34m\u001b[0m\u001b[0;34m\u001b[0m\u001b[0m\n\u001b[1;32m    830\u001b[0m       \u001b[0mnew_tracing_count\u001b[0m \u001b[0;34m=\u001b[0m \u001b[0mself\u001b[0m\u001b[0;34m.\u001b[0m\u001b[0mexperimental_get_tracing_count\u001b[0m\u001b[0;34m(\u001b[0m\u001b[0;34m)\u001b[0m\u001b[0;34m\u001b[0m\u001b[0;34m\u001b[0m\u001b[0m\n",
      "\u001b[0;32m/data/uab-giq/scratch/miniconda3/envs/mateconda/lib/python3.9/site-packages/tensorflow/python/eager/def_function.py\u001b[0m in \u001b[0;36m_call\u001b[0;34m(self, *args, **kwds)\u001b[0m\n\u001b[1;32m    853\u001b[0m       \u001b[0;31m# In this case we have created variables on the first call, so we run the\u001b[0m\u001b[0;34m\u001b[0m\u001b[0;34m\u001b[0m\u001b[0;34m\u001b[0m\u001b[0m\n\u001b[1;32m    854\u001b[0m       \u001b[0;31m# defunned version which is guaranteed to never create variables.\u001b[0m\u001b[0;34m\u001b[0m\u001b[0;34m\u001b[0m\u001b[0;34m\u001b[0m\u001b[0m\n\u001b[0;32m--> 855\u001b[0;31m       \u001b[0;32mreturn\u001b[0m \u001b[0mself\u001b[0m\u001b[0;34m.\u001b[0m\u001b[0m_stateless_fn\u001b[0m\u001b[0;34m(\u001b[0m\u001b[0;34m*\u001b[0m\u001b[0margs\u001b[0m\u001b[0;34m,\u001b[0m \u001b[0;34m**\u001b[0m\u001b[0mkwds\u001b[0m\u001b[0;34m)\u001b[0m  \u001b[0;31m# pylint: disable=not-callable\u001b[0m\u001b[0;34m\u001b[0m\u001b[0;34m\u001b[0m\u001b[0m\n\u001b[0m\u001b[1;32m    856\u001b[0m     \u001b[0;32melif\u001b[0m \u001b[0mself\u001b[0m\u001b[0;34m.\u001b[0m\u001b[0m_stateful_fn\u001b[0m \u001b[0;32mis\u001b[0m \u001b[0;32mnot\u001b[0m \u001b[0;32mNone\u001b[0m\u001b[0;34m:\u001b[0m\u001b[0;34m\u001b[0m\u001b[0;34m\u001b[0m\u001b[0m\n\u001b[1;32m    857\u001b[0m       \u001b[0;31m# Release the lock early so that multiple threads can perform the call\u001b[0m\u001b[0;34m\u001b[0m\u001b[0;34m\u001b[0m\u001b[0;34m\u001b[0m\u001b[0m\n",
      "\u001b[0;32m/data/uab-giq/scratch/miniconda3/envs/mateconda/lib/python3.9/site-packages/tensorflow/python/eager/function.py\u001b[0m in \u001b[0;36m__call__\u001b[0;34m(self, *args, **kwargs)\u001b[0m\n\u001b[1;32m   2940\u001b[0m       (graph_function,\n\u001b[1;32m   2941\u001b[0m        filtered_flat_args) = self._maybe_define_function(args, kwargs)\n\u001b[0;32m-> 2942\u001b[0;31m     return graph_function._call_flat(\n\u001b[0m\u001b[1;32m   2943\u001b[0m         filtered_flat_args, captured_inputs=graph_function.captured_inputs)  # pylint: disable=protected-access\n\u001b[1;32m   2944\u001b[0m \u001b[0;34m\u001b[0m\u001b[0m\n",
      "\u001b[0;32m/data/uab-giq/scratch/miniconda3/envs/mateconda/lib/python3.9/site-packages/tensorflow/python/eager/function.py\u001b[0m in \u001b[0;36m_call_flat\u001b[0;34m(self, args, captured_inputs, cancellation_manager)\u001b[0m\n\u001b[1;32m   1916\u001b[0m         and executing_eagerly):\n\u001b[1;32m   1917\u001b[0m       \u001b[0;31m# No tape is watching; skip to running the function.\u001b[0m\u001b[0;34m\u001b[0m\u001b[0;34m\u001b[0m\u001b[0;34m\u001b[0m\u001b[0m\n\u001b[0;32m-> 1918\u001b[0;31m       return self._build_call_outputs(self._inference_function.call(\n\u001b[0m\u001b[1;32m   1919\u001b[0m           ctx, args, cancellation_manager=cancellation_manager))\n\u001b[1;32m   1920\u001b[0m     forward_backward = self._select_forward_and_backward_functions(\n",
      "\u001b[0;32m/data/uab-giq/scratch/miniconda3/envs/mateconda/lib/python3.9/site-packages/tensorflow/python/eager/function.py\u001b[0m in \u001b[0;36mcall\u001b[0;34m(self, ctx, args, cancellation_manager)\u001b[0m\n\u001b[1;32m    553\u001b[0m       \u001b[0;32mwith\u001b[0m \u001b[0m_InterpolateFunctionError\u001b[0m\u001b[0;34m(\u001b[0m\u001b[0mself\u001b[0m\u001b[0;34m)\u001b[0m\u001b[0;34m:\u001b[0m\u001b[0;34m\u001b[0m\u001b[0;34m\u001b[0m\u001b[0m\n\u001b[1;32m    554\u001b[0m         \u001b[0;32mif\u001b[0m \u001b[0mcancellation_manager\u001b[0m \u001b[0;32mis\u001b[0m \u001b[0;32mNone\u001b[0m\u001b[0;34m:\u001b[0m\u001b[0;34m\u001b[0m\u001b[0;34m\u001b[0m\u001b[0m\n\u001b[0;32m--> 555\u001b[0;31m           outputs = execute.execute(\n\u001b[0m\u001b[1;32m    556\u001b[0m               \u001b[0mstr\u001b[0m\u001b[0;34m(\u001b[0m\u001b[0mself\u001b[0m\u001b[0;34m.\u001b[0m\u001b[0msignature\u001b[0m\u001b[0;34m.\u001b[0m\u001b[0mname\u001b[0m\u001b[0;34m)\u001b[0m\u001b[0;34m,\u001b[0m\u001b[0;34m\u001b[0m\u001b[0;34m\u001b[0m\u001b[0m\n\u001b[1;32m    557\u001b[0m               \u001b[0mnum_outputs\u001b[0m\u001b[0;34m=\u001b[0m\u001b[0mself\u001b[0m\u001b[0;34m.\u001b[0m\u001b[0m_num_outputs\u001b[0m\u001b[0;34m,\u001b[0m\u001b[0;34m\u001b[0m\u001b[0;34m\u001b[0m\u001b[0m\n",
      "\u001b[0;32m/data/uab-giq/scratch/miniconda3/envs/mateconda/lib/python3.9/site-packages/tensorflow/python/eager/execute.py\u001b[0m in \u001b[0;36mquick_execute\u001b[0;34m(op_name, num_outputs, inputs, attrs, ctx, name)\u001b[0m\n\u001b[1;32m     57\u001b[0m   \u001b[0;32mtry\u001b[0m\u001b[0;34m:\u001b[0m\u001b[0;34m\u001b[0m\u001b[0;34m\u001b[0m\u001b[0m\n\u001b[1;32m     58\u001b[0m     \u001b[0mctx\u001b[0m\u001b[0;34m.\u001b[0m\u001b[0mensure_initialized\u001b[0m\u001b[0;34m(\u001b[0m\u001b[0;34m)\u001b[0m\u001b[0;34m\u001b[0m\u001b[0;34m\u001b[0m\u001b[0m\n\u001b[0;32m---> 59\u001b[0;31m     tensors = pywrap_tfe.TFE_Py_Execute(ctx._handle, device_name, op_name,\n\u001b[0m\u001b[1;32m     60\u001b[0m                                         inputs, attrs, num_outputs)\n\u001b[1;32m     61\u001b[0m   \u001b[0;32mexcept\u001b[0m \u001b[0mcore\u001b[0m\u001b[0;34m.\u001b[0m\u001b[0m_NotOkStatusException\u001b[0m \u001b[0;32mas\u001b[0m \u001b[0me\u001b[0m\u001b[0;34m:\u001b[0m\u001b[0;34m\u001b[0m\u001b[0;34m\u001b[0m\u001b[0m\n",
      "\u001b[0;31mKeyboardInterrupt\u001b[0m: "
     ]
    }
   ],
   "source": [
    "history = metamodel.fit(x=x, y=x_dot, epochs=50, batch_size=25,\n",
    "                callbacks=[TrainingCallback(), tf.keras.callbacks.TensorBoard(\"logs/prueba3\"),\n",
    "                              ])"
   ]
  },
  {
   "cell_type": "code",
   "execution_count": 36,
   "metadata": {},
   "outputs": [
    {
     "data": {
      "text/plain": [
       "<tensorflow.python.training.tracking.util.CheckpointLoadStatus at 0x7f3cdcdc6080>"
      ]
     },
     "execution_count": 36,
     "metadata": {},
     "output_type": "execute_result"
    }
   ],
   "source": [
    "sindy.load_weights(\"nets/sindy_0/\")"
   ]
  },
  {
   "cell_type": "code",
   "execution_count": 37,
   "metadata": {},
   "outputs": [
    {
     "data": {
      "text/plain": [
       "[<tf.Tensor: shape=(3, 27), dtype=float32, numpy=\n",
       " array([[-0.9311571 ,  1.3730997 , -0.18049856, -0.23604348, -0.8861915 ,\n",
       "          0.34579983,  0.        ,  0.3817444 ,  0.6329095 , -0.46864775,\n",
       "          0.20121433,  0.        ,  0.        ,  1.4880794 ,  0.8682103 ,\n",
       "         -0.7623767 ,  0.76911217,  0.        , -2.235712  ,  1.3080964 ,\n",
       "          1.2098081 , -1.1070364 , -1.3574041 , -1.7704686 , -0.71796733,\n",
       "         -0.5128483 ,  1.8050104 ],\n",
       "        [-0.65252423,  0.17881115,  1.0176535 , -0.22862421,  1.2786188 ,\n",
       "         -0.45869717, -0.42945144, -0.2683546 ,  1.3455132 , -0.28287098,\n",
       "         -0.6332829 ,  0.5585188 , -0.8899651 ,  2.2761014 , -0.33276758,\n",
       "         -1.0422409 , -0.13713206, -1.0998034 ,  0.        , -0.87539   ,\n",
       "          0.5636082 ,  1.5775213 , -1.6637301 ,  0.59779716, -0.6056043 ,\n",
       "          1.464332  ,  0.92218494],\n",
       "        [-1.5582777 ,  1.0950025 ,  2.142236  , -0.66036254,  0.66531783,\n",
       "          0.5450642 ,  0.39311463, -2.4012308 ,  1.6103411 ,  1.0273528 ,\n",
       "         -1.3605751 ,  2.061662  ,  0.29204744, -0.3789357 ,  0.950497  ,\n",
       "          2.291414  , -1.250224  , -1.6023395 , -0.45264348, -1.1717108 ,\n",
       "          1.9761865 ,  1.9211097 ,  0.        , -0.26965982,  0.74707025,\n",
       "         -0.84402514,  0.64392686]], dtype=float32)>]"
      ]
     },
     "execution_count": 37,
     "metadata": {},
     "output_type": "execute_result"
    }
   ],
   "source": [
    "sindy.weights"
   ]
  },
  {
   "cell_type": "code",
   "execution_count": 63,
   "metadata": {},
   "outputs": [
    {
     "ename": "ValueError",
     "evalue": "Unsuccessful TensorSliceReader constructor: Failed to get matching files on nets/sindy_11/: Not found: nets/sindy_11; No such file or directory",
     "output_type": "error",
     "traceback": [
      "\u001b[0;31m---------------------------------------------------------------------------\u001b[0m",
      "\u001b[0;31mValueError\u001b[0m                                Traceback (most recent call last)",
      "\u001b[0;32m<ipython-input-63-cfbb6adf27b8>\u001b[0m in \u001b[0;36m<module>\u001b[0;34m\u001b[0m\n\u001b[1;32m      1\u001b[0m \u001b[0msindy\u001b[0m \u001b[0;34m=\u001b[0m \u001b[0mSINDy\u001b[0m\u001b[0;34m(\u001b[0m\u001b[0;34m)\u001b[0m\u001b[0;34m\u001b[0m\u001b[0;34m\u001b[0m\u001b[0m\n\u001b[0;32m----> 2\u001b[0;31m \u001b[0msindy\u001b[0m\u001b[0;34m.\u001b[0m\u001b[0mload_weights\u001b[0m\u001b[0;34m(\u001b[0m\u001b[0;34m\"nets/sindy_11/\"\u001b[0m\u001b[0;34m)\u001b[0m\u001b[0;34m\u001b[0m\u001b[0;34m\u001b[0m\u001b[0m\n\u001b[0m",
      "\u001b[0;32m~/.local/lib/python3.6/site-packages/tensorflow/python/keras/engine/training.py\u001b[0m in \u001b[0;36mload_weights\u001b[0;34m(self, filepath, by_name, skip_mismatch, options)\u001b[0m\n\u001b[1;32m   2174\u001b[0m     \u001b[0;32melse\u001b[0m\u001b[0;34m:\u001b[0m\u001b[0;34m\u001b[0m\u001b[0;34m\u001b[0m\u001b[0m\n\u001b[1;32m   2175\u001b[0m       \u001b[0;32mtry\u001b[0m\u001b[0;34m:\u001b[0m\u001b[0;34m\u001b[0m\u001b[0;34m\u001b[0m\u001b[0m\n\u001b[0;32m-> 2176\u001b[0;31m         \u001b[0mpy_checkpoint_reader\u001b[0m\u001b[0;34m.\u001b[0m\u001b[0mNewCheckpointReader\u001b[0m\u001b[0;34m(\u001b[0m\u001b[0mfilepath\u001b[0m\u001b[0;34m)\u001b[0m\u001b[0;34m\u001b[0m\u001b[0;34m\u001b[0m\u001b[0m\n\u001b[0m\u001b[1;32m   2177\u001b[0m         \u001b[0msave_format\u001b[0m \u001b[0;34m=\u001b[0m \u001b[0;34m'tf'\u001b[0m\u001b[0;34m\u001b[0m\u001b[0;34m\u001b[0m\u001b[0m\n\u001b[1;32m   2178\u001b[0m       \u001b[0;32mexcept\u001b[0m \u001b[0merrors_impl\u001b[0m\u001b[0;34m.\u001b[0m\u001b[0mDataLossError\u001b[0m\u001b[0;34m:\u001b[0m\u001b[0;34m\u001b[0m\u001b[0;34m\u001b[0m\u001b[0m\n",
      "\u001b[0;32m~/.local/lib/python3.6/site-packages/tensorflow/python/training/py_checkpoint_reader.py\u001b[0m in \u001b[0;36mNewCheckpointReader\u001b[0;34m(filepattern)\u001b[0m\n\u001b[1;32m     93\u001b[0m   \"\"\"\n\u001b[1;32m     94\u001b[0m   \u001b[0;32mtry\u001b[0m\u001b[0;34m:\u001b[0m\u001b[0;34m\u001b[0m\u001b[0;34m\u001b[0m\u001b[0m\n\u001b[0;32m---> 95\u001b[0;31m     \u001b[0;32mreturn\u001b[0m \u001b[0mCheckpointReader\u001b[0m\u001b[0;34m(\u001b[0m\u001b[0mcompat\u001b[0m\u001b[0;34m.\u001b[0m\u001b[0mas_bytes\u001b[0m\u001b[0;34m(\u001b[0m\u001b[0mfilepattern\u001b[0m\u001b[0;34m)\u001b[0m\u001b[0;34m)\u001b[0m\u001b[0;34m\u001b[0m\u001b[0;34m\u001b[0m\u001b[0m\n\u001b[0m\u001b[1;32m     96\u001b[0m   \u001b[0;31m# TODO(b/143319754): Remove the RuntimeError casting logic once we resolve the\u001b[0m\u001b[0;34m\u001b[0m\u001b[0;34m\u001b[0m\u001b[0;34m\u001b[0m\u001b[0m\n\u001b[1;32m     97\u001b[0m   \u001b[0;31m# issue with throwing python exceptions from C++.\u001b[0m\u001b[0;34m\u001b[0m\u001b[0;34m\u001b[0m\u001b[0;34m\u001b[0m\u001b[0m\n",
      "\u001b[0;31mValueError\u001b[0m: Unsuccessful TensorSliceReader constructor: Failed to get matching files on nets/sindy_11/: Not found: nets/sindy_11; No such file or directory"
     ]
    }
   ],
   "source": [
    "sindy = SINDy()\n",
    "sindy.load_weights(\"nets/sindy_11/\")"
   ]
  },
  {
   "cell_type": "code",
   "execution_count": 18,
   "metadata": {},
   "outputs": [],
   "source": [
    "from sindy import SINDy\n",
    "sindy1 = SINDy()"
   ]
  },
  {
   "cell_type": "code",
   "execution_count": 20,
   "metadata": {},
   "outputs": [
    {
     "data": {
      "text/plain": [
       "'sin_dy_1'"
      ]
     },
     "execution_count": 20,
     "metadata": {},
     "output_type": "execute_result"
    }
   ],
   "source": [
    "sindy1.name"
   ]
  },
  {
   "cell_type": "code",
   "execution_count": 9,
   "metadata": {},
   "outputs": [
    {
     "data": {
      "text/plain": [
       "<tf.Variable 'Variable:0' shape=(3, 27) dtype=float32, numpy=\n",
       "array([[1., 1., 1., 1., 1., 1., 1., 1., 1., 1., 1., 1., 1., 1., 1., 1.,\n",
       "        1., 1., 1., 1., 1., 1., 1., 1., 1., 1., 1.],\n",
       "       [1., 1., 1., 1., 1., 1., 1., 1., 1., 1., 1., 1., 1., 1., 1., 1.,\n",
       "        1., 1., 1., 1., 1., 1., 1., 1., 1., 1., 1.],\n",
       "       [1., 1., 1., 1., 1., 1., 1., 1., 1., 1., 1., 1., 1., 1., 1., 1.,\n",
       "        1., 1., 1., 1., 1., 1., 1., 1., 1., 1., 1.]], dtype=float32)>"
      ]
     },
     "execution_count": 9,
     "metadata": {},
     "output_type": "execute_result"
    }
   ],
   "source": [
    "coeffs = tf.Variable(np.ones((3,27)).astype(np.float32), trainable=True, name=\"sindy/dense/kernel:0\")\n",
    "coeffs"
   ]
  },
  {
   "cell_type": "code",
   "execution_count": 58,
   "metadata": {},
   "outputs": [
    {
     "data": {
      "text/plain": [
       "[<tf.Variable 'Variable:0' shape=(3, 27) dtype=float32, numpy=\n",
       " array([[-2.48601614e-03,  8.35985005e-01, -1.08248937e+00,\n",
       "         -1.25054210e-01,  2.19034106e-01, -1.66024411e+00,\n",
       "         -1.19687581e+00, -4.92233634e-02,  8.97786766e-02,\n",
       "          3.82149875e-01,  9.09135304e-03,  2.49032676e-01,\n",
       "          7.79314060e-03,  5.54208532e-02, -8.83790329e-02,\n",
       "         -3.96450646e-02,  1.44127405e+00, -2.65611023e-01,\n",
       "          1.15535867e+00, -1.99022663e+00,  2.95111537e-01,\n",
       "          4.73870263e-02, -8.94377083e-02, -3.42485398e-01,\n",
       "          7.68711209e-01, -7.77051866e-01, -3.71877491e-01],\n",
       "        [ 6.50211632e-01, -8.26581493e-02,  1.02030349e+00,\n",
       "          7.19511807e-02, -5.15373468e-01,  3.45013499e-01,\n",
       "         -1.21267819e+00,  1.25622785e+00, -1.47071671e+00,\n",
       "         -9.12182629e-02,  5.38204551e-01,  7.74763823e-02,\n",
       "          1.82412457e+00,  1.05103528e+00,  1.50815874e-01,\n",
       "         -2.12940145e+00,  5.59756756e-01,  1.24723963e-01,\n",
       "          3.04355519e-04,  1.03763387e-01, -1.18920529e+00,\n",
       "         -5.02732277e-01,  8.50560144e-02, -1.16433874e-01,\n",
       "         -4.79921281e-01,  1.20499289e+00, -1.31372228e-01],\n",
       "        [-1.78177190e+00, -7.14079022e-01,  7.75838077e-01,\n",
       "         -1.00168817e-01, -8.87066824e-04,  1.69082141e+00,\n",
       "         -1.52236847e-02, -2.60558635e-01,  1.41545415e+00,\n",
       "          7.05273569e-01,  9.81083605e-03, -7.61689842e-02,\n",
       "          6.65922649e-03,  7.47608662e-01, -2.37315502e-02,\n",
       "          3.70270386e-02, -2.00944543e+00, -1.14102133e-01,\n",
       "          6.15521055e-03, -1.61331522e+00,  1.06117666e-01,\n",
       "          1.80268836e+00,  1.20694137e+00, -1.88609922e+00,\n",
       "         -1.07165205e+00, -4.62751269e-01, -1.28500748e+00]], dtype=float32)>]"
      ]
     },
     "execution_count": 58,
     "metadata": {},
     "output_type": "execute_result"
    }
   ],
   "source": [
    "sindy.weigths"
   ]
  },
  {
   "cell_type": "code",
   "execution_count": null,
   "metadata": {},
   "outputs": [],
   "source": []
  }
 ],
 "metadata": {
  "kernelspec": {
   "display_name": "mateconda",
   "language": "python",
   "name": "mateconda"
  },
  "language_info": {
   "codemirror_mode": {
    "name": "ipython",
    "version": 3
   },
   "file_extension": ".py",
   "mimetype": "text/x-python",
   "name": "python",
   "nbconvert_exporter": "python",
   "pygments_lexer": "ipython3",
   "version": "3.9.5"
  }
 },
 "nbformat": 4,
 "nbformat_minor": 5
}
