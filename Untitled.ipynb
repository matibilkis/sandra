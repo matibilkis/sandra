{
 "cells": [
  {
   "cell_type": "code",
   "execution_count": 3,
   "metadata": {},
   "outputs": [],
   "source": [
    "import tensorflow as tf \n",
    "from networks import *\n",
    "from sindy import SINDy"
   ]
  },
  {
   "cell_type": "code",
   "execution_count": 4,
   "metadata": {},
   "outputs": [],
   "source": [
    "sindy = SINDy()"
   ]
  },
  {
   "cell_type": "code",
   "execution_count": 5,
   "metadata": {},
   "outputs": [
    {
     "data": {
      "text/plain": [
       "<tensorflow.python.training.tracking.util.CheckpointLoadStatus at 0x2b79f356fb00>"
      ]
     },
     "execution_count": 5,
     "metadata": {},
     "output_type": "execute_result"
    }
   ],
   "source": [
    "sindy.load_weights(\"/data/uab-giq/scratch/matias/sandra/networks/sindy/\")"
   ]
  },
  {
   "cell_type": "code",
   "execution_count": 6,
   "metadata": {},
   "outputs": [
    {
     "data": {
      "text/plain": [
       "<tf.Variable 'Variable:0' shape=(3, 27) dtype=float32, numpy=\n",
       "array([[ 8.02685201e-01,  3.39303486e-04, -3.90773593e-03,\n",
       "        -3.81930557e-04, -1.84401404e-04, -2.67897472e-02,\n",
       "        -3.54708880e-02,  9.58607561e-05, -1.85033698e-02,\n",
       "        -3.96843505e-04, -3.25702655e-04,  2.13760854e-04,\n",
       "        -1.36455595e-01,  1.66915299e-04,  2.11052698e-04,\n",
       "         2.16224318e-04,  1.60501251e-04, -8.79239960e-05,\n",
       "        -2.00063497e-01, -8.08247086e-03,  1.36346761e-02,\n",
       "        -7.45130097e-03, -3.99232318e-04, -1.10891182e-03,\n",
       "         2.89487727e-02, -1.41393365e-02, -3.61248240e-05],\n",
       "       [-4.50575171e-04,  5.66833653e-04,  2.83685595e-01,\n",
       "         1.78886160e-01,  1.19404942e-01,  2.27805158e-05,\n",
       "         9.62569658e-03, -6.68003777e-05, -6.63599297e-02,\n",
       "         3.08735758e-01,  3.62992636e-04, -3.14929299e-02,\n",
       "        -3.57072509e-04, -1.53889628e-02, -2.17353634e-04,\n",
       "        -2.07849871e-02, -8.37613843e-05,  7.63986143e-04,\n",
       "         4.74343216e-03, -2.13170573e-02,  2.75784492e-04,\n",
       "         3.92695190e-03,  1.14502525e-03,  2.49104894e-04,\n",
       "         3.09356186e-03,  4.40404098e-03, -2.19008210e-03],\n",
       "       [ 1.00320540e-01,  2.38554329e-01,  1.99640563e-04,\n",
       "         1.55603349e-01,  2.15726788e-04, -9.47394117e-04,\n",
       "        -2.57892563e-04, -1.78098411e-03, -4.15651454e-03,\n",
       "        -7.06966817e-02, -1.13465801e-01,  3.24809138e-04,\n",
       "        -6.76350435e-04, -2.73030659e-04,  4.33986783e-02,\n",
       "        -1.47377854e-04,  3.02927811e-02,  6.39805803e-03,\n",
       "        -7.12940693e-02, -1.61219202e-02,  2.81077791e-02,\n",
       "         6.29252568e-03,  1.01480251e-02, -7.43067067e-05,\n",
       "         8.72606132e-03, -4.25644394e-04, -1.50094123e-03]], dtype=float32)>"
      ]
     },
     "execution_count": 6,
     "metadata": {},
     "output_type": "execute_result"
    }
   ],
   "source": [
    "sindy.coeffs"
   ]
  },
  {
   "cell_type": "code",
   "execution_count": null,
   "metadata": {},
   "outputs": [],
   "source": []
  }
 ],
 "metadata": {
  "kernelspec": {
   "display_name": "qenv_bilkis",
   "language": "python",
   "name": "qenv_bilkis"
  },
  "language_info": {
   "codemirror_mode": {
    "name": "ipython",
    "version": 3
   },
   "file_extension": ".py",
   "mimetype": "text/x-python",
   "name": "python",
   "nbconvert_exporter": "python",
   "pygments_lexer": "ipython3",
   "version": "3.6.8"
  }
 },
 "nbformat": 4,
 "nbformat_minor": 4
}
