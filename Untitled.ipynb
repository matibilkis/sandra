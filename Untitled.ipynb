{
 "cells": [
  {
   "cell_type": "code",
   "execution_count": 5,
   "id": "celtic-driving",
   "metadata": {},
   "outputs": [
    {
     "name": "stdout",
     "output_type": "stream",
     "text": [
      "The autoreload extension is already loaded. To reload it, use:\n",
      "  %reload_ext autoreload\n"
     ]
    }
   ],
   "source": [
    "%load_ext autoreload\n",
    "%autoreload 2"
   ]
  },
  {
   "cell_type": "code",
   "execution_count": 296,
   "id": "decent-dividend",
   "metadata": {},
   "outputs": [],
   "source": [
    "import tensorflow as tf\n",
    "from networks import Encoder, Decoder\n",
    "import numpy as np\n",
    "import ast\n",
    "from sindy import SINDy\n",
    "\n",
    "\n",
    "encoder = Encoder()\n",
    "decoder = Decoder()\n"
   ]
  },
  {
   "cell_type": "code",
   "execution_count": 297,
   "id": "broken-cable",
   "metadata": {},
   "outputs": [
    {
     "data": {
      "text/plain": [
       "5.059028870429015"
      ]
     },
     "execution_count": 297,
     "metadata": {},
     "output_type": "execute_result"
    }
   ],
   "source": [
    "x = tf.random.uniform((1,128))\n",
    "x_dot = tf.random.uniform((1,128))\n",
    "\n",
    "encoder = Encoder()\n",
    "encoder(x)\n",
    "\n",
    "sindy =SINDy()\n",
    "sindy(np.random.randn(3),0)"
   ]
  },
  {
   "cell_type": "code",
   "execution_count": 271,
   "id": "adequate-interest",
   "metadata": {},
   "outputs": [
    {
     "data": {
      "text/plain": [
       "[<tf.Tensor: shape=(128, 64), dtype=float32, numpy=\n",
       " array([[ 1.0379889e-08, -9.0848003e-11, -1.1276854e-09, ...,\n",
       "          1.3353073e-10, -5.0414484e-10, -9.0298160e-09],\n",
       "        [ 8.0751896e-08, -7.0676559e-10, -8.7729966e-09, ...,\n",
       "          1.0388221e-09, -3.9220698e-09, -7.0248802e-08],\n",
       "        [ 2.0648352e-07, -1.8072077e-09, -2.2432653e-08, ...,\n",
       "          2.6562803e-09, -1.0028778e-08, -1.7962699e-07],\n",
       "        ...,\n",
       "        [ 1.0263332e-07, -8.9827862e-10, -1.1150225e-08, ...,\n",
       "          1.3203130e-09, -4.9848374e-09, -8.9284200e-08],\n",
       "        [ 5.6879184e-08, -4.9782423e-10, -6.1794325e-09, ...,\n",
       "          7.3171486e-10, -2.7625868e-09, -4.9481123e-08],\n",
       "        [ 1.8612012e-07, -1.6289808e-09, -2.0220345e-08, ...,\n",
       "          2.3943179e-09, -9.0397396e-09, -1.6191218e-07]], dtype=float32)>,\n",
       " <tf.Tensor: shape=(64,), dtype=float32, numpy=\n",
       " array([ 2.7325879e-07, -2.3916455e-09, -2.9687209e-08, -2.7190035e-08,\n",
       "        -1.4101587e-07, -2.4983262e-07,  2.3431937e-07,  9.5292940e-08,\n",
       "         2.2384569e-07, -9.8155828e-10, -2.4709036e-07, -8.4632930e-08,\n",
       "        -1.3474295e-07,  2.2414318e-07,  1.9681723e-07,  6.6636119e-08,\n",
       "        -2.2551837e-10,  3.8376308e-07,  6.4926532e-08,  4.5237751e-08,\n",
       "        -9.2694336e-08,  8.7782198e-08, -2.1461322e-07,  3.2115761e-08,\n",
       "         4.2807606e-08,  3.5961850e-08,  1.0170147e-07, -1.6184528e-07,\n",
       "         1.1350661e-07,  5.9440254e-08,  9.1678451e-08, -3.6570248e-07,\n",
       "         1.0664518e-08, -1.1319663e-07, -5.9433052e-08,  1.4139529e-07,\n",
       "        -1.3422837e-07, -2.6485080e-07, -4.9403308e-08, -1.8561818e-07,\n",
       "         2.0796591e-08, -3.6941980e-08,  6.3128468e-08, -6.4402926e-08,\n",
       "         2.4075511e-08,  1.6439952e-07,  7.7361264e-08, -1.3272967e-07,\n",
       "         1.2543651e-07,  2.2710040e-07, -2.5571597e-07,  7.2632616e-08,\n",
       "        -1.2629492e-08,  1.6078921e-08,  1.6890588e-07, -5.2262767e-08,\n",
       "         2.0240218e-07, -3.0151017e-07, -6.9032865e-08,  2.5999316e-07,\n",
       "        -2.1403234e-07,  3.5153020e-09, -1.3272011e-08, -2.3771706e-07],\n",
       "       dtype=float32)>,\n",
       " <tf.Tensor: shape=(64, 32), dtype=float32, numpy=\n",
       " array([[ 1.3608585e-06, -3.1087546e-07, -1.8050627e-06, ...,\n",
       "         -8.7757599e-07,  1.3468300e-06, -7.9353953e-07],\n",
       "        [ 1.5898256e-06, -3.6318087e-07, -2.1087681e-06, ...,\n",
       "         -1.0252298e-06,  1.5734367e-06, -9.2705409e-07],\n",
       "        [ 7.9588648e-07, -1.8181285e-07, -1.0556755e-06, ...,\n",
       "         -5.1324281e-07,  7.8768204e-07, -4.6409482e-07],\n",
       "        ...,\n",
       "        [ 1.4014510e-06, -3.2014842e-07, -1.8589052e-06, ...,\n",
       "         -9.0375278e-07,  1.3870040e-06, -8.1720964e-07],\n",
       "        [ 7.9052171e-07, -1.8058734e-07, -1.0485596e-06, ...,\n",
       "         -5.0978326e-07,  7.8237258e-07, -4.6096653e-07],\n",
       "        [ 1.4830543e-06, -3.3878996e-07, -1.9671452e-06, ...,\n",
       "         -9.5637631e-07,  1.4677662e-06, -8.6479400e-07]], dtype=float32)>,\n",
       " <tf.Tensor: shape=(32,), dtype=float32, numpy=\n",
       " array([ 2.9795317e-06, -6.8064628e-07, -3.9520946e-06, -2.6884957e-06,\n",
       "        -1.8600754e-06,  7.5666736e-07, -9.1011111e-07, -1.6028101e-06,\n",
       "        -3.1068464e-06,  7.8433050e-07, -2.2941876e-07,  2.4229369e-06,\n",
       "         5.1534050e-07, -1.7466377e-06, -2.1554081e-06,  4.5739580e-06,\n",
       "        -6.8196977e-07,  1.1015976e-06, -4.0873588e-06, -1.4631381e-06,\n",
       "        -2.9344067e-06,  6.0270605e-07, -1.0820729e-06,  2.5530358e-06,\n",
       "        -5.0154995e-07, -1.6066635e-06,  2.6828738e-07, -1.5922188e-07,\n",
       "         7.5574866e-07, -1.9214087e-06,  2.9488169e-06, -1.7374151e-06],\n",
       "       dtype=float32)>,\n",
       " <tf.Tensor: shape=(32, 3), dtype=float32, numpy=\n",
       " array([[ 5.63982394e-05,  6.56366319e-05, -1.82818003e-05],\n",
       "        [ 5.30095713e-05,  6.16928810e-05, -1.71833453e-05],\n",
       "        [ 5.65026967e-05,  6.57581986e-05, -1.83156608e-05],\n",
       "        [ 5.48023345e-05,  6.37793055e-05, -1.77644797e-05],\n",
       "        [ 4.55774098e-05,  5.30432808e-05, -1.47741694e-05],\n",
       "        [ 5.57912317e-05,  6.49301946e-05, -1.80850366e-05],\n",
       "        [ 4.63669930e-05,  5.39622015e-05, -1.50301175e-05],\n",
       "        [ 4.94002270e-05,  5.74922997e-05, -1.60133568e-05],\n",
       "        [ 5.55432744e-05,  6.46416156e-05, -1.80046591e-05],\n",
       "        [ 5.47293566e-05,  6.36943732e-05, -1.77408238e-05],\n",
       "        [ 4.86367353e-05,  5.66037452e-05, -1.57658669e-05],\n",
       "        [ 5.23664930e-05,  6.09444578e-05, -1.69748873e-05],\n",
       "        [ 5.62647147e-05,  6.54812320e-05, -1.82385193e-05],\n",
       "        [ 5.15032916e-05,  5.99398591e-05, -1.66950776e-05],\n",
       "        [ 5.60143562e-05,  6.51898663e-05, -1.81573632e-05],\n",
       "        [ 5.58310167e-05,  6.49764916e-05, -1.80979332e-05],\n",
       "        [ 6.00903222e-05,  6.99334996e-05, -1.94786098e-05],\n",
       "        [ 5.53059144e-05,  6.43653766e-05, -1.79277176e-05],\n",
       "        [ 5.11555445e-05,  5.95351485e-05, -1.65823531e-05],\n",
       "        [ 3.82682119e-05,  4.45367878e-05, -1.24048520e-05],\n",
       "        [ 5.46267693e-05,  6.35749821e-05, -1.77075690e-05],\n",
       "        [ 5.28247183e-05,  6.14777455e-05, -1.71234242e-05],\n",
       "        [ 6.81968231e-05,  7.93678919e-05, -2.21063765e-05],\n",
       "        [ 4.79300725e-05,  5.57813219e-05, -1.55367979e-05],\n",
       "        [ 5.35399486e-05,  6.23101296e-05, -1.73552689e-05],\n",
       "        [ 4.51323940e-05,  5.25253672e-05, -1.46299144e-05],\n",
       "        [ 4.98777408e-05,  5.80480337e-05, -1.61681455e-05],\n",
       "        [ 5.37715823e-05,  6.25797111e-05, -1.74303550e-05],\n",
       "        [ 5.81075001e-05,  6.76258787e-05, -1.88358681e-05],\n",
       "        [ 4.74993649e-05,  5.52800666e-05, -1.53971814e-05],\n",
       "        [ 5.10133614e-05,  5.93696750e-05, -1.65362635e-05],\n",
       "        [ 5.49006945e-05,  6.38937781e-05, -1.77963648e-05]], dtype=float32)>,\n",
       " <tf.Tensor: shape=(3,), dtype=float32, numpy=array([ 1.0513127e-04,  1.2235245e-04, -3.4078883e-05], dtype=float32)>]"
      ]
     },
     "execution_count": 271,
     "metadata": {},
     "output_type": "execute_result"
    }
   ],
   "source": [
    "with tf.GradientTape(persistent=True) as tape0:\n",
    "    tape0.watch(encoder.trainable_variables)\n",
    "    z = encoder(x)\n",
    "    tape0.watch(z)\n",
    "\n",
    "    x_quasi = decoder(z)\n",
    "    tape0.watch(x_quasi)\n",
    "    \n",
    "    loss0 = tf.keras.losses.MSE(x,x_quasi)\n",
    "tape0.gradient(loss0,encoder.trainable_variables)"
   ]
  },
  {
   "cell_type": "code",
   "execution_count": 268,
   "id": "entire-fantasy",
   "metadata": {},
   "outputs": [
    {
     "data": {
      "text/plain": [
       "[None, None, None, None, None, None]"
      ]
     },
     "execution_count": 268,
     "metadata": {},
     "output_type": "execute_result"
    }
   ],
   "source": []
  },
  {
   "cell_type": "code",
   "execution_count": 295,
   "id": "dramatic-organic",
   "metadata": {},
   "outputs": [
    {
     "name": "stdout",
     "output_type": "stream",
     "text": [
      "WARNING:tensorflow:11 out of the last 11 calls to <function pfor.<locals>.f at 0x7fab59597378> triggered tf.function retracing. Tracing is expensive and the excessive number of tracings could be due to (1) creating @tf.function repeatedly in a loop, (2) passing tensors with different shapes, (3) passing Python objects instead of tensors. For (1), please define your @tf.function outside of the loop. For (2), @tf.function has experimental_relax_shapes=True option that relaxes argument shapes that can avoid unnecessary retracing. For (3), please refer to https://www.tensorflow.org/tutorials/customization/performance#python_or_tensor_args and https://www.tensorflow.org/api_docs/python/tf/function for  more details.\n",
      "WARNING:tensorflow:11 out of the last 11 calls to <function pfor.<locals>.f at 0x7fab58bd0510> triggered tf.function retracing. Tracing is expensive and the excessive number of tracings could be due to (1) creating @tf.function repeatedly in a loop, (2) passing tensors with different shapes, (3) passing Python objects instead of tensors. For (1), please define your @tf.function outside of the loop. For (2), @tf.function has experimental_relax_shapes=True option that relaxes argument shapes that can avoid unnecessary retracing. For (3), please refer to https://www.tensorflow.org/tutorials/customization/performance#python_or_tensor_args and https://www.tensorflow.org/api_docs/python/tf/function for  more details.\n",
      "WARNING:tensorflow:11 out of the last 11 calls to <function pfor.<locals>.f at 0x7fab59d70048> triggered tf.function retracing. Tracing is expensive and the excessive number of tracings could be due to (1) creating @tf.function repeatedly in a loop, (2) passing tensors with different shapes, (3) passing Python objects instead of tensors. For (1), please define your @tf.function outside of the loop. For (2), @tf.function has experimental_relax_shapes=True option that relaxes argument shapes that can avoid unnecessary retracing. For (3), please refer to https://www.tensorflow.org/tutorials/customization/performance#python_or_tensor_args and https://www.tensorflow.org/api_docs/python/tf/function for  more details.\n"
     ]
    }
   ],
   "source": [
    "### LOSS 0 and 1 ###\n",
    "with tf.GradientTape(persistent=True) as tape0:\n",
    "    tape0.watch(x)\n",
    "    tape0.watch(encoder.trainable_variables)\n",
    "    tape0.watch(decoder.trainable_variables)\n",
    "    tape0.watch(tf.convert_to_tensor(sindy.sindy_coeffs))\n",
    "    z = encoder(x)\n",
    "    tape0.watch(z)\n",
    "    x_quasi = decoder(z)\n",
    "\n",
    "    loss0 = tf.keras.losses.MSE(x,x_quasi)\n",
    "\n",
    "    zdot_sindy = tf.cast(tf.expand_dims(np.array([sindy(np.squeeze(z),k) for k in range(3)]), axis=0),tf.float32)\n",
    "    \n",
    "    with tape0.stop_recording():\n",
    "        dpsi_dz = tf.squeeze(tape0.jacobian(x_quasi, z))\n",
    "    xdot_pred = tf.matmul(zdot_sindy,dpsi_dz, transpose_b=True)\n",
    "    loss1 = tf.keras.losses.MSE(x_dot,xdot_pred )\n",
    "\n",
    "    ### LOSS 2 and 4 ###\n",
    "    \n",
    "    with tape0.stop_recording():\n",
    "        dphi_dx = tf.squeeze(tape0.jacobian(z,x))\n",
    "    #tf.einsum('ij,j->i', dphi_dx, tf.squeeze(x_dot))\n",
    "    zdot_pred = tf.matmul(x_dot, dphi_dx, transpose_b=True)\n",
    "    encoder_output = np.squeeze(encoder(x))\n",
    "    zdot_sindy = tf.expand_dims(np.array([sindy(encoder_output,k) for k in range(3)]), axis=0)\n",
    "    loss2 = tf.cast(tf.keras.losses.MSE(zdot_pred, zdot_sindy),tf.float32)\n",
    "\n",
    "    with tape0.stop_recording():\n",
    "        dphi_dx = tf.squeeze(tape0.jacobian(z,x))\n",
    "    #tf.einsum('ij,j->i', dphi_dx, tf.squeeze(x_dot))\n",
    "    zdot_pred = tf.matmul(x_dot, dphi_dx, transpose_b=True)\n",
    "    loss3 = tf.cast(tf.keras.losses.MSE(zdot_pred, zdot_sindy),tf.float32)\n",
    "\n",
    "    loss4 = tf.cast(tf.expand_dims(np.sum(tf.abs(sindy.sindy_coeffs)),axis=0),tf.float32)\n",
    "\n",
    "    total_loss = loss0 + loss1 + loss2 + loss3"
   ]
  },
  {
   "cell_type": "code",
   "execution_count": 277,
   "id": "regulation-estimate",
   "metadata": {},
   "outputs": [
    {
     "data": {
      "text/plain": [
       "6"
      ]
     },
     "execution_count": 277,
     "metadata": {},
     "output_type": "execute_result"
    }
   ],
   "source": [
    "len(tape0.gradient(total_loss,decoder.trainable_variables))"
   ]
  },
  {
   "cell_type": "code",
   "execution_count": 286,
   "id": "fantastic-concentration",
   "metadata": {},
   "outputs": [],
   "source": [
    "grads  = tape0.gradient(total_loss,decoder.trainable_variables)"
   ]
  },
  {
   "cell_type": "code",
   "execution_count": 294,
   "id": "exciting-generator",
   "metadata": {},
   "outputs": [],
   "source": [
    "tape0.gradient(total_loss, tf.convert_to_tensor(sindy.sindy_coeffs))"
   ]
  },
  {
   "cell_type": "code",
   "execution_count": 289,
   "id": "golden-surfing",
   "metadata": {},
   "outputs": [
    {
     "name": "stdout",
     "output_type": "stream",
     "text": [
      "Model: \"encoder_5\"\n",
      "_________________________________________________________________\n",
      "Layer (type)                 Output Shape              Param #   \n",
      "=================================================================\n",
      "dense_24 (Dense)             multiple                  8256      \n",
      "_________________________________________________________________\n",
      "dense_25 (Dense)             multiple                  2080      \n",
      "_________________________________________________________________\n",
      "dense_26 (Dense)             multiple                  99        \n",
      "=================================================================\n",
      "Total params: 10,435\n",
      "Trainable params: 10,435\n",
      "Non-trainable params: 0\n",
      "_________________________________________________________________\n"
     ]
    }
   ],
   "source": [
    "encoder.summary()"
   ]
  },
  {
   "cell_type": "code",
   "execution_count": null,
   "id": "relative-twins",
   "metadata": {},
   "outputs": [],
   "source": [
    "coeffs = np.ones((3,)+tuple([3]*3))\n",
    "coeffs.shape"
   ]
  },
  {
   "cell_type": "code",
   "execution_count": null,
   "id": "optional-butterfly",
   "metadata": {},
   "outputs": [],
   "source": [
    "sindy_coeffs, theta_values =np.zeros((2,27))\n"
   ]
  },
  {
   "cell_type": "code",
   "execution_count": null,
   "id": "aerial-vision",
   "metadata": {},
   "outputs": [],
   "source": [
    "coeffs[indi]"
   ]
  },
  {
   "cell_type": "code",
   "execution_count": null,
   "id": "sophisticated-steam",
   "metadata": {},
   "outputs": [],
   "source": [
    "index_to_list[0]"
   ]
  },
  {
   "cell_type": "code",
   "execution_count": null,
   "id": "numeric-opening",
   "metadata": {},
   "outputs": [],
   "source": [
    "index_to_list"
   ]
  },
  {
   "cell_type": "code",
   "execution_count": null,
   "id": "determined-field",
   "metadata": {},
   "outputs": [],
   "source": [
    "[0]"
   ]
  },
  {
   "cell_type": "code",
   "execution_count": null,
   "id": "continental-archives",
   "metadata": {},
   "outputs": [],
   "source": []
  }
 ],
 "metadata": {
  "kernelspec": {
   "display_name": "Python 3",
   "language": "python",
   "name": "python3"
  },
  "language_info": {
   "codemirror_mode": {
    "name": "ipython",
    "version": 3
   },
   "file_extension": ".py",
   "mimetype": "text/x-python",
   "name": "python",
   "nbconvert_exporter": "python",
   "pygments_lexer": "ipython3",
   "version": "3.6.9"
  }
 },
 "nbformat": 4,
 "nbformat_minor": 5
}
